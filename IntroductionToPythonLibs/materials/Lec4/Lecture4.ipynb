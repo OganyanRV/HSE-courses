{
 "cells": [
  {
   "cell_type": "markdown",
   "id": "1e023b19",
   "metadata": {},
   "source": [
    "# Let's train a classifier\n",
    "\n",
    "Stolen from https://pytorch.org/tutorials/beginner/blitz/cifar10_tutorial.html"
   ]
  },
  {
   "cell_type": "code",
   "execution_count": 102,
   "id": "0f29bec9",
   "metadata": {},
   "outputs": [],
   "source": [
    "import torch\n",
    "import torchvision\n",
    "import torchvision.transforms as transforms"
   ]
  },
  {
   "cell_type": "code",
   "execution_count": 103,
   "id": "23926471",
   "metadata": {},
   "outputs": [
    {
     "name": "stdout",
     "output_type": "stream",
     "text": [
      "Files already downloaded and verified\n",
      "Files already downloaded and verified\n"
     ]
    }
   ],
   "source": [
    "transform = transforms.Compose(\n",
    "    [transforms.ToTensor(),\n",
    "     transforms.Normalize((0.5, 0.5, 0.5), (0.5, 0.5, 0.5))])\n",
    "\n",
    "batch_size = 4\n",
    "\n",
    "trainset = torchvision.datasets.CIFAR10(root='./data', train=True,\n",
    "                                        download=True, transform=transform)\n",
    "trainloader = torch.utils.data.DataLoader(trainset, batch_size=batch_size,\n",
    "                                          shuffle=True, num_workers=2)\n",
    "\n",
    "testset = torchvision.datasets.CIFAR10(root='./data', train=False,\n",
    "                                       download=True, transform=transform)\n",
    "testloader = torch.utils.data.DataLoader(testset, batch_size=batch_size,\n",
    "                                         shuffle=False, num_workers=2)\n",
    "\n",
    "classes = ('plane', 'car', 'bird', 'cat',\n",
    "           'deer', 'dog', 'frog', 'horse', 'ship', 'truck')"
   ]
  },
  {
   "cell_type": "code",
   "execution_count": 104,
   "id": "65e0c097",
   "metadata": {},
   "outputs": [
    {
     "data": {
      "image/png": "[encoded data removed]",
      "text/plain": [
       "<Figure size 640x480 with 1 Axes>"
      ]
     },
     "metadata": {},
     "output_type": "display_data"
    },
    {
     "name": "stdout",
     "output_type": "stream",
     "text": [
      "horse car   dog   truck\n"
     ]
    }
   ],
   "source": [
    "import matplotlib.pyplot as plt\n",
    "import numpy as np\n",
    "\n",
    "# functions to show an image\n",
    "\n",
    "\n",
    "def imshow(img):\n",
    "    img = img / 2 + 0.5     # unnormalize\n",
    "    npimg = img.numpy()\n",
    "    plt.imshow(np.transpose(npimg, (1, 2, 0)))\n",
    "    plt.show()\n",
    "\n",
    "\n",
    "# get some random training images\n",
    "dataiter = iter(trainloader)\n",
    "images, labels = next(dataiter)\n",
    "\n",
    "# show images\n",
    "imshow(torchvision.utils.make_grid(images))\n",
    "# print labels\n",
    "print(' '.join(f'{classes[labels[j]]:5s}' for j in range(batch_size)))"
   ]
  },
  {
   "cell_type": "code",
   "execution_count": 105,
   "id": "b86d8a07",
   "metadata": {},
   "outputs": [],
   "source": [
    "import torch.nn as nn\n",
    "import torch.nn.functional as F\n",
    "\n",
    "\n",
    "class Net(nn.Module):\n",
    "    def __init__(self):\n",
    "        super().__init__()\n",
    "        self.conv1 = nn.Conv2d(in_channels=3, out_channels=6, kernel_size=(5,5))\n",
    "        self.pool = nn.MaxPool2d(2, 2)\n",
    "        self.conv2 = nn.Conv2d(6, 16, 5)\n",
    "        self.fc1 = nn.Linear(16 * 5 * 5, 120, bias=False)\n",
    "        self.fc2 = nn.Linear(120, 84)\n",
    "        self.fc3 = nn.Linear(84, 10)\n",
    "\n",
    "    def forward(self, x):\n",
    "        x = self.pool(F.relu(self.conv1(x)))\n",
    "        x = self.pool(F.relu(self.conv2(x)))\n",
    "        x = torch.flatten(x, 1) # flatten all dimensions except batch\n",
    "        x = F.relu(self.fc1(x))\n",
    "        x = F.relu(self.fc2(x))\n",
    "        x = self.fc3(x)\n",
    "        return x\n",
    "\n",
    "\n",
    "net = Net()"
   ]
  },
  {
   "cell_type": "code",
   "execution_count": 106,
   "id": "688c1b50",
   "metadata": {},
   "outputs": [],
   "source": [
    "import torch.optim as optim\n",
    "\n",
    "criterion = nn.CrossEntropyLoss()\n",
    "optimizer = optim.SGD(net.parameters(), lr=0.001, momentum=0.9)"
   ]
  },
  {
   "cell_type": "code",
   "execution_count": 108,
   "id": "af8ea842",
   "metadata": {},
   "outputs": [
    {
     "name": "stdout",
     "output_type": "stream",
     "text": [
      "[1,  2000] loss: 2.161\n",
      "[1,  4000] loss: 1.814\n",
      "[1,  6000] loss: 1.668\n",
      "[1,  8000] loss: 1.591\n",
      "[1, 10000] loss: 1.520\n",
      "[1, 12000] loss: 1.471\n",
      "[2,  2000] loss: 1.396\n",
      "[2,  4000] loss: 1.386\n",
      "[2,  6000] loss: 1.338\n",
      "[2,  8000] loss: 1.353\n",
      "[2, 10000] loss: 1.293\n",
      "[2, 12000] loss: 1.278\n",
      "Finished Training\n"
     ]
    }
   ],
   "source": [
    "for epoch in range(2):  # loop over the dataset multiple times\n",
    "\n",
    "    running_loss = 0.0\n",
    "    for i, data in enumerate(trainloader, 0):\n",
    "        # get the inputs; data is a list of [inputs, labels]\n",
    "        inputs, labels = data\n",
    "\n",
    "        # zero the parameter gradients\n",
    "        optimizer.zero_grad()\n",
    "\n",
    "        # forward + backward + optimize\n",
    "        outputs = net(inputs)\n",
    "        loss = criterion(outputs, labels)\n",
    "        loss.backward()\n",
    "        optimizer.step()\n",
    "\n",
    "        # print statistics\n",
    "        running_loss += loss.item()\n",
    "        if i % 2000 == 1999:    # print every 2000 mini-batches\n",
    "            print(f'[{epoch + 1}, {i + 1:5d}] loss: {running_loss / 2000:.3f}')\n",
    "            running_loss = 0.0\n",
    "\n",
    "print('Finished Training')"
   ]
  },
  {
   "cell_type": "code",
   "execution_count": 109,
   "id": "75e10220",
   "metadata": {},
   "outputs": [
    {
     "name": "stdout",
     "output_type": "stream",
     "text": [
      "Accuracy of the network on the 10000 test images: 54 %\n"
     ]
    }
   ],
   "source": [
    "correct = 0\n",
    "total = 0\n",
    "# since we're not training, we don't need to calculate the gradients for our outputs\n",
    "with torch.no_grad():\n",
    "    for data in testloader:\n",
    "        images, labels = data\n",
    "        # calculate outputs by running images through the network\n",
    "        outputs = net(images)\n",
    "        # the class with the highest energy is what we choose as prediction\n",
    "        _, predicted = torch.max(outputs.data, 1)\n",
    "        total += labels.size(0)\n",
    "        correct += (predicted == labels).sum().item()\n",
    "\n",
    "print(f'Accuracy of the network on the 10000 test images: {100 * correct // total} %')"
   ]
  },
  {
   "cell_type": "markdown",
   "id": "5f6decc0",
   "metadata": {},
   "source": [
    "### Let's replace Linear layer with a Conv2d layer. Just for fun. \n",
    "\n",
    "#### We'll see how  the weights are working and see that it's no big deal to operate them as usual data"
   ]
  },
  {
   "cell_type": "code",
   "execution_count": 115,
   "id": "aac35093",
   "metadata": {},
   "outputs": [
    {
     "data": {
      "text/plain": [
       "(torch.Size([120, 400]), tensor(0.0426))"
      ]
     },
     "execution_count": 115,
     "metadata": {},
     "output_type": "execute_result"
    }
   ],
   "source": [
    "net.fc1.weight.data.shape, net.fc1.weight.data.std()"
   ]
  },
  {
   "cell_type": "code",
   "execution_count": 117,
   "id": "5041dc0d",
   "metadata": {},
   "outputs": [
    {
     "name": "stdout",
     "output_type": "stream",
     "text": [
      "odict_keys(['conv1.weight', 'conv1.bias', 'conv2.weight', 'conv2.bias', 'fc1.weight', 'fc2.weight', 'fc2.bias', 'fc3.weight', 'fc3.bias'])\n",
      "torch.Size([120, 400, 1, 1]) torch.Size([120, 400])\n"
     ]
    },
    {
     "data": {
      "text/plain": [
       "<All keys matched successfully>"
      ]
     },
     "execution_count": 117,
     "metadata": {},
     "output_type": "execute_result"
    }
   ],
   "source": [
    "class Net_with_conv_instead_of_lin(nn.Module):\n",
    "    def __init__(self):\n",
    "        super().__init__()\n",
    "        self.conv1 = nn.Conv2d(3, 6, 5)\n",
    "        self.pool = nn.MaxPool2d(2, 2)\n",
    "        self.conv2 = nn.Conv2d(6, 16, 5)\n",
    "        self.fc1 = nn.Conv2d(16 * 5 * 5, 120, kernel_size=(1,1))\n",
    "#         self.fc1 = nn.Linear(16 * 5 * 5, 120)\n",
    "        self.fc2 = nn.Linear(120, 84)\n",
    "        self.fc3 = nn.Linear(84, 10)\n",
    "\n",
    "    def forward(self, x):\n",
    "        x = self.pool(F.relu(self.conv1(x)))\n",
    "        x = self.pool(F.relu(self.conv2(x)))\n",
    "        x = x.reshape(x.shape[0], np.prod(x.shape[1:]), 1, 1)\n",
    "        x = F.relu(self.fc1(x))\n",
    "        x = x.squeeze(-1).squeeze(-1)\n",
    "        x = F.relu(self.fc2(x))\n",
    "        x = self.fc3(x)\n",
    "        return x\n",
    "\n",
    "\n",
    "net2 = Net_with_conv_instead_of_lin()\n",
    "state_dict_prev = net.state_dict()\n",
    "state_dict2 = net2.state_dict()\n",
    "print(state_dict_prev.keys())\n",
    "for key in state_dict_prev:\n",
    "    if key != 'fc1.weight':\n",
    "        state_dict2[key] = state_dict_prev[key]\n",
    "    else:\n",
    "        print(state_dict2[key].shape, state_dict_prev[key].shape)\n",
    "        state_dict2[key][:, :, 0, 0] = state_dict_prev[key]\n",
    "net2.load_state_dict(state_dict2)"
   ]
  },
  {
   "cell_type": "code",
   "execution_count": 118,
   "id": "66875881",
   "metadata": {},
   "outputs": [
    {
     "name": "stdout",
     "output_type": "stream",
     "text": [
      "Accuracy of the network on the 10000 test images: 54 %\n"
     ]
    }
   ],
   "source": [
    "correct = 0\n",
    "total = 0\n",
    "# since we're not training, we don't need to calculate the gradients for our outputs\n",
    "with torch.no_grad():\n",
    "    for data in testloader:\n",
    "        images, labels = data\n",
    "        # calculate outputs by running images through the network\n",
    "        outputs = net2(images)\n",
    "        # the class with the highest energy is what we choose as prediction\n",
    "        _, predicted = torch.max(outputs.data, 1)\n",
    "        total += labels.size(0)\n",
    "        correct += (predicted == labels).sum().item()\n",
    "\n",
    "print(f'Accuracy of the network on the 10000 test images: {100 * correct // total} %')"
   ]
  },
  {
   "cell_type": "markdown",
   "id": "59ce2a51",
   "metadata": {},
   "source": [
    "### What about the inference time? Is there any difference between backends?"
   ]
  },
  {
   "cell_type": "code",
   "execution_count": 119,
   "id": "c0556624",
   "metadata": {},
   "outputs": [
    {
     "name": "stdout",
     "output_type": "stream",
     "text": [
      "Conv model 0.007206981182098389\n",
      "Linear model 0.0005179286003112793\n"
     ]
    }
   ],
   "source": [
    "import time\n",
    "t0 = time.time()\n",
    "for _ in range(100):\n",
    "    net2(images)\n",
    "print(\"Conv model\", (time.time() - t0) / 100)\n",
    "t0 = time.time()\n",
    "for _ in range(100):\n",
    "    net(images)\n",
    "print(\"Linear model\", (time.time() - t0) / 100)"
   ]
  },
  {
   "cell_type": "markdown",
   "id": "b4bde016",
   "metadata": {},
   "source": [
    "Yep, there is a difference between backends, which depends on the device, input shapes, etc. \n",
    "\n",
    "Iterating over equivalent operations can speed up the network without the need to retrain it (e.g., see https://cs.stanford.edu/~padon/taso-sosp19.pdf)."
   ]
  },
  {
   "cell_type": "markdown",
   "id": "23ea2636",
   "metadata": {},
   "source": [
    "## Let's compile this model!"
   ]
  },
  {
   "cell_type": "code",
   "execution_count": 120,
   "id": "c3156cbe",
   "metadata": {},
   "outputs": [],
   "source": [
    "# Providing input and output names sets the display names for values\n",
    "# within the model's graph. Setting these does not change the semantics\n",
    "# of the graph; it is only for readability.\n",
    "#\n",
    "# The inputs to the network consist of the flat list of inputs (i.e.\n",
    "# the values you would pass to the forward() method) followed by the\n",
    "# flat list of parameters. You can partially specify names, i.e. provide\n",
    "# a list here shorter than the number of inputs to the model, and we will\n",
    "# only set that subset of names, starting from the beginning.\n",
    "input_names = [\"actual_input_1\"]\n",
    "output_names = [ \"output1\" ]\n",
    "dummy_input = torch.zeros_like(images)\n",
    "torch.onnx.export(net, dummy_input, \"some_net.onnx\", input_names=input_names, output_names=output_names)"
   ]
  },
  {
   "cell_type": "code",
   "execution_count": 122,
   "id": "ae4c4578",
   "metadata": {},
   "outputs": [
    {
     "name": "stdout",
     "output_type": "stream",
     "text": [
      "-rw-r--r-- 1 ashilov2 domain users 249160 Dec  2 16:37 ./some_net.onnx\r\n"
     ]
    }
   ],
   "source": [
    "!ls -al ./some_net.onnx"
   ]
  },
  {
   "cell_type": "markdown",
   "id": "04e66276",
   "metadata": {},
   "source": [
    "We received an .onnx file. Such representations can be much easier embedded in any programming language on any device, than a PyTorch model. \n",
    "\n",
    "They usually don't have PyTorch on the smart fridges."
   ]
  },
  {
   "cell_type": "code",
   "execution_count": 123,
   "id": "1c0bf431",
   "metadata": {},
   "outputs": [],
   "source": [
    "import onnxruntime"
   ]
  },
  {
   "cell_type": "code",
   "execution_count": 124,
   "id": "282ca096",
   "metadata": {},
   "outputs": [
    {
     "name": "stdout",
     "output_type": "stream",
     "text": [
      "PyTorch latency 0.0006494307518005371\n",
      "Onnxruntime latency 0.00019600391387939454\n"
     ]
    }
   ],
   "source": [
    "t0 = time.time()\n",
    "for _ in range(100):\n",
    "    with torch.no_grad():\n",
    "        net(images)\n",
    "print(\"PyTorch latency\", (time.time() - t0) / 100)\n",
    "\n",
    "ort_sess = onnxruntime.InferenceSession('some_net.onnx')\n",
    "images_np = images.numpy()\n",
    "t0 = time.time()\n",
    "for _ in range(100):\n",
    "    outputs = ort_sess.run(None, {'actual_input_1': images_np})\n",
    "print(\"Onnxruntime latency\", (time.time() - t0) / 100)"
   ]
  },
  {
   "cell_type": "markdown",
   "id": "2ac2be9a",
   "metadata": {},
   "source": [
    "We have just received an x2.5 inference speed up by selecting an appropriate runtime.\n",
    "\n",
    "There are several runtimes which you might wanna try when speeding up the model, e.g. TVM https://tvm.apache.org/ . Each framework has its own set of the optimization techniques and might provide a different result.\n",
    "\n",
    "For Nvidia, you might wanna use TensorRT https://github.com/NVIDIA/TensorRT"
   ]
  },
  {
   "cell_type": "markdown",
   "id": "433099cc",
   "metadata": {},
   "source": [
    "## Quantization concept\n",
    "\n",
    "A C++ person might tell you that you're better use float64 when coding because the compilers are optimized for this precision.\n",
    "\n",
    "This is not true in neural networks. A standart scenario is to train the model in float32, inference in float16, optionally apply quantization and convert to int8 with some accuracy drop. You might wanna retrain the model to be robust to quantization noises and to apply some sophisticated scalings to use it with int8. "
   ]
  },
  {
   "cell_type": "code",
   "execution_count": 125,
   "id": "229638da",
   "metadata": {},
   "outputs": [],
   "source": [
    "resnet = torchvision.models.resnet50()"
   ]
  },
  {
   "cell_type": "code",
   "execution_count": 126,
   "id": "884d98ce",
   "metadata": {},
   "outputs": [
    {
     "name": "stdout",
     "output_type": "stream",
     "text": [
      "Double precision 0.03352153301239014\n",
      "Float precision 0.015976061820983888\n"
     ]
    }
   ],
   "source": [
    "images = images.cpu().double()\n",
    "resnet = resnet.cpu().double()\n",
    "t0 = time.time()\n",
    "for _ in range(100):\n",
    "    with torch.no_grad():\n",
    "        resnet(images)\n",
    "print(\"Double precision\", (time.time() - t0) / 100)\n",
    "images = images.float()\n",
    "resnet = resnet.float()\n",
    "t0 = time.time()\n",
    "for _ in range(100):\n",
    "    with torch.no_grad():\n",
    "        resnet(images)\n",
    "print(\"Float precision\", (time.time() - t0) / 100)"
   ]
  },
  {
   "cell_type": "code",
   "execution_count": 127,
   "id": "507555c8",
   "metadata": {},
   "outputs": [
    {
     "name": "stdout",
     "output_type": "stream",
     "text": [
      "Float precision (cuda) 0.008371152877807618\n",
      "Half precision (cuda) 0.00621751070022583\n"
     ]
    }
   ],
   "source": [
    "images = images.cuda().float()\n",
    "resnet = resnet.cuda().float()\n",
    "for _ in range(100):\n",
    "    with torch.no_grad():\n",
    "        resnet(images)\n",
    "\n",
    "t0 = time.time()\n",
    "for _ in range(100):\n",
    "    with torch.no_grad():\n",
    "        resnet(images)\n",
    "print(\"Float precision (cuda)\", (time.time() - t0) / 100)\n",
    "images = images.half()\n",
    "resnet = resnet.half()\n",
    "for _ in range(100):\n",
    "    with torch.no_grad():\n",
    "        resnet(images)\n",
    "\n",
    "t0 = time.time()\n",
    "for _ in range(100):\n",
    "    with torch.no_grad():\n",
    "        resnet(images)\n",
    "print(\"Half precision (cuda)\", (time.time() - t0) / 100)"
   ]
  },
  {
   "cell_type": "markdown",
   "id": "19cc926e",
   "metadata": {},
   "source": [
    "The half result is not always stable here because we do not use a runtime, so the quantization speedup does not work with random model. However, it does provide a speedup inside a runtime more often."
   ]
  }
 ],
 "metadata": {
  "kernelspec": {
   "display_name": "Python 3 (ipykernel)",
   "language": "python",
   "name": "python3"
  },
  "language_info": {
   "codemirror_mode": {
    "name": "ipython",
    "version": 3
   },
   "file_extension": ".py",
   "mimetype": "text/x-python",
   "name": "python",
   "nbconvert_exporter": "python",
   "pygments_lexer": "ipython3",
   "version": "3.8.10"
  }
 },
 "nbformat": 4,
 "nbformat_minor": 5
}
