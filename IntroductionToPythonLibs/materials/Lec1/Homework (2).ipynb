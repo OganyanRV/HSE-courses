{
 "cells": [
  {
   "cell_type": "markdown",
   "id": "bf93ae56",
   "metadata": {},
   "source": [
    "# Homework"
   ]
  },
  {
   "cell_type": "code",
   "execution_count": 1,
   "id": "1713029a",
   "metadata": {},
   "outputs": [],
   "source": [
    "import numpy as np\n",
    "import time"
   ]
  },
  {
   "cell_type": "code",
   "execution_count": 2,
   "id": "3d6f4a5b",
   "metadata": {},
   "outputs": [
    {
     "data": {
      "text/plain": [
       "array([1, 1, 1, ..., 1, 1, 1])"
      ]
     },
     "execution_count": 2,
     "metadata": {},
     "output_type": "execute_result"
    }
   ],
   "source": [
    "def match_timestamps(timestamps_30fps, timestamps_60fps):\n",
    "    \"\"\"\n",
    "    Let's say we have two cameras capturing the same scene. \n",
    "    One camera's frame rate is 60, antoher's is 30. However, due to a high CPU or \n",
    "    hard drive load the actual fps might differ from 30 and 60.\n",
    "    \n",
    "    This function matches the frames from the first camera to the second one, meaning\n",
    "    that for each timestamp in timestamps_60fps it finds the index of closest one in timestamps_30fps.\n",
    "    \n",
    "    Inputs:\n",
    "        - timestamps_30fps: sorted np.ndarray, dtype=np.floa64. Timestamps of the 30 fps camera.\n",
    "        - timestamps_60fps: sorted np.ndarray, dtype=np.floa64. Timestamps of the 60 fps camera. \n",
    "    Outputs:\n",
    "        - idxs: np.ndarray, dtype=np.int32. Indexes of timestamps matching.\n",
    "\n",
    "    Example:\n",
    "        - timestamps_30fps = np.array([0, 0.033, 0.066], dtype=np.float64)\n",
    "        - timestamps_60fps = np.array([0, 0.016, 0.032, 0.048, 0.065], dtype=np.float64)\n",
    "        - idxs = np.array([0, 0, 1, 1, 2], dtype=np.int32)\n",
    "    \n",
    "    This function must be as fast as possible on CPU from both algorithmic and Python-wise implementation perspectives.\n",
    "    It must provide the correct result and must not fail on any realization of the described input. \n",
    "    You may use ANY lib or method you want up to writing a C++ wrapping callable from Python. \n",
    "    Consider you have multiple CPU cores.\n",
    "    Send the best implementation of this function to asshilov@yandex.com or to tg @a_team2 before 23:59 24.11 \n",
    "    in .py or .ipynb formats.\n",
    "    Good luck!\n",
    "    \"\"\"\n",
    "    idxs = np.ones(len(timestamps_60fps), dtype=np.int32) # replace this with your code\n",
    "    return idxs\n",
    "\n",
    "def get_sample_timestamps(fps, video_length_sec):\n",
    "    timestamps = np.linspace(time.time(), time.time() + video_length_sec, video_length_sec * fps)\n",
    "    timestamps += np.random.randn(len(timestamps)) / fps # emulate high CPU of drive load\n",
    "    timestamps = np.sort(timestamps) # despite the load, timestamps have to be sorted\n",
    "    return timestamps\n",
    "\n",
    "video_length_sec = 1000 # optimize the implementation for the lengths in range 1000-4000 seconds\n",
    "timestamps_30fps = get_sample_timestamps(30, video_length_sec)\n",
    "timestamps_60fps = get_sample_timestamps(60, video_length_sec)\n",
    "match_timestamps(timestamps_30fps, timestamps_60fps)"
   ]
  },
  {
   "cell_type": "code",
   "execution_count": null,
   "id": "60273f47",
   "metadata": {},
   "outputs": [],
   "source": []
  }
 ],
 "metadata": {
  "kernelspec": {
   "display_name": "Python 3 (ipykernel)",
   "language": "python",
   "name": "python3"
  },
  "language_info": {
   "codemirror_mode": {
    "name": "ipython",
    "version": 3
   },
   "file_extension": ".py",
   "mimetype": "text/x-python",
   "name": "python",
   "nbconvert_exporter": "python",
   "pygments_lexer": "ipython3",
   "version": "3.10.6"
  }
 },
 "nbformat": 4,
 "nbformat_minor": 5
}
