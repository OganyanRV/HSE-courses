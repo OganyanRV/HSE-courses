{
 "cells": [
  {
   "cell_type": "markdown",
   "id": "1da62c1c",
   "metadata": {
    "cellId": "0ocmrvlrzt6qfmaw2shbwp",
    "execution_id": "cbd21b8a-4a9d-4d3b-985a-30a37298f16f",
    "id": "bf93ae56"
   },
   "source": [
    "# Homework 1. Выполнил Оганян Роберт"
   ]
  },
  {
   "cell_type": "markdown",
   "id": "51af12c2",
   "metadata": {
    "cellId": "c9i3f2qympmrkcfnsyeqk",
    "execution_id": "6b060a0a-f8fd-4917-b79d-e409c6aa7499"
   },
   "source": [
    "### Постановка задачи"
   ]
  },
  {
   "cell_type": "code",
   "execution_count": 154,
   "id": "8ab0fe49",
   "metadata": {
    "cellId": "2yxc71wigbhqyp5nhl91h",
    "id": "1713029a"
   },
   "outputs": [],
   "source": [
    "#!c1.8\n",
    "import numpy as np\n",
    "import time\n",
    "import numba"
   ]
  },
  {
   "cell_type": "code",
   "execution_count": 142,
   "id": "12dab150",
   "metadata": {
    "cellId": "z4uwy0xp9s9i1lfoqajyot",
    "id": "3d6f4a5b",
    "outputId": "a97880c9-39fb-45e2-a8e2-2eb58ef0fe29"
   },
   "outputs": [
    {
     "data": {
      "text/plain": [
       "array([1, 1, 1, ..., 1, 1, 1], dtype=int32)"
      ]
     },
     "execution_count": 142,
     "metadata": {},
     "output_type": "execute_result"
    }
   ],
   "source": [
    "#!c1.8\n",
    "def match_timestamps(timestamps_30fps, timestamps_60fps):\n",
    "    \"\"\"\n",
    "    Let's say we have two cameras capturing the same scene. \n",
    "    One camera's frame rate is 60, antoher's is 30. However, due to a high CPU or \n",
    "    hard drive load the actual fps might differ from 30 and 60.\n",
    "    \n",
    "    This function matches the frames from the first camera to the second one, meaning\n",
    "    that for each timestamp in timestamps_60fps it finds the index of closest one in timestamps_30fps.\n",
    "    \n",
    "    Inputs:\n",
    "        - timestamps_30fps: sorted np.ndarray, dtype=np.floa64. Timestamps of the 30 fps camera.\n",
    "        - timestamps_60fps: sorted np.ndarray, dtype=np.floa64. Timestamps of the 60 fps camera. \n",
    "    Outputs:\n",
    "        - idxs: np.ndarray, dtype=np.int32. Indexes of timestamps matching.\n",
    "\n",
    "    Example:\n",
    "        - timestamps_30fps = np.array([0, 0.033, 0.066], dtype=np.float64)\n",
    "        - timestamps_60fps = np.array([0, 0.016, 0.032, 0.048, 0.065], dtype=np.float64)\n",
    "        - idxs = np.array([0, 0, 1, 1, 2], dtype=np.int32)\n",
    "    \n",
    "    This function must be as fast as possible on CPU from both algorithmic and Python-wise implementation perspectives.\n",
    "    It must provide the correct result and must not fail on any realization of the described input. \n",
    "    You may use ANY lib or method you want up to writing a C++ wrapping callable from Python. \n",
    "    Consider you have multiple CPU cores.\n",
    "    Send the best implementation of this function to asshilov@yandex.com or to tg @a_team2 before 23:59 24.11 \n",
    "    in .py or .ipynb formats.\n",
    "    Good luck!\n",
    "    \"\"\"\n",
    "    idxs = np.ones(len(timestamps_60fps), dtype=np.int32) # replace this with your code\n",
    "    return idxs\n",
    "\n",
    "def get_sample_timestamps(fps, video_length_sec):\n",
    "    timestamps = np.linspace(time.time(), time.time() + video_length_sec, video_length_sec * fps)\n",
    "    timestamps += np.random.randn(len(timestamps)) / fps # emulate high CPU of drive load\n",
    "    timestamps = np.sort(timestamps) # despite the load, timestamps have to be sorted\n",
    "    return timestamps\n",
    "\n",
    "video_length_sec = 1000 # optimize the implementation for the lengths in range 1000-4000 seconds\n",
    "timestamps_30fps = get_sample_timestamps(30, video_length_sec)\n",
    "timestamps_60fps = get_sample_timestamps(60, video_length_sec)\n",
    "match_timestamps(timestamps_30fps, timestamps_60fps)"
   ]
  },
  {
   "cell_type": "markdown",
   "id": "0a4d19a7",
   "metadata": {
    "cellId": "f42rhwq3qe4ex1qcfy6rs",
    "execution_id": "d87f195a-0519-4018-8e43-05957a6e2946"
   },
   "source": [
    "### Решение"
   ]
  },
  {
   "cell_type": "markdown",
   "id": "d90292be",
   "metadata": {
    "cellId": "v7tspcoz43nnnfqzzlggk",
    "execution_id": "256204b1-7d50-45c7-911b-f82375634710"
   },
   "source": [
    "Задание выполнено на датасфере на конфигурации c1.8. 8 физических ядер"
   ]
  },
  {
   "cell_type": "markdown",
   "id": "bcde77bc",
   "metadata": {
    "cellId": "7jusa9tva1o2m3x9t2l8",
    "execution_id": "09df0bf0-3cb4-4373-972f-3a71cf9915ab"
   },
   "source": [
    "#### Определим функцию для замера времени работы программы"
   ]
  },
  {
   "cell_type": "markdown",
   "id": "a59c9ea6",
   "metadata": {
    "cellId": "lpvmp11wqkyb4esxcxvkm",
    "execution_id": "429da67c-2c99-40a4-964e-f88622fdce53"
   },
   "source": [
    "Функция замеряет работу программы 10 раз, берет последние num_measures * (1-percent_skip/100) измерений и возвращает среднее время работы + результат вызова функции.\n",
    "\n",
    "P.S: я вспомнил что можно просто использовать %%timeit. Ну ничего, опробуем и то, и то"
   ]
  },
  {
   "cell_type": "code",
   "execution_count": 143,
   "id": "2e486e6b",
   "metadata": {
    "cellId": "r6uwwlpive9k1dmip6yms"
   },
   "outputs": [],
   "source": [
    "#!c1.8\n",
    "from timeit import default_timer as timer\n",
    "\n",
    "\n",
    "def measure_time(callable, *args, max_time=5, num_measures=10, percent_skip=20, **kwargs):\n",
    "    t0 = timer()\n",
    "    result = callable(*args, **kwargs)\n",
    "    time = timer() - t0\n",
    "\n",
    "    if time > max_time:\n",
    "        return (time, result)\n",
    "\n",
    "    times = []\n",
    "    for i in range(num_measures):\n",
    "        t0 = timer()\n",
    "        _ = callable(*args, **kwargs)\n",
    "        times.append(timer() - t0)\n",
    "\n",
    "    le = int(num_measures*percent_skip/100)\n",
    "    ri = num_measures - le\n",
    "    cnt = ri - le + 1\n",
    "    sum_ = 0\n",
    "    while le <= ri:\n",
    "        sum_ += times[le]\n",
    "        le += 1\n",
    "\n",
    "    return (sum_ / cnt, result)"
   ]
  },
  {
   "cell_type": "code",
   "execution_count": 144,
   "id": "38fb6da8",
   "metadata": {
    "cellId": "rg094ldnequivgfmht64"
   },
   "outputs": [],
   "source": [
    "#!c1.8\n",
    "video_length_sec = 1000 # optimize the implementation for the lengths in range 1000-4000 seconds\n",
    "timestamps_30fps = get_sample_timestamps(30, video_length_sec)\n",
    "timestamps_60fps = get_sample_timestamps(60, video_length_sec)"
   ]
  },
  {
   "cell_type": "code",
   "execution_count": 145,
   "id": "d41fb43c",
   "metadata": {
    "cellId": "6hf01skght8xqtpu8wh82"
   },
   "outputs": [
    {
     "data": {
      "text/plain": [
       "((60000,), (30000,))"
      ]
     },
     "execution_count": 145,
     "metadata": {},
     "output_type": "execute_result"
    }
   ],
   "source": [
    "#!c1.8\n",
    "timestamps_60fps.shape, timestamps_30fps.shape"
   ]
  },
  {
   "cell_type": "markdown",
   "id": "059fbbf5",
   "metadata": {
    "cellId": "wzxs9exjg0ei9chl1pp3h8",
    "execution_id": "995aadea-67d0-4234-8f90-e559c1bff1f8"
   },
   "source": [
    "В дальнейшем будем называть длину первого массива (30 фпс) n1, n2 - длина второго (60 фпс)"
   ]
  },
  {
   "cell_type": "markdown",
   "id": "e1408402",
   "metadata": {
    "cellId": "rhvfmbhltx8ihlata5r8p",
    "execution_id": "809a78e5-3c88-4f72-b8bd-1dd70f8527df"
   },
   "source": [
    "#### 1. Наивное решение"
   ]
  },
  {
   "cell_type": "markdown",
   "id": "cfaa018a",
   "metadata": {
    "cellId": "37k7hb4c8vtef7nro3db6",
    "execution_id": "c922b330-e546-414c-b898-b68f81687338"
   },
   "source": [
    "Наивно: для каждого элемента второго массива проходим по всем элементам первого и ищем ближайший таймстемп. Ну и немного оптимизируя (не ассимптотически) заметим, что из-за упорядоченности данных нет смысла продолжать поиск, если найден хоть 1 таймстемп дальше, чем текущий лучший (криво написал, но думаю понятно). Сложность - **O(n1 * n2)**"
   ]
  },
  {
   "cell_type": "code",
   "execution_count": 146,
   "id": "8c955e5b",
   "metadata": {
    "cellId": "7mkc5rl5dwbctko84rmda9"
   },
   "outputs": [],
   "source": [
    "#!c1.8\n",
    "def match_timestamps_naive(timestamps_30fps, timestamps_60fps):   \n",
    "    idxs = np.zeros(len(timestamps_60fps), dtype=np.int32)\n",
    "    for idx, val_1 in enumerate(timestamps_60fps):\n",
    "        cur_closest_val, cur_closest_idx = float('inf'), -1\n",
    "        for jdx, val_2 in enumerate(timestamps_30fps):\n",
    "            if abs(val_2 - val_1) < cur_closest_val:\n",
    "                cur_closest_idx = jdx\n",
    "                cur_closest_val = abs(val_2 - val_1) \n",
    "            elif cur_closest_idx != -1:\n",
    "                break\n",
    "        idxs[idx] = cur_closest_idx\n",
    "    return idxs"
   ]
  },
  {
   "cell_type": "markdown",
   "id": "14ab176a",
   "metadata": {
    "cellId": "rdm71579ooj33v63f6k6",
    "execution_id": "ec1eaf0c-ad73-459d-81b9-fc4679bbbff4"
   },
   "source": [
    "Нам не очень важно как долго работает тупое решение, поэтому не буду запускать его 10 раз для честного теста. Запустим 1 раз и покажем, что оно работает чудовищно долго"
   ]
  },
  {
   "cell_type": "code",
   "execution_count": 147,
   "id": "cc56684c",
   "metadata": {
    "cellId": "6nenwxemt6satdgpwoue6s"
   },
   "outputs": [],
   "source": [
    "#!c1.8\n",
    "t0 = timer()\n",
    "res_naive = match_timestamps_naive(timestamps_30fps, timestamps_60fps)\n",
    "time_naive = timer() - t0"
   ]
  },
  {
   "cell_type": "code",
   "execution_count": 148,
   "id": "2a80385f",
   "metadata": {
    "cellId": "sw7651k1lh0olhwedvxymq"
   },
   "outputs": [
    {
     "data": {
      "text/plain": [
       "397.5587981860008"
      ]
     },
     "execution_count": 148,
     "metadata": {},
     "output_type": "execute_result"
    }
   ],
   "source": [
    "#!c1.8\n",
    "time_naive"
   ]
  },
  {
   "cell_type": "markdown",
   "id": "414d0541",
   "metadata": {
    "cellId": "n2622gwldef3h9bx410z6",
    "execution_id": "d68291e3-cdfd-4365-b6a3-7dadbe83f35b"
   },
   "source": [
    "#### 2. Оптимальное решение\n",
    "Заметим, что оба наши массива упорядочены, а если для i-ого элемента второго массива ответом является позиция j первого массива, то для i+1 элемента второго массива ответ не может лежать левее j. Функция ответа \"унимодальна\".\n",
    "\n",
    "Решим эту задачу двумя указателями. Сложность - **O(n1+n2)**"
   ]
  },
  {
   "cell_type": "code",
   "execution_count": 149,
   "id": "f3987dd7",
   "metadata": {
    "cellId": "em2p35pms744gp0hu5ltio"
   },
   "outputs": [],
   "source": [
    "#!c1.8\n",
    "def match_timestamps_optimal(timestamps_30fps, timestamps_60fps):   \n",
    "    idxs = np.zeros(len(timestamps_60fps), dtype=np.int32)\n",
    "    right = 0\n",
    "    for left, val_1 in enumerate(timestamps_60fps):\n",
    "        cur_closest_val = float('inf')        \n",
    "        while right < len(timestamps_30fps) and abs(timestamps_30fps[right] - val_1) < cur_closest_val:\n",
    "            cur_closest_val=abs(timestamps_30fps[right] - val_1)\n",
    "            right+=1\n",
    "        right-=1\n",
    "        idxs[left] = right\n",
    "    return idxs"
   ]
  },
  {
   "cell_type": "code",
   "execution_count": 150,
   "id": "0dcf9697",
   "metadata": {
    "cellId": "nhzfplutjtkyw56td7nwq"
   },
   "outputs": [],
   "source": [
    "#!c1.8\n",
    "time_optimal, res_optimal = measure_time(match_timestamps_optimal, timestamps_30fps, timestamps_60fps)"
   ]
  },
  {
   "cell_type": "code",
   "execution_count": 151,
   "id": "77c2394f",
   "metadata": {
    "cellId": "volu47jpzrej2ckls4q5pl"
   },
   "outputs": [
    {
     "name": "stdout",
     "output_type": "stream",
     "text": [
      "114 ms ± 1.53 ms per loop (mean ± std. dev. of 7 runs, 10 loops each)\n"
     ]
    }
   ],
   "source": [
    "#!c1.8\n",
    "%%timeit\n",
    "match_timestamps_optimal(timestamps_30fps, timestamps_60fps)"
   ]
  },
  {
   "cell_type": "code",
   "execution_count": 152,
   "id": "014a61c6",
   "metadata": {
    "cellId": "gego3rx03z9y511kougt8"
   },
   "outputs": [
    {
     "name": "stdout",
     "output_type": "stream",
     "text": [
      "Время работы программы:  0.1118685992862863\n",
      "Совпадает решение с наивным:  True\n",
      "Усорение работы путем лучшей ассимптотики (количество раз):  3553.801520019001\n"
     ]
    }
   ],
   "source": [
    "#!c1.8\n",
    "print('Время работы программы: ', time_optimal)\n",
    "print('Совпадает решение с наивным: ', np.testing.assert_array_equal(res_naive, res_optimal, err_msg='Wrong result') is None)\n",
    "print('Усорение работы путем лучшей ассимптотики (количество раз): ', time_naive / time_optimal)"
   ]
  },
  {
   "cell_type": "markdown",
   "id": "a269db29",
   "metadata": {
    "cellId": "lr7yv26ky0aig1fjn791ur",
    "execution_id": "db00c57f-1925-4f10-9e7f-f12212cf80fe"
   },
   "source": [
    "#### 3. Распараллелим оптимальное решение"
   ]
  },
  {
   "cell_type": "markdown",
   "id": "6aee017e",
   "metadata": {
    "cellId": "cf5tx9l714b3q72sgtz4my",
    "execution_id": "2b6ff712-0b40-40f4-82da-a25917a2ec10"
   },
   "source": [
    "Поделим блоки для потоков следующим образом"
   ]
  },
  {
   "cell_type": "code",
   "execution_count": 155,
   "id": "506339e5",
   "metadata": {
    "cellId": "yqll96g2cwaxcxm46tt"
   },
   "outputs": [
    {
     "data": {
      "text/plain": [
       "[(0, 7500),\n",
       " (7500, 15000),\n",
       " (15000, 22500),\n",
       " (22500, 30000),\n",
       " (30000, 37500),\n",
       " (37500, 45000),\n",
       " (45000, 52500),\n",
       " (52500, 60000)]"
      ]
     },
     "execution_count": 155,
     "metadata": {},
     "output_type": "execute_result"
    }
   ],
   "source": [
    "#!c1.8\n",
    "blocks = []\n",
    "cnt_of_elems_in_block = len(timestamps_60fps) //numba.get_num_threads()\n",
    "for i in range(numba.get_num_threads()):\n",
    "    blocks.append((cnt_of_elems_in_block * i, cnt_of_elems_in_block * (i+1)))\n",
    "blocks   "
   ]
  },
  {
   "cell_type": "markdown",
   "id": "22a89203",
   "metadata": {
    "cellId": "p2htqmlteyfb8kjc0fd7e5",
    "execution_id": "ddb4416f-d491-43b1-860a-34bd0fc79a4b"
   },
   "source": [
    "Решение:"
   ]
  },
  {
   "cell_type": "code",
   "execution_count": 156,
   "id": "4113cae8",
   "metadata": {
    "cellId": "ctuahaciczqoawuzeix8d"
   },
   "outputs": [],
   "source": [
    "#!c1.8\n",
    "@numba.njit(parallel=True)\n",
    "def match_timestamps_optimal_paral(timestamps_30fps, timestamps_60fps):   \n",
    "    idxs = np.zeros(len(timestamps_60fps), dtype=np.int32)\n",
    "    blocks = []\n",
    "    cnt_of_elems_in_block = len(timestamps_60fps) //numba.get_num_threads()\n",
    "    for i in range(numba.get_num_threads()):\n",
    "        blocks.append((cnt_of_elems_in_block * i, cnt_of_elems_in_block * (i+1)))\n",
    "        \n",
    "    for block_idx in numba.prange(numba.get_num_threads()):\n",
    "        block = blocks[block_idx]\n",
    "        right = 0\n",
    "        for left in range(*block):\n",
    "            val_1 = timestamps_60fps[left]\n",
    "            cur_closest_val = 1e10        \n",
    "            while right < len(timestamps_30fps) and abs(timestamps_30fps[right] - val_1) < cur_closest_val:\n",
    "                cur_closest_val=abs(timestamps_30fps[right] - val_1)\n",
    "                right+=1\n",
    "            right-=1\n",
    "            idxs[left] = right\n",
    "    return idxs"
   ]
  },
  {
   "cell_type": "code",
   "execution_count": 157,
   "id": "8ec3013e",
   "metadata": {
    "cellId": "67q8e6xa6lh0dkipvb4b1"
   },
   "outputs": [
    {
     "name": "stdout",
     "output_type": "stream",
     "text": [
      "195 µs ± 78.2 µs per loop (mean ± std. dev. of 7 runs, 1 loop each)\n"
     ]
    }
   ],
   "source": [
    "#!c1.8\n",
    "%%timeit\n",
    "res_optimal_paral = match_timestamps_optimal_paral(timestamps_30fps, timestamps_60fps)"
   ]
  },
  {
   "cell_type": "code",
   "execution_count": 158,
   "id": "4d29052c",
   "metadata": {
    "cellId": "gn99xjovsxav2krbldudp"
   },
   "outputs": [],
   "source": [
    "#!c1.8\n",
    "time_optimal_paral, res_optimal_paral = measure_time(match_timestamps_optimal_paral, timestamps_30fps, timestamps_60fps)"
   ]
  },
  {
   "cell_type": "code",
   "execution_count": 162,
   "id": "61025436",
   "metadata": {
    "cellId": "92wunqve4tqvd6o9vu6u2"
   },
   "outputs": [
    {
     "name": "stdout",
     "output_type": "stream",
     "text": [
      "Время работы программы:  0.0001552934305176937\n",
      "Совпадает решение с наивным:  True\n",
      "Усорение работы путем лучшей ассимптотики (количество раз):  2560049.0430321456\n",
      "Усорение работы путем распараллеливания: (количество раз) 720.369167667658\n"
     ]
    }
   ],
   "source": [
    "#!c1.8\n",
    "print('Время работы программы: ', time_optimal_paral)\n",
    "print('Совпадает решение с наивным: ', np.testing.assert_array_equal(res_naive, res_optimal_paral, err_msg='Wrong result') is None)\n",
    "print('Усорение работы путем лучшей ассимптотики (количество раз): ', time_naive / time_optimal_paral)\n",
    "print('Усорение работы путем распараллеливания: (количество раз)', time_optimal / time_optimal_paral)"
   ]
  },
  {
   "cell_type": "markdown",
   "id": "684f22c5",
   "metadata": {
    "cellId": "f1v11up0ey9o5we31p5ts",
    "execution_id": "01139f5d-243e-43f2-b535-9086e18c1b7c"
   },
   "source": [
    "Думаю, такое дикое усорение обусловлено тем, что в первый запуск намба компилирует код, а затем пользуется этим."
   ]
  },
  {
   "cell_type": "markdown",
   "id": "e0c3b79b",
   "metadata": {
    "cellId": "fa3qprjcwgzg4wcjew0v",
    "execution_id": "95be8235-ebdd-4de7-bb32-630b6a60b975"
   },
   "source": [
    "##### Идея для бОльшего ускорения:"
   ]
  },
  {
   "cell_type": "markdown",
   "id": "29e78c67",
   "metadata": {
    "cellId": "2yyr8hyo1brdciyx3ooo6u",
    "execution_id": "0ea5de6d-c4d3-473b-9545-7d96bf190843"
   },
   "source": [
    "При распараллеливании мы для каждого блока берем второй указатель как 0, потому что в отличие от последовательной версии, в параллельной версии нельзя наладить взаимодействие между вторыми указателями. Вместо того, чтобы делать указатели нулями, можно для первого элемента каждого блока найти ближайший таймстемп [**тернарным поиском**](https://e-maxx.ru/algo/ternary_search) (так как функция унимодальна на всем отрезке), и затем уже делать как с двуми указателями. Хоть этот шаг работает за O(logn1), ассимптотически все равно выйдет в итоге O(n1+n2). Однако такая оптимизация возможно даст небольшой выигрыш, но проверять я это не буду :))"
   ]
  },
  {
   "cell_type": "markdown",
   "id": "fef781c1",
   "metadata": {
    "cellId": "8t511mjnzduahsi9t98ao",
    "execution_id": "a2c92e07-3341-4f64-92f2-e3f3882fe63d"
   },
   "source": [
    "#### Итог"
   ]
  },
  {
   "cell_type": "markdown",
   "id": "18128e80",
   "metadata": {
    "cellId": "7j8anbnc1rdygkur7zm1ch",
    "execution_id": "1ea2f1c8-e0df-4c69-83a8-e401514ddb1d"
   },
   "source": [
    "1. Мы получили алгоритмически быстрое решение O(n1+n2)\n",
    "2. Мы получили питонически быстрое решение, распараллелив код с помощью numba\n",
    "3. Мы получили правильное решение, сравнив результаты работы с наивным решением"
   ]
  },
  {
   "cell_type": "markdown",
   "id": "7da2ae98",
   "metadata": {
    "cellId": "kmpsmpu6ktg7s64osviafm",
    "execution_id": "b7eaba07-9bcf-4228-8a01-a7eb0d4bbb93"
   },
   "source": [
    "Итоговая функция:"
   ]
  },
  {
   "cell_type": "code",
   "execution_count": 177,
   "id": "fea0ab0a",
   "metadata": {
    "cellId": "9gxz50knm0udc92rbmur59"
   },
   "outputs": [],
   "source": [
    "#!c1.8\n",
    "@numba.njit(parallel=True)\n",
    "def match_timestamps(timestamps_30fps, timestamps_60fps):   \n",
    "    idxs = np.zeros(len(timestamps_60fps), dtype=np.int32)\n",
    "    blocks = []\n",
    "    cnt_of_elems_in_block = len(timestamps_60fps) //numba.get_num_threads()\n",
    "    for i in range(numba.get_num_threads()):\n",
    "        blocks.append((cnt_of_elems_in_block * i, cnt_of_elems_in_block * (i+1)))\n",
    "        \n",
    "    for block_idx in numba.prange(numba.get_num_threads()):\n",
    "        block = blocks[block_idx]\n",
    "        right = 0\n",
    "        for left in range(*block):\n",
    "            val_1 = timestamps_60fps[left]\n",
    "            cur_closest_val = 1e10        \n",
    "            while right < len(timestamps_30fps) and abs(timestamps_30fps[right] - val_1) < cur_closest_val:\n",
    "                cur_closest_val=abs(timestamps_30fps[right] - val_1)\n",
    "                right+=1\n",
    "            right-=1\n",
    "            idxs[left] = right\n",
    "    return idxs"
   ]
  }
 ],
 "metadata": {
  "colab": {
   "provenance": []
  },
  "language_info": {
   "codemirror_mode": {
    "name": "ipython",
    "version": 3
   },
   "file_extension": ".py",
   "mimetype": "text/x-python",
   "name": "python",
   "nbconvert_exporter": "python",
   "pygments_lexer": "ipython3",
   "version": "3.7.7"
  },
  "notebookId": "469895d4-3768-4ab6-ba44-de05eb55bde2",
  "notebookPath": "oganyan_hw1.ipynb"
 },
 "nbformat": 4,
 "nbformat_minor": 5
}
