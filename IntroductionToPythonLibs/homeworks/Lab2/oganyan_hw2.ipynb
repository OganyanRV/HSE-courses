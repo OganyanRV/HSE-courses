{
 "cells": [
  {
   "cell_type": "markdown",
   "id": "713558f5",
   "metadata": {
    "cellId": "v9wa7849d2ry2zdwkxsr8",
    "execution_id": "0656d852-ba90-471a-adca-e1606f88c138"
   },
   "source": [
    "# Оганян Роберт\n"
   ]
  },
  {
   "cell_type": "markdown",
   "id": "a58e1764",
   "metadata": {
    "cellId": "8lbaaembh230vcwokngw3tq",
    "execution_id": "a261e665-c0b1-493b-b256-49ab8932a7a8"
   },
   "source": [
    "# Practiсe \\ Howework\n",
    "\n",
    "### Task\n",
    "Build a classifier based on CIFAR100 (https://pytorch.org/vision/stable/generated/torchvision.datasets.CIFAR100.html#torchvision.datasets.CIFAR100). This classifier must distinguish between bicycle, motorcycle and the background.\n",
    "\n",
    "To this end, leverage an ImageNet-pretrained model and modify the last layer (https://pytorch.org/vision/0.8/models.html).\n",
    "Use any architecture of your choice, it does not matter.\n",
    "\n",
    "### Features\n",
    "**7\\10 base**: complete this task.\n",
    "\n",
    "**+1 point**: leverage 5 augmentations (https://pytorch.org/vision/stable/transforms.html).\n",
    "\n",
    "\n",
    "**+1 point**: play around with hyperparameters.\n",
    "\n",
    "\n",
    "**+2 points**: say, we want to use this classifier in the wild and we need it to be stable in a dark environment.\n",
    "To this end, we wanna use IR cameras with the invisible IR flashes. However, such cameras stream images in grayscale.\n",
    "\n",
    "We want to leverage the opensource RGB datasets for this task.\n",
    "\n",
    "=> Make a grayscale model.\n",
    "\n",
    "\n",
    "### Advanced H\\w: learn how to fool around with the weights as they were some usual numpy arrays\n",
    "**+1 point**: say we are making a grayscale model and we want to minimize the training. Our dataset is very small, Imagenet is very large, we want to keep as much ImageNet information as possible to improve generalization. \n",
    "\n",
    "The first layer in the PyTorch ImageNet RGB checkpoint has 3 RGB channels, right? Modify this layer in a rule-based fashion to have 1 grayscale channel as an input and transform the features in the most correct way.\n",
    "\n",
    "(*Spoiler alert*: the 1 input grayscale channel should be a linear combination of the 3 RGB channels)\n",
    "\n",
    "**+2 points**: say we have some Chineese experimental on-board device that only can compute Conv3d effectively but not Conv2d. Or we just know that a Conv3d backend works faster on our target device. Or we plan that this model would accept videos in the future and we want to prepare a Conv3d backend. In short, we have our reasons to do the following.\n",
    "\n",
    "Transform the model so that at least some Conv2d layers use a Conv3d backend leveraging the pretrained weights.#\n",
    "\n",
    "Max points number for H\\w is 10.\n",
    "\n",
    "Deadline 8.12 23:59"
   ]
  },
  {
   "cell_type": "markdown",
   "id": "2e5626cd",
   "metadata": {
    "cellId": "zd75az4kbp0zydthsrbj0p",
    "execution_id": "4612a120-c311-4e2f-b01c-931836ce51dc"
   },
   "source": [
    "## Начало"
   ]
  },
  {
   "cell_type": "markdown",
   "id": "ffee29d5",
   "metadata": {
    "cellId": "mbg111s37b8tzjlf2smwd",
    "execution_id": "300b7bf9-e189-4e02-9bd5-efd51643834e"
   },
   "source": [
    "Графики я не рисовал, так как pytorch_lightning выводит метрики по эпохам на экран сам.\n",
    "\n",
    "Забегая вперед скажу, что оценивать решение метрикой **без учета баланса классов** - неверно. С обычным акьюраси, например, у меня простейшая модель показывала 0.98 - это из-за того, что она предсказывает много бекграунда, а на самих классах мотоцикл и велосиед точность сильно, сильно меньше. \n",
    "\n",
    "Также для обучения нужно использовать либо weighted crossentropy, либо oversampling - weightedsampler для даталоадера"
   ]
  },
  {
   "cell_type": "code",
   "execution_count": 1,
   "id": "c05225b4",
   "metadata": {
    "cellId": "tnpu0ej3ljgup10vrv7xff"
   },
   "outputs": [],
   "source": [
    "#!g1.1\n",
    "%pip install -U -qq scikit-learn\n",
    "%pip install -U -qq git+https://github.com/albumentations-team/albumentations\n",
    "%pip install -U -qq typing_extensions\n",
    "%pip install -U -qq torchvision==0.13.1"
   ]
  },
  {
   "cell_type": "code",
   "execution_count": 76,
   "id": "3ec7633d",
   "metadata": {
    "cellId": "shgd0a601215ysf8sn1xk"
   },
   "outputs": [],
   "source": [
    "#!g1.1\n",
    "import torch\n",
    "import torchvision\n",
    "from torch import nn\n",
    "from torch.nn import functional as F\n",
    "import pytorch_lightning as pl\n",
    "import numpy as np\n",
    "import albumentations as A\n",
    "from torchvision import transforms as tt\n",
    "from PIL import Image\n",
    "from torch.utils.data import WeightedRandomSampler\n",
    "\n",
    "from pytorch_lightning.callbacks import progress\n",
    "from torch.nn.modules.activation import LogSoftmax\n",
    "from torch.utils.data import Dataset, DataLoader\n",
    "from pytorch_lightning.callbacks.early_stopping import EarlyStopping\n",
    "from pytorch_lightning.callbacks import ModelCheckpoint\n",
    "\n",
    "\n",
    "from sklearn.utils import class_weight\n",
    "from sklearn.metrics import balanced_accuracy_score\n",
    "from sklearn.model_selection import train_test_split\n",
    "from collections import Counter\n",
    "import PIL\n",
    "\n",
    "from torchvision.datasets import CIFAR100\n",
    "import matplotlib.pyplot as plt\n",
    "\n",
    "import warnings\n",
    "warnings.filterwarnings(\"ignore\")\n",
    "device = torch.device('cuda' if torch.cuda.is_available() else 'cpu')"
   ]
  },
  {
   "cell_type": "code",
   "execution_count": 22,
   "id": "b5e192f5",
   "metadata": {
    "cellId": "y4ifpmfs4qhc9w32wohkbq"
   },
   "outputs": [
    {
     "name": "stdout",
     "output_type": "stream",
     "text": [
      "Files already downloaded and verified\n"
     ]
    }
   ],
   "source": [
    "#!g1.1\n",
    "dataset = CIFAR100(root = 'data/', download = True)\n",
    "test_dataset = CIFAR100(root = 'data/', train = False)"
   ]
  },
  {
   "cell_type": "code",
   "execution_count": 23,
   "id": "1786e5c9",
   "metadata": {
    "cellId": "t5eqnuxftgxn8vswm9zla"
   },
   "outputs": [],
   "source": [
    "#!g1.1\n",
    "BICYCLE, BICYCLE_NEW = 8, 0\n",
    "MOTORCYCLE, MOTORCYCLE_NEW =  48, 1\n",
    "BACKGROUND_NEW = 2"
   ]
  },
  {
   "cell_type": "markdown",
   "id": "d58ed7d4",
   "metadata": {
    "cellId": "on57eysv7665q69ri1x7",
    "execution_id": "b0e158bf-767d-46a1-b6f6-90fe8b36d2fb"
   },
   "source": [
    "Нам нужно проделать следующие шаги с датасетом:\n",
    "1. Переразметить его\n",
    "2. Поделить на train&val с учетом распределения классов (стратификация)\n",
    "3. Посчитать вероятности классов (веса), чтобы можно было сделать даталоадер с weightedsampler (даталоадеар будет учитывать баланс классов в батчах)."
   ]
  },
  {
   "cell_type": "code",
   "execution_count": 24,
   "id": "3f72c9d7",
   "metadata": {
    "cellId": "gbrdtw92ekjwroh1ebrep"
   },
   "outputs": [],
   "source": [
    "#!g1.1\n",
    "X = [el[0] for el in dataset]\n",
    "y = [el[1] for el in dataset]\n",
    "\n",
    "for idx, class_ in enumerate(y):\n",
    "    if class_ == BICYCLE:\n",
    "        y[idx] = BICYCLE_NEW\n",
    "    elif class_ == MOTORCYCLE:\n",
    "        y[idx] = MOTORCYCLE_NEW\n",
    "    else:\n",
    "        y[idx] = BACKGROUND_NEW\n",
    "        \n",
    "X_train, X_val, y_train, y_val = train_test_split(X, y, test_size=0.2, random_state=42, stratify=y)"
   ]
  },
  {
   "cell_type": "code",
   "execution_count": 25,
   "id": "6a74b4e6",
   "metadata": {
    "cellId": "q84umxkp9casuxgi9m6zd"
   },
   "outputs": [],
   "source": [
    "#!g1.1\n",
    "X_test = [el[0] for el in test_dataset]\n",
    "y_test = [el[1] for el in test_dataset]\n",
    "\n",
    "for idx, class_ in enumerate(y_test):\n",
    "    if class_ == BICYCLE:\n",
    "        y_test[idx] = BICYCLE_NEW\n",
    "    elif class_ == MOTORCYCLE:\n",
    "        y_test[idx] = MOTORCYCLE_NEW\n",
    "    else:\n",
    "        y_test[idx] = BACKGROUND_NEW"
   ]
  },
  {
   "cell_type": "markdown",
   "id": "4140936b",
   "metadata": {
    "cellId": "x66udesyrxhx7fmz71qxqh",
    "execution_id": "e30e3391-ac02-4e91-96ce-157840634394"
   },
   "source": [
    "Наш датасет"
   ]
  },
  {
   "cell_type": "code",
   "execution_count": 26,
   "id": "c66437f5",
   "metadata": {
    "cellId": "vg03w5fd84ptjd8gcszlr"
   },
   "outputs": [],
   "source": [
    "#!g1.1\n",
    "class MyDataset(Dataset):\n",
    "    def __init__(self, X, y, transforms = None):\n",
    "        self.transforms = transforms \n",
    "        assert len(X) == len(y)\n",
    "        self.X = X\n",
    "        self.y = y\n",
    "        \n",
    "        self.weights = [] # для сэмплера\n",
    "        self.count_of_elems_in_classes = dict(Counter(y))\n",
    "                    \n",
    "        for class_ in self.y:\n",
    "            self.weights += [1.0 / self.count_of_elems_in_classes[class_]]\n",
    "        \n",
    "    def __len__(self):\n",
    "        return len(self.X)\n",
    "\n",
    "    def __getitem__(self, index):\n",
    "        image = self.X[index]\n",
    "        label = self.y[index]\n",
    "\n",
    "        if self.transforms is not None:\n",
    "            image = self.transforms(image)\n",
    "\n",
    "        return image, label"
   ]
  },
  {
   "cell_type": "code",
   "execution_count": 7,
   "id": "0a9322bf",
   "metadata": {
    "cellId": "svwf27ryerm70t2ic0lmcc"
   },
   "outputs": [
    {
     "data": {
      "text/plain": [
       "{2: 39200, 1: 400, 0: 400}"
      ]
     },
     "execution_count": 7,
     "metadata": {},
     "output_type": "execute_result"
    }
   ],
   "source": [
    "#!g1.1\n",
    "ds_example = MyDataset(X=X_train, y=y_train)\n",
    "ds_example.count_of_elems_in_classes"
   ]
  },
  {
   "cell_type": "markdown",
   "id": "fdf358b9",
   "metadata": {
    "cellId": "c4c12sxu1kgpvt5zab8at",
    "execution_id": "d312550f-52ca-465f-8c47-5d697b2c56f2"
   },
   "source": [
    "Как видим, у полученных данных очень плохой баланс. Поэтому будем считать weighted accuracy. Для этого посчитаем веса (они одинаковые для трейна, вала и теста, я проверил):"
   ]
  },
  {
   "cell_type": "code",
   "execution_count": 27,
   "id": "6be9823b",
   "metadata": {
    "cellId": "ex6pju4vkpr1wuuga4edks"
   },
   "outputs": [
    {
     "name": "stdout",
     "output_type": "stream",
     "text": [
      "[33.33333333 33.33333333  0.34013605]\n"
     ]
    }
   ],
   "source": [
    "#!g1.1\n",
    "WEIGHTS = class_weight.compute_class_weight(class_weight='balanced', classes=np.unique(y_train), y=np.array(y_train))\n",
    "print(WEIGHTS)\n",
    "WEIGHTS = torch.tensor(WEIGHTS, dtype=torch.float).to(device)"
   ]
  },
  {
   "cell_type": "markdown",
   "id": "bde2cd34",
   "metadata": {
    "cellId": "wmxpn5vl3xyfhldsmfqk",
    "execution_id": "1828f501-f047-436a-8a70-656e5529a57c"
   },
   "source": [
    "В качестве модели возьму предобученную efficientnet_b4. Семейства этих моделей хороши тем, что соблюден баланс глубины, ширины и разрешающей способности нейронной сети, что предотвращает переобучение и решает проблему затухающих градиентов"
   ]
  },
  {
   "cell_type": "markdown",
   "id": "e4b3e695",
   "metadata": {
    "cellId": "12ez3dj0576p4sbqqxk4p",
    "execution_id": "b2584729-fdb2-4f33-a3e6-dfc0e3e60fa9"
   },
   "source": [
    "## Approach 1. Simple model with weighted cross-entropy\n"
   ]
  },
  {
   "cell_type": "markdown",
   "id": "b2f0a4ba",
   "metadata": {
    "cellId": "qf8on3fqkin0eda3msjytw9",
    "execution_id": "efd12ac4-cbe3-417e-8be8-9c3c08c21269"
   },
   "source": [
    "Попробуем тупую модель без перебора гиперпараметров, без разморозки предобученной модели, без аугментаций и преобразований изображения"
   ]
  },
  {
   "cell_type": "code",
   "execution_count": 28,
   "id": "c75e43e8",
   "metadata": {
    "cellId": "sddiq5f8fui3h0aud2dzzo"
   },
   "outputs": [],
   "source": [
    "#!g1.1\n",
    "class MyModel_1(pl.LightningModule):    \n",
    "    \n",
    "    def __init__(self, num_classes=3, **optimizer_hyperparams):\n",
    "        super().__init__()\n",
    "              \n",
    "        self.model = torchvision.models.efficientnet_b4(pretrained=True, progress = True)\n",
    "        self.optimizer_hyperparams = optimizer_hyperparams\n",
    "\n",
    "        in_feat = self.model.classifier[1].in_features\n",
    "        out_feat = self.model.classifier[1].out_features\n",
    "        \n",
    "        for param in self.model.parameters():\n",
    "            param.requires_grad = False\n",
    "        \n",
    "        self.model.classifier = nn.Sequential(\n",
    "            nn.Dropout(p=0.25),\n",
    "            nn.Linear(in_features=in_feat, out_features=out_feat),\n",
    "            nn.BatchNorm1d(out_feat),\n",
    "            nn.ReLU(),\n",
    "            nn.Linear(in_features=out_feat, out_features=num_classes)\n",
    "        )\n",
    "        \n",
    "        for param in self.model.classifier.parameters():\n",
    "            param.requires_grad = True\n",
    "                    \n",
    "        self.training_params_num = sum(p.numel() for p in self.model.parameters() if p.requires_grad)\n",
    " \n",
    "    def forward(self, x):\n",
    "        return F.log_softmax(self.model(x), dim=1)\n",
    "\n",
    "    def cross_entropy_loss(self, logits, labels):\n",
    "#         return F.nll_loss(logits, labels) # if it was balanced\n",
    "        return F.nll_loss(logits, labels, weight=WEIGHTS, reduction='mean')\n",
    "    \n",
    "    def configure_optimizers(self):    \n",
    "        optimizer = torch.optim.Adam(self.parameters(), lr=1e-4)\n",
    "        return [optimizer]\n",
    "\n",
    "    def training_step(self, train_batch, batch_idx):\n",
    "        x, y = train_batch\n",
    "        logits = self.forward(x)\n",
    "        loss = self.cross_entropy_loss(logits, y)\n",
    "\n",
    "        logs = {'train_loss': loss}\n",
    "#         acc = torch.sum(logits.argmax(dim=1) == y) / y.shape[0] # if it was balanced\n",
    "        y_pred = logits.argmax(dim=1).detach().cpu().numpy()\n",
    "        y = y.detach().cpu().numpy()\n",
    "        acc = torch.FloatTensor([balanced_accuracy_score(y_pred, y)]).to(device)\n",
    "        \n",
    "        self.log('train_acc', acc, on_step=True, prog_bar=True)\n",
    "        self.log('train_loss', loss, on_step=True, prog_bar=True)\n",
    "\n",
    "        return {'loss': loss, 'log': logs}\n",
    "\n",
    "    def validation_step(self, val_batch, batch_idx):\n",
    "        x, y = val_batch\n",
    "        logits = self.forward(x)\n",
    "        loss = self.cross_entropy_loss(logits, y)\n",
    "        \n",
    "       #         acc = torch.sum(logits.argmax(dim=1) == y) / y.shape[0] # if it was balanced\n",
    "        y_pred = logits.argmax(dim=1).detach().cpu().numpy()\n",
    "        y = y.detach().cpu().numpy()\n",
    "        acc = torch.FloatTensor([balanced_accuracy_score(y_pred, y)]).to(device)\n",
    "\n",
    "        self.log('val_loss', loss, on_step=True, on_epoch=False)\n",
    "        self.log('val_acc', acc, on_step=True, on_epoch=False)\n",
    "        return {'val_loss': loss, 'val_acc': acc}\n",
    "\n",
    "    def test_step(self, val_batch, batch_idx):\n",
    "        x, y = val_batch\n",
    "        logits = self.forward(x)\n",
    "        loss = self.cross_entropy_loss(logits, y)\n",
    "        \n",
    "        #         acc = torch.sum(logits.argmax(dim=1) == y) / y.shape[0] # if it was balanced\n",
    "        y_pred = logits.argmax(dim=1).detach().cpu().numpy()\n",
    "        y = y.detach().cpu().numpy()\n",
    "        acc = torch.FloatTensor([balanced_accuracy_score(y_pred, y)]).to(device)\n",
    "\n",
    "        self.log('test_loss', loss, on_step=True, on_epoch=False)\n",
    "        self.log('test_acc', acc, on_step=True, on_epoch=False)\n",
    "\n",
    "        return {'test_loss': loss, 'test_acc': acc}\n",
    "\n",
    "    def validation_epoch_end(self, outputs):\n",
    "        avg_loss = torch.stack([x['val_loss'] for x in outputs]).mean()\n",
    "        avg_acc = torch.stack([x['val_acc'] for x in outputs]).mean()\n",
    "        tensorboard_logs = {'val_loss': avg_loss, 'val_acc': avg_acc}\n",
    "        print('Accuracy: ', round(float(avg_acc), 3))\n",
    "        self.log('val_acc', avg_acc, on_epoch=True, on_step=False)\n",
    "        self.log('val_loss', avg_loss, prog_bar=True, on_epoch=True, on_step=False)\n",
    "        return {'val_loss': avg_loss, 'val_acc': avg_acc, 'log': tensorboard_logs}\n",
    "\n",
    "    def test_epoch_end(self, outputs):\n",
    "        avg_loss = torch.stack([x['test_loss'] for x in outputs]).mean()\n",
    "        avg_acc = torch.stack([x['test_acc'] for x in outputs]).mean()\n",
    "        tensorboard_logs = {'test_loss': avg_loss, 'test_acc': avg_acc}\n",
    "        self.log('test_acc', avg_acc, on_epoch=True, on_step=False)\n",
    "        return {'test_loss': avg_loss, 'test_acc': avg_acc, 'log': tensorboard_logs}"
   ]
  },
  {
   "cell_type": "code",
   "execution_count": 11,
   "id": "7d609239",
   "metadata": {
    "cellId": "drms89objflacgqg0fech4"
   },
   "outputs": [
    {
     "data": {
      "application/vnd.jupyter.widget-view+json": {
       "model_id": "72bd2b427949481c924c6f51df532c54",
       "version_major": 2,
       "version_minor": 0
      },
      "text/plain": [
       "HBox(children=(HTML(value=''), FloatProgress(value=0.0, max=78107389.0), HTML(value='')))"
      ]
     },
     "metadata": {},
     "output_type": "display_data"
    },
    {
     "data": {
      "application/vnd.jupyter.widget-view+json": {
       "model_id": "bb6b207a15d741b1a2ec4e74e7729424",
       "version_major": 2,
       "version_minor": 0
      },
      "text/plain": [
       "HBox(children=(HTML(value='Validation sanity check'), FloatProgress(value=1.0, bar_style='info', layout=Layout…"
      ]
     },
     "metadata": {},
     "output_type": "display_data"
    },
    {
     "data": {
      "application/vnd.jupyter.widget-view+json": {
       "model_id": "80dc86f9937e4c9aa41f0b5abc20de40",
       "version_major": 2,
       "version_minor": 0
      },
      "text/plain": [
       "HBox(children=(HTML(value='Training'), FloatProgress(value=1.0, bar_style='info', layout=Layout(flex='2'), max…"
      ]
     },
     "metadata": {},
     "output_type": "display_data"
    },
    {
     "data": {
      "application/vnd.jupyter.widget-view+json": {
       "model_id": "3cb775c761ab4ad3847d7cb131bb62ce",
       "version_major": 2,
       "version_minor": 0
      },
      "text/plain": [
       "HBox(children=(HTML(value='Validating'), FloatProgress(value=1.0, bar_style='info', layout=Layout(flex='2'), m…"
      ]
     },
     "metadata": {},
     "output_type": "display_data"
    },
    {
     "data": {
      "application/vnd.jupyter.widget-view+json": {
       "model_id": "b0ea298ad3aa4a208acad9a2ccc11a03",
       "version_major": 2,
       "version_minor": 0
      },
      "text/plain": [
       "HBox(children=(HTML(value='Validating'), FloatProgress(value=1.0, bar_style='info', layout=Layout(flex='2'), m…"
      ]
     },
     "metadata": {},
     "output_type": "display_data"
    },
    {
     "data": {
      "application/vnd.jupyter.widget-view+json": {
       "model_id": "5e5c2e4928af4461b53fdad5d7bbcce1",
       "version_major": 2,
       "version_minor": 0
      },
      "text/plain": [
       "HBox(children=(HTML(value='Validating'), FloatProgress(value=1.0, bar_style='info', layout=Layout(flex='2'), m…"
      ]
     },
     "metadata": {},
     "output_type": "display_data"
    },
    {
     "data": {
      "application/vnd.jupyter.widget-view+json": {
       "model_id": "09db602e6dd04ef880b2902e5dc05683",
       "version_major": 2,
       "version_minor": 0
      },
      "text/plain": [
       "HBox(children=(HTML(value='Validating'), FloatProgress(value=1.0, bar_style='info', layout=Layout(flex='2'), m…"
      ]
     },
     "metadata": {},
     "output_type": "display_data"
    },
    {
     "data": {
      "application/vnd.jupyter.widget-view+json": {
       "model_id": "9a63aaea1d0d4bc29ff08f87c61b3e7c",
       "version_major": 2,
       "version_minor": 0
      },
      "text/plain": [
       "HBox(children=(HTML(value='Validating'), FloatProgress(value=1.0, bar_style='info', layout=Layout(flex='2'), m…"
      ]
     },
     "metadata": {},
     "output_type": "display_data"
    },
    {
     "data": {
      "application/vnd.jupyter.widget-view+json": {
       "model_id": "0badac58c60c4a27a502e594bf61d2d1",
       "version_major": 2,
       "version_minor": 0
      },
      "text/plain": [
       "HBox(children=(HTML(value='Validating'), FloatProgress(value=1.0, bar_style='info', layout=Layout(flex='2'), m…"
      ]
     },
     "metadata": {},
     "output_type": "display_data"
    },
    {
     "data": {
      "application/vnd.jupyter.widget-view+json": {
       "model_id": "5d4b2c42139c4c68b8d0fbc634b2912f",
       "version_major": 2,
       "version_minor": 0
      },
      "text/plain": [
       "HBox(children=(HTML(value='Validating'), FloatProgress(value=1.0, bar_style='info', layout=Layout(flex='2'), m…"
      ]
     },
     "metadata": {},
     "output_type": "display_data"
    },
    {
     "data": {
      "application/vnd.jupyter.widget-view+json": {
       "model_id": "a79016b7f86d45a18cde3859074e7cb6",
       "version_major": 2,
       "version_minor": 0
      },
      "text/plain": [
       "HBox(children=(HTML(value='Validating'), FloatProgress(value=1.0, bar_style='info', layout=Layout(flex='2'), m…"
      ]
     },
     "metadata": {},
     "output_type": "display_data"
    },
    {
     "data": {
      "application/vnd.jupyter.widget-view+json": {
       "model_id": "1f79d11aba0a4db8bce6309158863b8a",
       "version_major": 2,
       "version_minor": 0
      },
      "text/plain": [
       "HBox(children=(HTML(value='Validating'), FloatProgress(value=1.0, bar_style='info', layout=Layout(flex='2'), m…"
      ]
     },
     "metadata": {},
     "output_type": "display_data"
    },
    {
     "data": {
      "application/vnd.jupyter.widget-view+json": {
       "model_id": "d64060caee1d4808b63bd6e8307ded6b",
       "version_major": 2,
       "version_minor": 0
      },
      "text/plain": [
       "HBox(children=(HTML(value='Validating'), FloatProgress(value=1.0, bar_style='info', layout=Layout(flex='2'), m…"
      ]
     },
     "metadata": {},
     "output_type": "display_data"
    },
    {
     "data": {
      "application/vnd.jupyter.widget-view+json": {
       "model_id": "fc96643ce66c4089b7c84d662c99a659",
       "version_major": 2,
       "version_minor": 0
      },
      "text/plain": [
       "HBox(children=(HTML(value='Validating'), FloatProgress(value=1.0, bar_style='info', layout=Layout(flex='2'), m…"
      ]
     },
     "metadata": {},
     "output_type": "display_data"
    },
    {
     "data": {
      "application/vnd.jupyter.widget-view+json": {
       "model_id": "b9de3f14ec1745589dc6c0d8797d671d",
       "version_major": 2,
       "version_minor": 0
      },
      "text/plain": [
       "HBox(children=(HTML(value='Validating'), FloatProgress(value=1.0, bar_style='info', layout=Layout(flex='2'), m…"
      ]
     },
     "metadata": {},
     "output_type": "display_data"
    },
    {
     "data": {
      "application/vnd.jupyter.widget-view+json": {
       "model_id": "67650cf5b5fb4bd5bf7cdb0ec504fb22",
       "version_major": 2,
       "version_minor": 0
      },
      "text/plain": [
       "HBox(children=(HTML(value='Validating'), FloatProgress(value=1.0, bar_style='info', layout=Layout(flex='2'), m…"
      ]
     },
     "metadata": {},
     "output_type": "display_data"
    },
    {
     "data": {
      "application/vnd.jupyter.widget-view+json": {
       "model_id": "5ca62cd224d5447d8ac81889832160b1",
       "version_major": 2,
       "version_minor": 0
      },
      "text/plain": [
       "HBox(children=(HTML(value='Validating'), FloatProgress(value=1.0, bar_style='info', layout=Layout(flex='2'), m…"
      ]
     },
     "metadata": {},
     "output_type": "display_data"
    },
    {
     "data": {
      "application/vnd.jupyter.widget-view+json": {
       "model_id": "718bbac7dfd04b77b3aaaec84baf2bf0",
       "version_major": 2,
       "version_minor": 0
      },
      "text/plain": [
       "HBox(children=(HTML(value='Validating'), FloatProgress(value=1.0, bar_style='info', layout=Layout(flex='2'), m…"
      ]
     },
     "metadata": {},
     "output_type": "display_data"
    },
    {
     "data": {
      "application/vnd.jupyter.widget-view+json": {
       "model_id": "28e0b15f61154fb7b96539ff0a84b380",
       "version_major": 2,
       "version_minor": 0
      },
      "text/plain": [
       "HBox(children=(HTML(value='Validating'), FloatProgress(value=1.0, bar_style='info', layout=Layout(flex='2'), m…"
      ]
     },
     "metadata": {},
     "output_type": "display_data"
    },
    {
     "data": {
      "application/vnd.jupyter.widget-view+json": {
       "model_id": "455d667c224c44749bcea5a1dbb98b9d",
       "version_major": 2,
       "version_minor": 0
      },
      "text/plain": [
       "HBox(children=(HTML(value='Validating'), FloatProgress(value=1.0, bar_style='info', layout=Layout(flex='2'), m…"
      ]
     },
     "metadata": {},
     "output_type": "display_data"
    },
    {
     "data": {
      "application/vnd.jupyter.widget-view+json": {
       "model_id": "4385e2fe23b94ee182d06924443f3fe2",
       "version_major": 2,
       "version_minor": 0
      },
      "text/plain": [
       "HBox(children=(HTML(value='Validating'), FloatProgress(value=1.0, bar_style='info', layout=Layout(flex='2'), m…"
      ]
     },
     "metadata": {},
     "output_type": "display_data"
    },
    {
     "data": {
      "application/vnd.jupyter.widget-view+json": {
       "model_id": "e49f5a2e54244051bd02b0106c976b8a",
       "version_major": 2,
       "version_minor": 0
      },
      "text/plain": [
       "HBox(children=(HTML(value='Validating'), FloatProgress(value=1.0, bar_style='info', layout=Layout(flex='2'), m…"
      ]
     },
     "metadata": {},
     "output_type": "display_data"
    },
    {
     "data": {
      "application/vnd.jupyter.widget-view+json": {
       "model_id": "3a72fa9adae043afa236ad259af8616c",
       "version_major": 2,
       "version_minor": 0
      },
      "text/plain": [
       "HBox(children=(HTML(value='Validating'), FloatProgress(value=1.0, bar_style='info', layout=Layout(flex='2'), m…"
      ]
     },
     "metadata": {},
     "output_type": "display_data"
    },
    {
     "name": "stderr",
     "output_type": "stream",
     "text": [
      "Downloading: \"https://download.pytorch.org/models/efficientnet_b4_rwightman-7eb33cd5.pth\" to /tmp/xdg_cache/torch/hub/checkpoints/efficientnet_b4_rwightman-7eb33cd5.pth\n",
      "GPU available: True, used: True\n",
      "TPU available: False, using: 0 TPU cores\n",
      "IPU available: False, using: 0 IPUs\n",
      "LOCAL_RANK: 0 - CUDA_VISIBLE_DEVICES: [0]\n",
      "\n",
      "  | Name  | Type         | Params\n",
      "---------------------------------------\n",
      "0 | model | EfficientNet | 19.3 M\n",
      "---------------------------------------\n",
      "1.8 M     Trainable params\n",
      "17.5 M    Non-trainable params\n",
      "19.3 M    Total params\n",
      "77.386    Total estimated model params size (MB)\n",
      "LOCAL_RANK: 0 - CUDA_VISIBLE_DEVICES: [0]\n"
     ]
    },
    {
     "data": {
      "application/vnd.jupyter.widget-view+json": {
       "model_id": "e1c65719e4e648e493bc53e9e9dbb5d5",
       "version_major": 2,
       "version_minor": 0
      },
      "text/plain": [
       "HBox(children=(HTML(value='Testing'), FloatProgress(value=1.0, bar_style='info', layout=Layout(flex='2'), max=…"
      ]
     },
     "metadata": {},
     "output_type": "display_data"
    },
    {
     "name": "stdout",
     "output_type": "stream",
     "text": [
      "\n",
      "Accuracy:  0.984\n",
      "Accuracy:  0.351\n",
      "Accuracy:  0.351\n",
      "Accuracy:  0.35\n",
      "Accuracy:  0.359\n",
      "Accuracy:  0.356\n",
      "Accuracy:  0.367\n",
      "Accuracy:  0.365\n",
      "Accuracy:  0.363\n",
      "Accuracy:  0.361\n",
      "Accuracy:  0.359\n",
      "Accuracy:  0.359\n",
      "Accuracy:  0.367\n",
      "Accuracy:  0.36\n",
      "Accuracy:  0.364\n",
      "Accuracy:  0.36\n",
      "Accuracy:  0.36\n",
      "Accuracy:  0.369\n",
      "Accuracy:  0.369\n",
      "Accuracy:  0.356\n",
      "Accuracy:  0.359\n",
      "\n",
      "--------------------------------------------------------------------------------\n",
      "DATALOADER:0 TEST RESULTS\n",
      "{'test_acc': 0.35797855257987976}\n",
      "--------------------------------------------------------------------------------\n",
      "\n"
     ]
    },
    {
     "data": {
      "text/plain": [
       "[{'test_acc': 0.35797855257987976}]"
      ]
     },
     "execution_count": 11,
     "metadata": {},
     "output_type": "execute_result"
    }
   ],
   "source": [
    "#!g1.1\n",
    "ds_train = MyDataset(X=X_train, y=y_train, transforms = tt.Compose([tt.ToTensor()]))\n",
    "ds_val = MyDataset(X=X_val, y=y_val, transforms =  tt.Compose([tt.ToTensor()]))\n",
    "dl_train = DataLoader(ds_train, batch_size=128, shuffle=True, num_workers=8)\n",
    "dl_val = DataLoader(ds_val, batch_size=64, shuffle=False, num_workers=8)\n",
    "\n",
    "model = MyModel_1(num_classes=3)\n",
    "trainer = pl.Trainer(max_epochs=20, gpus=1, log_every_n_steps=5)\n",
    "trainer.fit(model, dl_train, dl_val)\n",
    "\n",
    "ds_test = MyDataset(X=X_test, y=y_test, transforms =  tt.Compose([tt.ToTensor()]))\n",
    "dl_test = DataLoader(ds_test, batch_size=128, num_workers=8)\n",
    "trainer.test(model, dl_test)"
   ]
  },
  {
   "cell_type": "markdown",
   "id": "4b640b08",
   "metadata": {
    "cellId": "ygxo82t58aepxrmmed61",
    "execution_id": "caa5bb9a-7f28-488e-93db-af23b09e8726"
   },
   "source": [
    "Получили взвешенную точность 0.357. Будем улучшать"
   ]
  },
  {
   "cell_type": "markdown",
   "id": "d810dcc9",
   "metadata": {
    "cellId": "vtebevroxzhlyb4yc7kgd",
    "execution_id": "5e2a6c08-fe91-49d4-aa5d-921a42db8bb5"
   },
   "source": [
    "## Approach 2. Разморозка модели + разные лернинг рейты"
   ]
  },
  {
   "cell_type": "markdown",
   "id": "5a6cf1b6",
   "metadata": {
    "cellId": "jbrp1fmulbbg87scimcer",
    "execution_id": "8d152a02-6437-4d50-9479-23e23be29877"
   },
   "source": [
    "Вообще свертки устроены таким образом, что чем глубже сеть, тем более локальные паттерны находит модель. Исходя из этого факта, можно попробовать разморозить не всю сеть, а только последние свертки. Однако в предыдущей попытке получилась очень низкая точность, поэтому я разморожу вообще всю сеть\n",
    "\n",
    "Получается, что мы дообучиваем слои модели и учим с нуля классификатор. В таком случае нам нужен лернинг рейт для классификатора больше, чем для backbone."
   ]
  },
  {
   "cell_type": "code",
   "execution_count": 29,
   "id": "c97076fe",
   "metadata": {
    "cellId": "5add96isgxjklik5lbajh9"
   },
   "outputs": [],
   "source": [
    "#!g1.1\n",
    "class MyModel_2(MyModel_1):    \n",
    "    \n",
    "    def __init__(self, num_classes=3, **optimizer_hyperparams):\n",
    "        super().__init__(num_classes=num_classes, **optimizer_hyperparams)\n",
    "        \n",
    "        for param in self.model.parameters():\n",
    "            param.requires_grad = True\n",
    "                    \n",
    "        self.training_params_num = sum(p.numel() for p in self.model.parameters() if p.requires_grad)\n",
    " \n",
    "    \n",
    "    def configure_optimizers(self):        \n",
    "        \n",
    "        parameters = [{'params': [p for n, p in self.model.features.named_parameters()],\n",
    "                       'lr': 1e-3}]\n",
    "        \n",
    "        parameters += [{'params': [p for n, p in self.model.classifier.named_parameters()],\n",
    "                        'lr': 5e-3}]\n",
    "    \n",
    "        optimizer = torch.optim.Adam(parameters)\n",
    "        return [optimizer]\n"
   ]
  },
  {
   "cell_type": "code",
   "execution_count": 17,
   "id": "3f5654e6",
   "metadata": {
    "cellId": "r6tijtc2b8hpmm0645f64l"
   },
   "outputs": [
    {
     "data": {
      "application/vnd.jupyter.widget-view+json": {
       "model_id": "c22d22426f2442a3899877079ba10653",
       "version_major": 2,
       "version_minor": 0
      },
      "text/plain": [
       "HBox(children=(HTML(value='Validation sanity check'), FloatProgress(value=1.0, bar_style='info', layout=Layout…"
      ]
     },
     "metadata": {},
     "output_type": "display_data"
    },
    {
     "data": {
      "application/vnd.jupyter.widget-view+json": {
       "model_id": "7c0d688bfab14ce79f66f3a162d76fb5",
       "version_major": 2,
       "version_minor": 0
      },
      "text/plain": [
       "HBox(children=(HTML(value='Training'), FloatProgress(value=1.0, bar_style='info', layout=Layout(flex='2'), max…"
      ]
     },
     "metadata": {},
     "output_type": "display_data"
    },
    {
     "data": {
      "application/vnd.jupyter.widget-view+json": {
       "model_id": "fd362ec4cee7452db01f6f754c78f770",
       "version_major": 2,
       "version_minor": 0
      },
      "text/plain": [
       "HBox(children=(HTML(value='Validating'), FloatProgress(value=1.0, bar_style='info', layout=Layout(flex='2'), m…"
      ]
     },
     "metadata": {},
     "output_type": "display_data"
    },
    {
     "data": {
      "application/vnd.jupyter.widget-view+json": {
       "model_id": "911a1cecd8414164929e2fe692dc8406",
       "version_major": 2,
       "version_minor": 0
      },
      "text/plain": [
       "HBox(children=(HTML(value='Validating'), FloatProgress(value=1.0, bar_style='info', layout=Layout(flex='2'), m…"
      ]
     },
     "metadata": {},
     "output_type": "display_data"
    },
    {
     "data": {
      "application/vnd.jupyter.widget-view+json": {
       "model_id": "9300f93e267f4bff9fae637b4ae5a618",
       "version_major": 2,
       "version_minor": 0
      },
      "text/plain": [
       "HBox(children=(HTML(value='Validating'), FloatProgress(value=1.0, bar_style='info', layout=Layout(flex='2'), m…"
      ]
     },
     "metadata": {},
     "output_type": "display_data"
    },
    {
     "data": {
      "application/vnd.jupyter.widget-view+json": {
       "model_id": "fcb0a553529b4005bb23a811b04135d7",
       "version_major": 2,
       "version_minor": 0
      },
      "text/plain": [
       "HBox(children=(HTML(value='Validating'), FloatProgress(value=1.0, bar_style='info', layout=Layout(flex='2'), m…"
      ]
     },
     "metadata": {},
     "output_type": "display_data"
    },
    {
     "data": {
      "application/vnd.jupyter.widget-view+json": {
       "model_id": "20fc6c865b3c4bbf9ea8f51470fb47cd",
       "version_major": 2,
       "version_minor": 0
      },
      "text/plain": [
       "HBox(children=(HTML(value='Validating'), FloatProgress(value=1.0, bar_style='info', layout=Layout(flex='2'), m…"
      ]
     },
     "metadata": {},
     "output_type": "display_data"
    },
    {
     "data": {
      "application/vnd.jupyter.widget-view+json": {
       "model_id": "850d88b3e5a04a8f8fea03cb2c55bf45",
       "version_major": 2,
       "version_minor": 0
      },
      "text/plain": [
       "HBox(children=(HTML(value='Validating'), FloatProgress(value=1.0, bar_style='info', layout=Layout(flex='2'), m…"
      ]
     },
     "metadata": {},
     "output_type": "display_data"
    },
    {
     "data": {
      "application/vnd.jupyter.widget-view+json": {
       "model_id": "604ed612659341ada358d7d15648d587",
       "version_major": 2,
       "version_minor": 0
      },
      "text/plain": [
       "HBox(children=(HTML(value='Validating'), FloatProgress(value=1.0, bar_style='info', layout=Layout(flex='2'), m…"
      ]
     },
     "metadata": {},
     "output_type": "display_data"
    },
    {
     "data": {
      "application/vnd.jupyter.widget-view+json": {
       "model_id": "1dbbfc385a5a4cb09cbc7a2e5465eccd",
       "version_major": 2,
       "version_minor": 0
      },
      "text/plain": [
       "HBox(children=(HTML(value='Validating'), FloatProgress(value=1.0, bar_style='info', layout=Layout(flex='2'), m…"
      ]
     },
     "metadata": {},
     "output_type": "display_data"
    },
    {
     "data": {
      "application/vnd.jupyter.widget-view+json": {
       "model_id": "f72e3e3e53694aab9630775c90f90b35",
       "version_major": 2,
       "version_minor": 0
      },
      "text/plain": [
       "HBox(children=(HTML(value='Validating'), FloatProgress(value=1.0, bar_style='info', layout=Layout(flex='2'), m…"
      ]
     },
     "metadata": {},
     "output_type": "display_data"
    },
    {
     "data": {
      "application/vnd.jupyter.widget-view+json": {
       "model_id": "900f40f848534399b79cb35f3dbaaccb",
       "version_major": 2,
       "version_minor": 0
      },
      "text/plain": [
       "HBox(children=(HTML(value='Validating'), FloatProgress(value=1.0, bar_style='info', layout=Layout(flex='2'), m…"
      ]
     },
     "metadata": {},
     "output_type": "display_data"
    },
    {
     "data": {
      "application/vnd.jupyter.widget-view+json": {
       "model_id": "f2ebd6a6ef044747a60043c99477c416",
       "version_major": 2,
       "version_minor": 0
      },
      "text/plain": [
       "HBox(children=(HTML(value='Validating'), FloatProgress(value=1.0, bar_style='info', layout=Layout(flex='2'), m…"
      ]
     },
     "metadata": {},
     "output_type": "display_data"
    },
    {
     "data": {
      "application/vnd.jupyter.widget-view+json": {
       "model_id": "b8c904481b94474ba036ec530fc57574",
       "version_major": 2,
       "version_minor": 0
      },
      "text/plain": [
       "HBox(children=(HTML(value='Validating'), FloatProgress(value=1.0, bar_style='info', layout=Layout(flex='2'), m…"
      ]
     },
     "metadata": {},
     "output_type": "display_data"
    },
    {
     "data": {
      "application/vnd.jupyter.widget-view+json": {
       "model_id": "07113b9ab714459190fa9bbf1b6dc779",
       "version_major": 2,
       "version_minor": 0
      },
      "text/plain": [
       "HBox(children=(HTML(value='Validating'), FloatProgress(value=1.0, bar_style='info', layout=Layout(flex='2'), m…"
      ]
     },
     "metadata": {},
     "output_type": "display_data"
    },
    {
     "data": {
      "application/vnd.jupyter.widget-view+json": {
       "model_id": "b9dcd336ee7d4a989a2b1351d4170542",
       "version_major": 2,
       "version_minor": 0
      },
      "text/plain": [
       "HBox(children=(HTML(value='Validating'), FloatProgress(value=1.0, bar_style='info', layout=Layout(flex='2'), m…"
      ]
     },
     "metadata": {},
     "output_type": "display_data"
    },
    {
     "data": {
      "application/vnd.jupyter.widget-view+json": {
       "model_id": "96b2f83a653f4b3d854deaf59b6e6053",
       "version_major": 2,
       "version_minor": 0
      },
      "text/plain": [
       "HBox(children=(HTML(value='Validating'), FloatProgress(value=1.0, bar_style='info', layout=Layout(flex='2'), m…"
      ]
     },
     "metadata": {},
     "output_type": "display_data"
    },
    {
     "data": {
      "application/vnd.jupyter.widget-view+json": {
       "model_id": "74b3bab1437c4aeb9b3e0c81da51a660",
       "version_major": 2,
       "version_minor": 0
      },
      "text/plain": [
       "HBox(children=(HTML(value='Validating'), FloatProgress(value=1.0, bar_style='info', layout=Layout(flex='2'), m…"
      ]
     },
     "metadata": {},
     "output_type": "display_data"
    },
    {
     "data": {
      "application/vnd.jupyter.widget-view+json": {
       "model_id": "b9485b6ae41a44328318e647a255360b",
       "version_major": 2,
       "version_minor": 0
      },
      "text/plain": [
       "HBox(children=(HTML(value='Validating'), FloatProgress(value=1.0, bar_style='info', layout=Layout(flex='2'), m…"
      ]
     },
     "metadata": {},
     "output_type": "display_data"
    },
    {
     "data": {
      "application/vnd.jupyter.widget-view+json": {
       "model_id": "3ad2fd66d72a403093f7579baf1194ff",
       "version_major": 2,
       "version_minor": 0
      },
      "text/plain": [
       "HBox(children=(HTML(value='Validating'), FloatProgress(value=1.0, bar_style='info', layout=Layout(flex='2'), m…"
      ]
     },
     "metadata": {},
     "output_type": "display_data"
    },
    {
     "data": {
      "application/vnd.jupyter.widget-view+json": {
       "model_id": "8841f20a06974149a0cb254a6bbe86da",
       "version_major": 2,
       "version_minor": 0
      },
      "text/plain": [
       "HBox(children=(HTML(value='Validating'), FloatProgress(value=1.0, bar_style='info', layout=Layout(flex='2'), m…"
      ]
     },
     "metadata": {},
     "output_type": "display_data"
    },
    {
     "data": {
      "application/vnd.jupyter.widget-view+json": {
       "model_id": "40ce349b9a2e4a18815ef8f471f74998",
       "version_major": 2,
       "version_minor": 0
      },
      "text/plain": [
       "HBox(children=(HTML(value='Validating'), FloatProgress(value=1.0, bar_style='info', layout=Layout(flex='2'), m…"
      ]
     },
     "metadata": {},
     "output_type": "display_data"
    },
    {
     "name": "stderr",
     "output_type": "stream",
     "text": [
      "GPU available: True, used: True\n",
      "TPU available: False, using: 0 TPU cores\n",
      "IPU available: False, using: 0 IPUs\n",
      "LOCAL_RANK: 0 - CUDA_VISIBLE_DEVICES: [0]\n",
      "\n",
      "  | Name  | Type         | Params\n",
      "---------------------------------------\n",
      "0 | model | EfficientNet | 19.3 M\n",
      "---------------------------------------\n",
      "19.3 M    Trainable params\n",
      "0         Non-trainable params\n",
      "19.3 M    Total params\n",
      "77.386    Total estimated model params size (MB)\n",
      "LOCAL_RANK: 0 - CUDA_VISIBLE_DEVICES: [0]\n"
     ]
    },
    {
     "data": {
      "application/vnd.jupyter.widget-view+json": {
       "model_id": "bd881a01f7b347f6bdc99f4003f13c3f",
       "version_major": 2,
       "version_minor": 0
      },
      "text/plain": [
       "HBox(children=(HTML(value='Testing'), FloatProgress(value=1.0, bar_style='info', layout=Layout(flex='2'), max=…"
      ]
     },
     "metadata": {},
     "output_type": "display_data"
    },
    {
     "name": "stdout",
     "output_type": "stream",
     "text": [
      "Accuracy:  0.333\n",
      "Accuracy:  0.513\n",
      "Accuracy:  0.374\n",
      "Accuracy:  0.393\n",
      "Accuracy:  0.392\n",
      "Accuracy:  0.396\n",
      "Accuracy:  0.394\n",
      "Accuracy:  0.388\n",
      "Accuracy:  0.408\n",
      "Accuracy:  0.403\n",
      "\n",
      "Accuracy:  0.389\n",
      "Accuracy:  0.401\n",
      "Accuracy:  0.415\n",
      "Accuracy:  0.411\n",
      "Accuracy:  0.425\n",
      "Accuracy:  0.392\n",
      "Accuracy:  0.43\n",
      "Accuracy:  0.441\n",
      "Accuracy:  0.459\n",
      "Accuracy:  0.508\n",
      "Accuracy:  0.46\n",
      "\n",
      "--------------------------------------------------------------------------------\n",
      "DATALOADER:0 TEST RESULTS\n",
      "{'test_acc': 0.44075483083724976}\n",
      "--------------------------------------------------------------------------------\n",
      "\n"
     ]
    },
    {
     "data": {
      "text/plain": [
       "[{'test_acc': 0.44075483083724976}]"
      ]
     },
     "execution_count": 17,
     "metadata": {},
     "output_type": "execute_result"
    }
   ],
   "source": [
    "#!g1.1\n",
    "model2 = MyModel_2(num_classes=3)\n",
    "trainer = pl.Trainer(max_epochs=20, gpus=1, log_every_n_steps=5)\n",
    "trainer.fit(model2, dl_train, dl_val)\n",
    "\n",
    "ds_test = MyDataset(X=X_test, y=y_test, transforms =  tt.Compose([tt.ToTensor()]))\n",
    "dl_test = DataLoader(ds_test, batch_size=128, num_workers=8)\n",
    "trainer.test(model2, dl_test)"
   ]
  },
  {
   "cell_type": "markdown",
   "id": "e58796da",
   "metadata": {
    "cellId": "hvorrvckydl28ag8thmuon",
    "execution_id": "3be9acf1-e3d6-4ccd-ad64-8b263a35e542"
   },
   "source": [
    "Уже лучше!"
   ]
  },
  {
   "cell_type": "markdown",
   "id": "d30fea95",
   "metadata": {
    "cellId": "7h8136ln0xxqsx5t62c84",
    "execution_id": "efafbdb0-1d45-4fed-a396-2529a9f5fb75"
   },
   "source": [
    "## Approach 3. Перебор гиперпараметров"
   ]
  },
  {
   "cell_type": "markdown",
   "id": "d5120dcb",
   "metadata": {
    "cellId": "dk91dm7edd5o53dl196xwd",
    "execution_id": "318b1f17-ea04-4dc1-9676-bfa4eb34a7dd"
   },
   "source": [
    "Честно говоря, ни разу не писал код для перебора гиперпараметров для нейросети (только вручную разными запусками). Не уверен, что для нейросетей есть аналог гридсерча классических моделей машинного обучения, поэтому придется писать вручную"
   ]
  },
  {
   "cell_type": "code",
   "execution_count": 30,
   "id": "73e7dfc5",
   "metadata": {
    "cellId": "sfierb0n13idoyu7sr4tj"
   },
   "outputs": [],
   "source": [
    "#!g1.1\n",
    "class MyModel_3(MyModel_2):    \n",
    "    \n",
    "    def __init__(self, num_classes=3, **optimizer_hyperparams):\n",
    "        super().__init__(num_classes=num_classes, **optimizer_hyperparams)     \n",
    "    \n",
    "    def configure_optimizers(self):        \n",
    "        \n",
    "        parameters = [{'params': [p for n, p in self.model.features.named_parameters()],\n",
    "                       'lr': self.optimizer_hyperparams['lr']['features']}]\n",
    "        \n",
    "        parameters += [{'params': [p for n, p in self.model.classifier.named_parameters()],\n",
    "                        'lr': self.optimizer_hyperparams['lr']['classifier']}]\n",
    "    \n",
    "        optimizer = torch.optim.Adam(parameters, weight_decay=self.optimizer_hyperparams['weight_decay'])\n",
    "        return [optimizer]\n"
   ]
  },
  {
   "cell_type": "code",
   "execution_count": 18,
   "id": "d76a7f1e",
   "metadata": {
    "cellId": "g1ec9a8rdf5mvw4eks4mfj"
   },
   "outputs": [
    {
     "data": {
      "application/vnd.jupyter.widget-view+json": {
       "model_id": "2818bc5985ff47cfa3a80d4b8e97f13d",
       "version_major": 2,
       "version_minor": 0
      },
      "text/plain": [
       "HBox(children=(HTML(value='Validation sanity check'), FloatProgress(value=1.0, bar_style='info', layout=Layout…"
      ]
     },
     "metadata": {},
     "output_type": "display_data"
    },
    {
     "data": {
      "application/vnd.jupyter.widget-view+json": {
       "model_id": "65bfa0f7dacc43b6a1c9639b836337ce",
       "version_major": 2,
       "version_minor": 0
      },
      "text/plain": [
       "HBox(children=(HTML(value='Training'), FloatProgress(value=1.0, bar_style='info', layout=Layout(flex='2'), max…"
      ]
     },
     "metadata": {},
     "output_type": "display_data"
    },
    {
     "data": {
      "application/vnd.jupyter.widget-view+json": {
       "model_id": "a5d6a82830c64883be0499d53559cbfe",
       "version_major": 2,
       "version_minor": 0
      },
      "text/plain": [
       "HBox(children=(HTML(value='Validating'), FloatProgress(value=1.0, bar_style='info', layout=Layout(flex='2'), m…"
      ]
     },
     "metadata": {},
     "output_type": "display_data"
    },
    {
     "data": {
      "application/vnd.jupyter.widget-view+json": {
       "model_id": "4797933467fb4ac4873d2bfb9d2f5af3",
       "version_major": 2,
       "version_minor": 0
      },
      "text/plain": [
       "HBox(children=(HTML(value='Validating'), FloatProgress(value=1.0, bar_style='info', layout=Layout(flex='2'), m…"
      ]
     },
     "metadata": {},
     "output_type": "display_data"
    },
    {
     "data": {
      "application/vnd.jupyter.widget-view+json": {
       "model_id": "96ba89386b3b4587b1ca0436bd4fb893",
       "version_major": 2,
       "version_minor": 0
      },
      "text/plain": [
       "HBox(children=(HTML(value='Validating'), FloatProgress(value=1.0, bar_style='info', layout=Layout(flex='2'), m…"
      ]
     },
     "metadata": {},
     "output_type": "display_data"
    },
    {
     "data": {
      "application/vnd.jupyter.widget-view+json": {
       "model_id": "7c608e913c614520afe95e744e5d3c35",
       "version_major": 2,
       "version_minor": 0
      },
      "text/plain": [
       "HBox(children=(HTML(value='Validating'), FloatProgress(value=1.0, bar_style='info', layout=Layout(flex='2'), m…"
      ]
     },
     "metadata": {},
     "output_type": "display_data"
    },
    {
     "data": {
      "application/vnd.jupyter.widget-view+json": {
       "model_id": "54ee96b51f0c4224b7f466ed2181bf08",
       "version_major": 2,
       "version_minor": 0
      },
      "text/plain": [
       "HBox(children=(HTML(value='Validating'), FloatProgress(value=1.0, bar_style='info', layout=Layout(flex='2'), m…"
      ]
     },
     "metadata": {},
     "output_type": "display_data"
    },
    {
     "data": {
      "application/vnd.jupyter.widget-view+json": {
       "model_id": "ecab42ebf12c46e5878cb864d378dac6",
       "version_major": 2,
       "version_minor": 0
      },
      "text/plain": [
       "HBox(children=(HTML(value='Testing'), FloatProgress(value=1.0, bar_style='info', layout=Layout(flex='2'), max=…"
      ]
     },
     "metadata": {},
     "output_type": "display_data"
    },
    {
     "data": {
      "application/vnd.jupyter.widget-view+json": {
       "model_id": "4dbbeeaea2c24691867251fd3b3179d8",
       "version_major": 2,
       "version_minor": 0
      },
      "text/plain": [
       "HBox(children=(HTML(value='Validation sanity check'), FloatProgress(value=1.0, bar_style='info', layout=Layout…"
      ]
     },
     "metadata": {},
     "output_type": "display_data"
    },
    {
     "data": {
      "application/vnd.jupyter.widget-view+json": {
       "model_id": "741a40122fc54e9d81ac3f5eeaffeade",
       "version_major": 2,
       "version_minor": 0
      },
      "text/plain": [
       "HBox(children=(HTML(value='Training'), FloatProgress(value=1.0, bar_style='info', layout=Layout(flex='2'), max…"
      ]
     },
     "metadata": {},
     "output_type": "display_data"
    },
    {
     "data": {
      "application/vnd.jupyter.widget-view+json": {
       "model_id": "9c362af10f8f43109f4e3106dd5053d5",
       "version_major": 2,
       "version_minor": 0
      },
      "text/plain": [
       "HBox(children=(HTML(value='Validating'), FloatProgress(value=1.0, bar_style='info', layout=Layout(flex='2'), m…"
      ]
     },
     "metadata": {},
     "output_type": "display_data"
    },
    {
     "data": {
      "application/vnd.jupyter.widget-view+json": {
       "model_id": "0f0336979f7d414abf481a3c6cea453c",
       "version_major": 2,
       "version_minor": 0
      },
      "text/plain": [
       "HBox(children=(HTML(value='Validating'), FloatProgress(value=1.0, bar_style='info', layout=Layout(flex='2'), m…"
      ]
     },
     "metadata": {},
     "output_type": "display_data"
    },
    {
     "data": {
      "application/vnd.jupyter.widget-view+json": {
       "model_id": "78ca2e54df2746f58acb567dea544bc3",
       "version_major": 2,
       "version_minor": 0
      },
      "text/plain": [
       "HBox(children=(HTML(value='Validating'), FloatProgress(value=1.0, bar_style='info', layout=Layout(flex='2'), m…"
      ]
     },
     "metadata": {},
     "output_type": "display_data"
    },
    {
     "data": {
      "application/vnd.jupyter.widget-view+json": {
       "model_id": "0738e2a5258e404a8445fdc98ae47f63",
       "version_major": 2,
       "version_minor": 0
      },
      "text/plain": [
       "HBox(children=(HTML(value='Validating'), FloatProgress(value=1.0, bar_style='info', layout=Layout(flex='2'), m…"
      ]
     },
     "metadata": {},
     "output_type": "display_data"
    },
    {
     "data": {
      "application/vnd.jupyter.widget-view+json": {
       "model_id": "8b062832cc894f61a36d73a148fa734a",
       "version_major": 2,
       "version_minor": 0
      },
      "text/plain": [
       "HBox(children=(HTML(value='Validating'), FloatProgress(value=1.0, bar_style='info', layout=Layout(flex='2'), m…"
      ]
     },
     "metadata": {},
     "output_type": "display_data"
    },
    {
     "data": {
      "application/vnd.jupyter.widget-view+json": {
       "model_id": "0a18927b8fc04da29dcb0a8baefbb5c3",
       "version_major": 2,
       "version_minor": 0
      },
      "text/plain": [
       "HBox(children=(HTML(value='Testing'), FloatProgress(value=1.0, bar_style='info', layout=Layout(flex='2'), max=…"
      ]
     },
     "metadata": {},
     "output_type": "display_data"
    },
    {
     "data": {
      "application/vnd.jupyter.widget-view+json": {
       "model_id": "d7195f664043437481c9fa23f5d23c7e",
       "version_major": 2,
       "version_minor": 0
      },
      "text/plain": [
       "HBox(children=(HTML(value='Validation sanity check'), FloatProgress(value=1.0, bar_style='info', layout=Layout…"
      ]
     },
     "metadata": {},
     "output_type": "display_data"
    },
    {
     "data": {
      "application/vnd.jupyter.widget-view+json": {
       "model_id": "5d11ac39d2284f1786fc7262bff8f46e",
       "version_major": 2,
       "version_minor": 0
      },
      "text/plain": [
       "HBox(children=(HTML(value='Training'), FloatProgress(value=1.0, bar_style='info', layout=Layout(flex='2'), max…"
      ]
     },
     "metadata": {},
     "output_type": "display_data"
    },
    {
     "data": {
      "application/vnd.jupyter.widget-view+json": {
       "model_id": "6f86778ed53a4a629eb242c8b5a420b2",
       "version_major": 2,
       "version_minor": 0
      },
      "text/plain": [
       "HBox(children=(HTML(value='Validating'), FloatProgress(value=1.0, bar_style='info', layout=Layout(flex='2'), m…"
      ]
     },
     "metadata": {},
     "output_type": "display_data"
    },
    {
     "data": {
      "application/vnd.jupyter.widget-view+json": {
       "model_id": "c25fd9e35d18456faa0738f4f08d5176",
       "version_major": 2,
       "version_minor": 0
      },
      "text/plain": [
       "HBox(children=(HTML(value='Validating'), FloatProgress(value=1.0, bar_style='info', layout=Layout(flex='2'), m…"
      ]
     },
     "metadata": {},
     "output_type": "display_data"
    },
    {
     "data": {
      "application/vnd.jupyter.widget-view+json": {
       "model_id": "241f18a5284f408b87b385fdfe9c813a",
       "version_major": 2,
       "version_minor": 0
      },
      "text/plain": [
       "HBox(children=(HTML(value='Validating'), FloatProgress(value=1.0, bar_style='info', layout=Layout(flex='2'), m…"
      ]
     },
     "metadata": {},
     "output_type": "display_data"
    },
    {
     "data": {
      "application/vnd.jupyter.widget-view+json": {
       "model_id": "92ab183a50b44e448ad95295c7f5a603",
       "version_major": 2,
       "version_minor": 0
      },
      "text/plain": [
       "HBox(children=(HTML(value='Validating'), FloatProgress(value=1.0, bar_style='info', layout=Layout(flex='2'), m…"
      ]
     },
     "metadata": {},
     "output_type": "display_data"
    },
    {
     "data": {
      "application/vnd.jupyter.widget-view+json": {
       "model_id": "b1ba44cc26d34a548fa84ed77efaa165",
       "version_major": 2,
       "version_minor": 0
      },
      "text/plain": [
       "HBox(children=(HTML(value='Validating'), FloatProgress(value=1.0, bar_style='info', layout=Layout(flex='2'), m…"
      ]
     },
     "metadata": {},
     "output_type": "display_data"
    },
    {
     "data": {
      "application/vnd.jupyter.widget-view+json": {
       "model_id": "d6a077850cda4e4f860fc783265755be",
       "version_major": 2,
       "version_minor": 0
      },
      "text/plain": [
       "HBox(children=(HTML(value='Testing'), FloatProgress(value=1.0, bar_style='info', layout=Layout(flex='2'), max=…"
      ]
     },
     "metadata": {},
     "output_type": "display_data"
    },
    {
     "data": {
      "application/vnd.jupyter.widget-view+json": {
       "model_id": "02585e266b01452186caa47058479e4f",
       "version_major": 2,
       "version_minor": 0
      },
      "text/plain": [
       "HBox(children=(HTML(value='Validation sanity check'), FloatProgress(value=1.0, bar_style='info', layout=Layout…"
      ]
     },
     "metadata": {},
     "output_type": "display_data"
    },
    {
     "data": {
      "application/vnd.jupyter.widget-view+json": {
       "model_id": "b5f906d97414478590249b994a80de65",
       "version_major": 2,
       "version_minor": 0
      },
      "text/plain": [
       "HBox(children=(HTML(value='Training'), FloatProgress(value=1.0, bar_style='info', layout=Layout(flex='2'), max…"
      ]
     },
     "metadata": {},
     "output_type": "display_data"
    },
    {
     "data": {
      "application/vnd.jupyter.widget-view+json": {
       "model_id": "7a63dbda40614baabbed61680d6e7064",
       "version_major": 2,
       "version_minor": 0
      },
      "text/plain": [
       "HBox(children=(HTML(value='Validating'), FloatProgress(value=1.0, bar_style='info', layout=Layout(flex='2'), m…"
      ]
     },
     "metadata": {},
     "output_type": "display_data"
    },
    {
     "data": {
      "application/vnd.jupyter.widget-view+json": {
       "model_id": "238b25e2810c449d808cbd6b39ce241a",
       "version_major": 2,
       "version_minor": 0
      },
      "text/plain": [
       "HBox(children=(HTML(value='Validating'), FloatProgress(value=1.0, bar_style='info', layout=Layout(flex='2'), m…"
      ]
     },
     "metadata": {},
     "output_type": "display_data"
    },
    {
     "data": {
      "application/vnd.jupyter.widget-view+json": {
       "model_id": "25bfce3128d849648bbdf6ff45a6eb6e",
       "version_major": 2,
       "version_minor": 0
      },
      "text/plain": [
       "HBox(children=(HTML(value='Validating'), FloatProgress(value=1.0, bar_style='info', layout=Layout(flex='2'), m…"
      ]
     },
     "metadata": {},
     "output_type": "display_data"
    },
    {
     "data": {
      "application/vnd.jupyter.widget-view+json": {
       "model_id": "380b23a4cbd04e74be734c3411f6b49c",
       "version_major": 2,
       "version_minor": 0
      },
      "text/plain": [
       "HBox(children=(HTML(value='Validating'), FloatProgress(value=1.0, bar_style='info', layout=Layout(flex='2'), m…"
      ]
     },
     "metadata": {},
     "output_type": "display_data"
    },
    {
     "data": {
      "application/vnd.jupyter.widget-view+json": {
       "model_id": "b862081417954d5183b9d21ced26980d",
       "version_major": 2,
       "version_minor": 0
      },
      "text/plain": [
       "HBox(children=(HTML(value='Validating'), FloatProgress(value=1.0, bar_style='info', layout=Layout(flex='2'), m…"
      ]
     },
     "metadata": {},
     "output_type": "display_data"
    },
    {
     "data": {
      "application/vnd.jupyter.widget-view+json": {
       "model_id": "b2ea85ec757a4c3db891db71c36044d9",
       "version_major": 2,
       "version_minor": 0
      },
      "text/plain": [
       "HBox(children=(HTML(value='Testing'), FloatProgress(value=1.0, bar_style='info', layout=Layout(flex='2'), max=…"
      ]
     },
     "metadata": {},
     "output_type": "display_data"
    },
    {
     "data": {
      "application/vnd.jupyter.widget-view+json": {
       "model_id": "0c002f025c554fa89a2dc3ce2cec0b3a",
       "version_major": 2,
       "version_minor": 0
      },
      "text/plain": [
       "HBox(children=(HTML(value='Validation sanity check'), FloatProgress(value=1.0, bar_style='info', layout=Layout…"
      ]
     },
     "metadata": {},
     "output_type": "display_data"
    },
    {
     "data": {
      "application/vnd.jupyter.widget-view+json": {
       "model_id": "eb5a1bf0b0c44aefa71292739c05c54c",
       "version_major": 2,
       "version_minor": 0
      },
      "text/plain": [
       "HBox(children=(HTML(value='Training'), FloatProgress(value=1.0, bar_style='info', layout=Layout(flex='2'), max…"
      ]
     },
     "metadata": {},
     "output_type": "display_data"
    },
    {
     "data": {
      "application/vnd.jupyter.widget-view+json": {
       "model_id": "9839b9d5d3374033a0eb48e61e2b6b69",
       "version_major": 2,
       "version_minor": 0
      },
      "text/plain": [
       "HBox(children=(HTML(value='Validating'), FloatProgress(value=1.0, bar_style='info', layout=Layout(flex='2'), m…"
      ]
     },
     "metadata": {},
     "output_type": "display_data"
    },
    {
     "data": {
      "application/vnd.jupyter.widget-view+json": {
       "model_id": "e22a8e2bfd7b48a794fd67925bd62420",
       "version_major": 2,
       "version_minor": 0
      },
      "text/plain": [
       "HBox(children=(HTML(value='Validating'), FloatProgress(value=1.0, bar_style='info', layout=Layout(flex='2'), m…"
      ]
     },
     "metadata": {},
     "output_type": "display_data"
    },
    {
     "data": {
      "application/vnd.jupyter.widget-view+json": {
       "model_id": "4659450bdde440b09a8627159eb8a1fc",
       "version_major": 2,
       "version_minor": 0
      },
      "text/plain": [
       "HBox(children=(HTML(value='Validating'), FloatProgress(value=1.0, bar_style='info', layout=Layout(flex='2'), m…"
      ]
     },
     "metadata": {},
     "output_type": "display_data"
    },
    {
     "data": {
      "application/vnd.jupyter.widget-view+json": {
       "model_id": "29ce7d2da8134c7f9fa1b9ac86d2d05c",
       "version_major": 2,
       "version_minor": 0
      },
      "text/plain": [
       "HBox(children=(HTML(value='Validating'), FloatProgress(value=1.0, bar_style='info', layout=Layout(flex='2'), m…"
      ]
     },
     "metadata": {},
     "output_type": "display_data"
    },
    {
     "data": {
      "application/vnd.jupyter.widget-view+json": {
       "model_id": "25af9621c8a84baa867243810020ee27",
       "version_major": 2,
       "version_minor": 0
      },
      "text/plain": [
       "HBox(children=(HTML(value='Validating'), FloatProgress(value=1.0, bar_style='info', layout=Layout(flex='2'), m…"
      ]
     },
     "metadata": {},
     "output_type": "display_data"
    },
    {
     "data": {
      "application/vnd.jupyter.widget-view+json": {
       "model_id": "1e003b8d3dfb468a9cefe9460cacd09d",
       "version_major": 2,
       "version_minor": 0
      },
      "text/plain": [
       "HBox(children=(HTML(value='Testing'), FloatProgress(value=1.0, bar_style='info', layout=Layout(flex='2'), max=…"
      ]
     },
     "metadata": {},
     "output_type": "display_data"
    },
    {
     "data": {
      "application/vnd.jupyter.widget-view+json": {
       "model_id": "2ed40f989b59412587a7435e2d55a425",
       "version_major": 2,
       "version_minor": 0
      },
      "text/plain": [
       "HBox(children=(HTML(value='Validation sanity check'), FloatProgress(value=1.0, bar_style='info', layout=Layout…"
      ]
     },
     "metadata": {},
     "output_type": "display_data"
    },
    {
     "data": {
      "application/vnd.jupyter.widget-view+json": {
       "model_id": "d2f500fc687e4f3bb875465fe75279e0",
       "version_major": 2,
       "version_minor": 0
      },
      "text/plain": [
       "HBox(children=(HTML(value='Training'), FloatProgress(value=1.0, bar_style='info', layout=Layout(flex='2'), max…"
      ]
     },
     "metadata": {},
     "output_type": "display_data"
    },
    {
     "data": {
      "application/vnd.jupyter.widget-view+json": {
       "model_id": "ac054640265741cab9d88f08751c6041",
       "version_major": 2,
       "version_minor": 0
      },
      "text/plain": [
       "HBox(children=(HTML(value='Validating'), FloatProgress(value=1.0, bar_style='info', layout=Layout(flex='2'), m…"
      ]
     },
     "metadata": {},
     "output_type": "display_data"
    },
    {
     "data": {
      "application/vnd.jupyter.widget-view+json": {
       "model_id": "7003c87777a846d9ad7751186101ed1d",
       "version_major": 2,
       "version_minor": 0
      },
      "text/plain": [
       "HBox(children=(HTML(value='Validating'), FloatProgress(value=1.0, bar_style='info', layout=Layout(flex='2'), m…"
      ]
     },
     "metadata": {},
     "output_type": "display_data"
    },
    {
     "data": {
      "application/vnd.jupyter.widget-view+json": {
       "model_id": "b42e8d5dc2704f949fed7a5eef5848aa",
       "version_major": 2,
       "version_minor": 0
      },
      "text/plain": [
       "HBox(children=(HTML(value='Validating'), FloatProgress(value=1.0, bar_style='info', layout=Layout(flex='2'), m…"
      ]
     },
     "metadata": {},
     "output_type": "display_data"
    },
    {
     "data": {
      "application/vnd.jupyter.widget-view+json": {
       "model_id": "f0acad86eba24a82b78ae9381731b3e5",
       "version_major": 2,
       "version_minor": 0
      },
      "text/plain": [
       "HBox(children=(HTML(value='Validating'), FloatProgress(value=1.0, bar_style='info', layout=Layout(flex='2'), m…"
      ]
     },
     "metadata": {},
     "output_type": "display_data"
    },
    {
     "data": {
      "application/vnd.jupyter.widget-view+json": {
       "model_id": "9c3a13e81ef549d8ad72449f8ca75b33",
       "version_major": 2,
       "version_minor": 0
      },
      "text/plain": [
       "HBox(children=(HTML(value='Validating'), FloatProgress(value=1.0, bar_style='info', layout=Layout(flex='2'), m…"
      ]
     },
     "metadata": {},
     "output_type": "display_data"
    },
    {
     "data": {
      "application/vnd.jupyter.widget-view+json": {
       "model_id": "ed767ffe8be8425c82122e3549a4e5df",
       "version_major": 2,
       "version_minor": 0
      },
      "text/plain": [
       "HBox(children=(HTML(value='Testing'), FloatProgress(value=1.0, bar_style='info', layout=Layout(flex='2'), max=…"
      ]
     },
     "metadata": {},
     "output_type": "display_data"
    },
    {
     "data": {
      "application/vnd.jupyter.widget-view+json": {
       "model_id": "892f919615d64db383853d96c9080855",
       "version_major": 2,
       "version_minor": 0
      },
      "text/plain": [
       "HBox(children=(HTML(value='Validation sanity check'), FloatProgress(value=1.0, bar_style='info', layout=Layout…"
      ]
     },
     "metadata": {},
     "output_type": "display_data"
    },
    {
     "data": {
      "application/vnd.jupyter.widget-view+json": {
       "model_id": "c82ce9e7127049b2a8cf6b6a907ac4ad",
       "version_major": 2,
       "version_minor": 0
      },
      "text/plain": [
       "HBox(children=(HTML(value='Training'), FloatProgress(value=1.0, bar_style='info', layout=Layout(flex='2'), max…"
      ]
     },
     "metadata": {},
     "output_type": "display_data"
    },
    {
     "data": {
      "application/vnd.jupyter.widget-view+json": {
       "model_id": "9e346619ebee4960952a2c85d215b8e0",
       "version_major": 2,
       "version_minor": 0
      },
      "text/plain": [
       "HBox(children=(HTML(value='Validating'), FloatProgress(value=1.0, bar_style='info', layout=Layout(flex='2'), m…"
      ]
     },
     "metadata": {},
     "output_type": "display_data"
    },
    {
     "data": {
      "application/vnd.jupyter.widget-view+json": {
       "model_id": "2e5e8f2b34ff4a32890eb93744bddb0a",
       "version_major": 2,
       "version_minor": 0
      },
      "text/plain": [
       "HBox(children=(HTML(value='Validating'), FloatProgress(value=1.0, bar_style='info', layout=Layout(flex='2'), m…"
      ]
     },
     "metadata": {},
     "output_type": "display_data"
    },
    {
     "data": {
      "application/vnd.jupyter.widget-view+json": {
       "model_id": "4a4b7166548443f38c484d0f0202101d",
       "version_major": 2,
       "version_minor": 0
      },
      "text/plain": [
       "HBox(children=(HTML(value='Validating'), FloatProgress(value=1.0, bar_style='info', layout=Layout(flex='2'), m…"
      ]
     },
     "metadata": {},
     "output_type": "display_data"
    },
    {
     "data": {
      "application/vnd.jupyter.widget-view+json": {
       "model_id": "790f8393e4f54853912ddb6897b84bc8",
       "version_major": 2,
       "version_minor": 0
      },
      "text/plain": [
       "HBox(children=(HTML(value='Validating'), FloatProgress(value=1.0, bar_style='info', layout=Layout(flex='2'), m…"
      ]
     },
     "metadata": {},
     "output_type": "display_data"
    },
    {
     "data": {
      "application/vnd.jupyter.widget-view+json": {
       "model_id": "62531eb79cd645eba118c71113e3c11b",
       "version_major": 2,
       "version_minor": 0
      },
      "text/plain": [
       "HBox(children=(HTML(value='Validating'), FloatProgress(value=1.0, bar_style='info', layout=Layout(flex='2'), m…"
      ]
     },
     "metadata": {},
     "output_type": "display_data"
    },
    {
     "data": {
      "application/vnd.jupyter.widget-view+json": {
       "model_id": "a55f3eb55dae4a8a83c51791960ee94a",
       "version_major": 2,
       "version_minor": 0
      },
      "text/plain": [
       "HBox(children=(HTML(value='Testing'), FloatProgress(value=1.0, bar_style='info', layout=Layout(flex='2'), max=…"
      ]
     },
     "metadata": {},
     "output_type": "display_data"
    },
    {
     "data": {
      "application/vnd.jupyter.widget-view+json": {
       "model_id": "b9d93fcec5234318b6b07647cffa4e3b",
       "version_major": 2,
       "version_minor": 0
      },
      "text/plain": [
       "HBox(children=(HTML(value='Validation sanity check'), FloatProgress(value=1.0, bar_style='info', layout=Layout…"
      ]
     },
     "metadata": {},
     "output_type": "display_data"
    },
    {
     "data": {
      "application/vnd.jupyter.widget-view+json": {
       "model_id": "35ec836344a849429b77d8f756d5bcf5",
       "version_major": 2,
       "version_minor": 0
      },
      "text/plain": [
       "HBox(children=(HTML(value='Training'), FloatProgress(value=1.0, bar_style='info', layout=Layout(flex='2'), max…"
      ]
     },
     "metadata": {},
     "output_type": "display_data"
    },
    {
     "data": {
      "application/vnd.jupyter.widget-view+json": {
       "model_id": "8d335b4c3ab54fcca6fbd0175d462989",
       "version_major": 2,
       "version_minor": 0
      },
      "text/plain": [
       "HBox(children=(HTML(value='Validating'), FloatProgress(value=1.0, bar_style='info', layout=Layout(flex='2'), m…"
      ]
     },
     "metadata": {},
     "output_type": "display_data"
    },
    {
     "data": {
      "application/vnd.jupyter.widget-view+json": {
       "model_id": "f4ad6cfdabcc4e0db098873bafaa5cfc",
       "version_major": 2,
       "version_minor": 0
      },
      "text/plain": [
       "HBox(children=(HTML(value='Validating'), FloatProgress(value=1.0, bar_style='info', layout=Layout(flex='2'), m…"
      ]
     },
     "metadata": {},
     "output_type": "display_data"
    },
    {
     "data": {
      "application/vnd.jupyter.widget-view+json": {
       "model_id": "b1bf8e4c3e0f4b5aa562fd50de9bf301",
       "version_major": 2,
       "version_minor": 0
      },
      "text/plain": [
       "HBox(children=(HTML(value='Validating'), FloatProgress(value=1.0, bar_style='info', layout=Layout(flex='2'), m…"
      ]
     },
     "metadata": {},
     "output_type": "display_data"
    },
    {
     "data": {
      "application/vnd.jupyter.widget-view+json": {
       "model_id": "273e4733d2274c82b650f6e6043e160c",
       "version_major": 2,
       "version_minor": 0
      },
      "text/plain": [
       "HBox(children=(HTML(value='Validating'), FloatProgress(value=1.0, bar_style='info', layout=Layout(flex='2'), m…"
      ]
     },
     "metadata": {},
     "output_type": "display_data"
    },
    {
     "data": {
      "application/vnd.jupyter.widget-view+json": {
       "model_id": "82d437f2bf3b4b70a25a3ae63f2069f0",
       "version_major": 2,
       "version_minor": 0
      },
      "text/plain": [
       "HBox(children=(HTML(value='Validating'), FloatProgress(value=1.0, bar_style='info', layout=Layout(flex='2'), m…"
      ]
     },
     "metadata": {},
     "output_type": "display_data"
    },
    {
     "data": {
      "application/vnd.jupyter.widget-view+json": {
       "model_id": "af2a01e9f4ed4f0fa641be02b6ab8275",
       "version_major": 2,
       "version_minor": 0
      },
      "text/plain": [
       "HBox(children=(HTML(value='Testing'), FloatProgress(value=1.0, bar_style='info', layout=Layout(flex='2'), max=…"
      ]
     },
     "metadata": {},
     "output_type": "display_data"
    },
    {
     "data": {
      "application/vnd.jupyter.widget-view+json": {
       "model_id": "058cd8da40e742dd9e750e59e40647ae",
       "version_major": 2,
       "version_minor": 0
      },
      "text/plain": [
       "HBox(children=(HTML(value='Validation sanity check'), FloatProgress(value=1.0, bar_style='info', layout=Layout…"
      ]
     },
     "metadata": {},
     "output_type": "display_data"
    },
    {
     "data": {
      "application/vnd.jupyter.widget-view+json": {
       "model_id": "c8deb1ac4b4c4e528cbc6e74941e3acf",
       "version_major": 2,
       "version_minor": 0
      },
      "text/plain": [
       "HBox(children=(HTML(value='Training'), FloatProgress(value=1.0, bar_style='info', layout=Layout(flex='2'), max…"
      ]
     },
     "metadata": {},
     "output_type": "display_data"
    },
    {
     "data": {
      "application/vnd.jupyter.widget-view+json": {
       "model_id": "d899beef4b694ee3a62fa7738f0483d7",
       "version_major": 2,
       "version_minor": 0
      },
      "text/plain": [
       "HBox(children=(HTML(value='Validating'), FloatProgress(value=1.0, bar_style='info', layout=Layout(flex='2'), m…"
      ]
     },
     "metadata": {},
     "output_type": "display_data"
    },
    {
     "data": {
      "application/vnd.jupyter.widget-view+json": {
       "model_id": "45164d10ba764231b7967e15a69f8d32",
       "version_major": 2,
       "version_minor": 0
      },
      "text/plain": [
       "HBox(children=(HTML(value='Validating'), FloatProgress(value=1.0, bar_style='info', layout=Layout(flex='2'), m…"
      ]
     },
     "metadata": {},
     "output_type": "display_data"
    },
    {
     "data": {
      "application/vnd.jupyter.widget-view+json": {
       "model_id": "6bcbc0d7413d4df58c2b2f18a07681a3",
       "version_major": 2,
       "version_minor": 0
      },
      "text/plain": [
       "HBox(children=(HTML(value='Validating'), FloatProgress(value=1.0, bar_style='info', layout=Layout(flex='2'), m…"
      ]
     },
     "metadata": {},
     "output_type": "display_data"
    },
    {
     "data": {
      "application/vnd.jupyter.widget-view+json": {
       "model_id": "41561e5ec76d4ecab86fbb506724cb69",
       "version_major": 2,
       "version_minor": 0
      },
      "text/plain": [
       "HBox(children=(HTML(value='Validating'), FloatProgress(value=1.0, bar_style='info', layout=Layout(flex='2'), m…"
      ]
     },
     "metadata": {},
     "output_type": "display_data"
    },
    {
     "data": {
      "application/vnd.jupyter.widget-view+json": {
       "model_id": "a10149985060411fa90010166b6068cf",
       "version_major": 2,
       "version_minor": 0
      },
      "text/plain": [
       "HBox(children=(HTML(value='Validating'), FloatProgress(value=1.0, bar_style='info', layout=Layout(flex='2'), m…"
      ]
     },
     "metadata": {},
     "output_type": "display_data"
    },
    {
     "name": "stderr",
     "output_type": "stream",
     "text": [
      "GPU available: True, used: True\n",
      "TPU available: False, using: 0 TPU cores\n",
      "IPU available: False, using: 0 IPUs\n",
      "LOCAL_RANK: 0 - CUDA_VISIBLE_DEVICES: [0]\n",
      "\n",
      "  | Name  | Type         | Params\n",
      "---------------------------------------\n",
      "0 | model | EfficientNet | 19.3 M\n",
      "---------------------------------------\n",
      "19.3 M    Trainable params\n",
      "0         Non-trainable params\n",
      "19.3 M    Total params\n",
      "77.386    Total estimated model params size (MB)\n",
      "LOCAL_RANK: 0 - CUDA_VISIBLE_DEVICES: [0]\n",
      "GPU available: True, used: True\n",
      "TPU available: False, using: 0 TPU cores\n",
      "IPU available: False, using: 0 IPUs\n",
      "LOCAL_RANK: 0 - CUDA_VISIBLE_DEVICES: [0]\n",
      "\n",
      "  | Name  | Type         | Params\n",
      "---------------------------------------\n",
      "0 | model | EfficientNet | 19.3 M\n",
      "---------------------------------------\n",
      "19.3 M    Trainable params\n",
      "0         Non-trainable params\n",
      "19.3 M    Total params\n",
      "77.386    Total estimated model params size (MB)\n",
      "LOCAL_RANK: 0 - CUDA_VISIBLE_DEVICES: [0]\n",
      "GPU available: True, used: True\n",
      "TPU available: False, using: 0 TPU cores\n",
      "IPU available: False, using: 0 IPUs\n",
      "LOCAL_RANK: 0 - CUDA_VISIBLE_DEVICES: [0]\n",
      "\n",
      "  | Name  | Type         | Params\n",
      "---------------------------------------\n",
      "0 | model | EfficientNet | 19.3 M\n",
      "---------------------------------------\n",
      "19.3 M    Trainable params\n",
      "0         Non-trainable params\n",
      "19.3 M    Total params\n",
      "77.386    Total estimated model params size (MB)\n",
      "LOCAL_RANK: 0 - CUDA_VISIBLE_DEVICES: [0]\n",
      "GPU available: True, used: True\n",
      "TPU available: False, using: 0 TPU cores\n",
      "IPU available: False, using: 0 IPUs\n",
      "LOCAL_RANK: 0 - CUDA_VISIBLE_DEVICES: [0]\n",
      "\n",
      "  | Name  | Type         | Params\n",
      "---------------------------------------\n",
      "0 | model | EfficientNet | 19.3 M\n",
      "---------------------------------------\n",
      "19.3 M    Trainable params\n",
      "0         Non-trainable params\n",
      "19.3 M    Total params\n",
      "77.386    Total estimated model params size (MB)\n",
      "LOCAL_RANK: 0 - CUDA_VISIBLE_DEVICES: [0]\n",
      "GPU available: True, used: True\n",
      "TPU available: False, using: 0 TPU cores\n",
      "IPU available: False, using: 0 IPUs\n",
      "LOCAL_RANK: 0 - CUDA_VISIBLE_DEVICES: [0]\n",
      "\n",
      "  | Name  | Type         | Params\n",
      "---------------------------------------\n",
      "0 | model | EfficientNet | 19.3 M\n",
      "---------------------------------------\n",
      "19.3 M    Trainable params\n",
      "0         Non-trainable params\n",
      "19.3 M    Total params\n",
      "77.386    Total estimated model params size (MB)\n",
      "LOCAL_RANK: 0 - CUDA_VISIBLE_DEVICES: [0]\n",
      "GPU available: True, used: True\n",
      "TPU available: False, using: 0 TPU cores\n",
      "IPU available: False, using: 0 IPUs\n",
      "LOCAL_RANK: 0 - CUDA_VISIBLE_DEVICES: [0]\n",
      "\n",
      "  | Name  | Type         | Params\n",
      "---------------------------------------\n",
      "0 | model | EfficientNet | 19.3 M\n",
      "---------------------------------------\n",
      "19.3 M    Trainable params\n",
      "0         Non-trainable params\n",
      "19.3 M    Total params\n",
      "77.386    Total estimated model params size (MB)\n",
      "LOCAL_RANK: 0 - CUDA_VISIBLE_DEVICES: [0]\n",
      "GPU available: True, used: True\n",
      "TPU available: False, using: 0 TPU cores\n",
      "IPU available: False, using: 0 IPUs\n",
      "LOCAL_RANK: 0 - CUDA_VISIBLE_DEVICES: [0]\n",
      "\n",
      "  | Name  | Type         | Params\n",
      "---------------------------------------\n",
      "0 | model | EfficientNet | 19.3 M\n",
      "---------------------------------------\n",
      "19.3 M    Trainable params\n",
      "0         Non-trainable params\n",
      "19.3 M    Total params\n",
      "77.386    Total estimated model params size (MB)\n",
      "LOCAL_RANK: 0 - CUDA_VISIBLE_DEVICES: [0]\n",
      "GPU available: True, used: True\n",
      "TPU available: False, using: 0 TPU cores\n",
      "IPU available: False, using: 0 IPUs\n",
      "LOCAL_RANK: 0 - CUDA_VISIBLE_DEVICES: [0]\n",
      "\n",
      "  | Name  | Type         | Params\n",
      "---------------------------------------\n",
      "0 | model | EfficientNet | 19.3 M\n",
      "---------------------------------------\n",
      "19.3 M    Trainable params\n",
      "0         Non-trainable params\n",
      "19.3 M    Total params\n",
      "77.386    Total estimated model params size (MB)\n",
      "LOCAL_RANK: 0 - CUDA_VISIBLE_DEVICES: [0]\n",
      "GPU available: True, used: True\n",
      "TPU available: False, using: 0 TPU cores\n",
      "IPU available: False, using: 0 IPUs\n",
      "LOCAL_RANK: 0 - CUDA_VISIBLE_DEVICES: [0]\n",
      "\n",
      "  | Name  | Type         | Params\n",
      "---------------------------------------\n",
      "0 | model | EfficientNet | 19.3 M\n",
      "---------------------------------------\n",
      "19.3 M    Trainable params\n",
      "0         Non-trainable params\n",
      "19.3 M    Total params\n",
      "77.386    Total estimated model params size (MB)\n",
      "LOCAL_RANK: 0 - CUDA_VISIBLE_DEVICES: [0]\n"
     ]
    },
    {
     "data": {
      "application/vnd.jupyter.widget-view+json": {
       "model_id": "d100d1f4f9ae4a99a1dfeefd02124c93",
       "version_major": 2,
       "version_minor": 0
      },
      "text/plain": [
       "HBox(children=(HTML(value='Testing'), FloatProgress(value=1.0, bar_style='info', layout=Layout(flex='2'), max=…"
      ]
     },
     "metadata": {},
     "output_type": "display_data"
    },
    {
     "name": "stdout",
     "output_type": "stream",
     "text": [
      "Accuracy:  0.327\n",
      "Accuracy:  0.356\n",
      "Accuracy:  0.383\n",
      "Accuracy:  0.438\n",
      "Accuracy:  0.398\n",
      "Accuracy:  0.4\n",
      "\n",
      "--------------------------------------------------------------------------------\n",
      "DATALOADER:0 TEST RESULTS\n",
      "{'test_acc': 0.37390977144241333}\n",
      "--------------------------------------------------------------------------------\n",
      "\n",
      "Test acc for lr_feature=0.0001, lr_classifier=0.0005, weight_decay=0.005 is  0.37390977144241333\n",
      "Accuracy:  0.008\n",
      "Accuracy:  0.363\n",
      "Accuracy:  0.371\n",
      "Accuracy:  0.381\n",
      "Accuracy:  0.373\n",
      "Accuracy:  0.371\n",
      "\n",
      "--------------------------------------------------------------------------------\n",
      "DATALOADER:0 TEST RESULTS\n",
      "{'test_acc': 0.3633992373943329}\n",
      "--------------------------------------------------------------------------------\n",
      "\n",
      "Test acc for lr_feature=0.0001, lr_classifier=0.0005, weight_decay=0.0005 is  0.3633992373943329\n",
      "Accuracy:  0.006\n",
      "Accuracy:  0.351\n",
      "Accuracy:  0.367\n",
      "Accuracy:  0.394\n",
      "Accuracy:  0.399\n",
      "Accuracy:  0.372\n",
      "\n",
      "--------------------------------------------------------------------------------\n",
      "DATALOADER:0 TEST RESULTS\n",
      "{'test_acc': 0.36341702938079834}\n",
      "--------------------------------------------------------------------------------\n",
      "\n",
      "Test acc for lr_feature=0.0001, lr_classifier=0.0005, weight_decay=5e-05 is  0.36341702938079834\n",
      "Accuracy:  0.984\n",
      "Accuracy:  0.492\n",
      "Accuracy:  0.406\n",
      "Accuracy:  0.432\n",
      "Accuracy:  0.546\n",
      "Accuracy:  0.536\n",
      "\n",
      "--------------------------------------------------------------------------------\n",
      "DATALOADER:0 TEST RESULTS\n",
      "{'test_acc': 0.5293245315551758}\n",
      "--------------------------------------------------------------------------------\n",
      "\n",
      "Test acc for lr_feature=0.001, lr_classifier=0.005, weight_decay=0.005 is  0.5293245315551758\n",
      "Accuracy:  0.008\n",
      "Accuracy:  0.401\n",
      "Accuracy:  0.426\n",
      "Accuracy:  0.388\n",
      "Accuracy:  0.399\n",
      "Accuracy:  0.387\n",
      "\n",
      "--------------------------------------------------------------------------------\n",
      "DATALOADER:0 TEST RESULTS\n",
      "{'test_acc': 0.38194698095321655}\n",
      "--------------------------------------------------------------------------------\n",
      "\n",
      "Test acc for lr_feature=0.001, lr_classifier=0.005, weight_decay=0.0005 is  0.38194698095321655\n",
      "Accuracy:  0.45\n",
      "Accuracy:  0.48\n",
      "Accuracy:  0.37\n",
      "Accuracy:  0.379\n",
      "Accuracy:  0.382\n",
      "Accuracy:  0.402\n",
      "\n",
      "--------------------------------------------------------------------------------\n",
      "DATALOADER:0 TEST RESULTS\n",
      "{'test_acc': 0.3882010877132416}\n",
      "--------------------------------------------------------------------------------\n",
      "\n",
      "Test acc for lr_feature=0.001, lr_classifier=0.005, weight_decay=5e-05 is  0.3882010877132416\n",
      "Accuracy:  0.504\n",
      "Accuracy:  0.46\n",
      "Accuracy:  0.492\n",
      "Accuracy:  0.98\n",
      "Accuracy:  0.872\n",
      "Accuracy:  0.539\n",
      "\n",
      "--------------------------------------------------------------------------------\n",
      "DATALOADER:0 TEST RESULTS\n",
      "{'test_acc': 0.530440628528595}\n",
      "--------------------------------------------------------------------------------\n",
      "\n",
      "Test acc for lr_feature=0.01, lr_classifier=0.05, weight_decay=0.005 is  0.530440628528595\n",
      "Accuracy:  0.008\n",
      "Accuracy:  0.509\n",
      "Accuracy:  0.517\n",
      "Accuracy:  0.592\n",
      "Accuracy:  0.977\n",
      "Accuracy:  0.425\n",
      "\n",
      "--------------------------------------------------------------------------------\n",
      "DATALOADER:0 TEST RESULTS\n",
      "{'test_acc': 0.38562923669815063}\n",
      "--------------------------------------------------------------------------------\n",
      "\n",
      "Test acc for lr_feature=0.01, lr_classifier=0.05, weight_decay=0.0005 is  0.38562923669815063\n",
      "Accuracy:  0.008\n",
      "Accuracy:  0.073\n",
      "Accuracy:  0.98\n",
      "Accuracy:  0.98\n",
      "Accuracy:  0.98\n",
      "Accuracy:  0.428\n",
      "\n",
      "--------------------------------------------------------------------------------\n",
      "DATALOADER:0 TEST RESULTS\n",
      "{'test_acc': 0.4875863492488861}\n",
      "--------------------------------------------------------------------------------\n",
      "\n",
      "Test acc for lr_feature=0.01, lr_classifier=0.05, weight_decay=5e-05 is  0.4875863492488861\n"
     ]
    }
   ],
   "source": [
    "#!g1.1\n",
    "lrs_features = [1e-4, 1e-3, 1e-2]\n",
    "lrs_classifier = [5e-4, 5e-3, 5e-2]\n",
    "weight_decays = [5e-3, 5e-4, 5e-5]\n",
    "\n",
    "ds_train = MyDataset(X=X_train, y=y_train, transforms = tt.Compose([tt.ToTensor()]))\n",
    "ds_val = MyDataset(X=X_val, y=y_val, transforms =  tt.Compose([tt.ToTensor()]))\n",
    "dl_train = DataLoader(ds_train, batch_size=128, shuffle=True, num_workers=8)\n",
    "dl_val = DataLoader(ds_val, batch_size=64, shuffle=False, num_workers=8)\n",
    "ds_test = MyDataset(X=X_test, y=y_test, transforms =  tt.Compose([tt.ToTensor()]))\n",
    "dl_test = DataLoader(ds_test, batch_size=128, num_workers=8)\n",
    "\n",
    "\n",
    "\n",
    "for i in range(len(lrs_features)):\n",
    "    for j in range(len(weight_decays)):\n",
    "        lr_feature = lrs_features[i]\n",
    "        lr_classifier = lrs_classifier[i]\n",
    "        weight_decay = weight_decays[j]\n",
    "        \n",
    "        params = {'lr': {'features': lr_feature,\n",
    "                        'classifier': lr_classifier},\n",
    "                 'weight_decay': weight_decay}\n",
    "        \n",
    "        model_gs = MyModel_3(num_classes=3, **params)\n",
    "        trainer = pl.Trainer(max_epochs=5, gpus=1, log_every_n_steps=5)\n",
    "        trainer.fit(model_gs, dl_train, dl_val)\n",
    "\n",
    "        res = trainer.test(model_gs, dl_test)\n",
    "        print(f'Test acc for {lr_feature=}, {lr_classifier=}, {weight_decay=} is ', res[0]['test_acc'])\n",
    "        "
   ]
  },
  {
   "cell_type": "markdown",
   "id": "99f81dba",
   "metadata": {
    "cellId": "dn7tdfoo7y7o8d4903njwe",
    "execution_id": "48773aec-4b61-41fd-b3e8-e1b21cc36dc8"
   },
   "source": [
    "В дальнейшем будем брать следующие гиперпараметры lr_feature=0.0001, lr_classifier=0.0005, weight_decay=0.005\n"
   ]
  },
  {
   "cell_type": "markdown",
   "id": "abf6b09d",
   "metadata": {
    "cellId": "jntu4qd0iefiz1yjywfz2",
    "execution_id": "b8cc7f02-755f-434c-9782-9d326bbcd5fc"
   },
   "source": [
    "## Approach 4. Аугментация без изменения размера картинки"
   ]
  },
  {
   "cell_type": "markdown",
   "id": "83c3c2b0",
   "metadata": {
    "cellId": "9psl72j4p7sumxubpkjda",
    "execution_id": "814ed1f9-9a44-4fb7-8bd0-84fe90e17915"
   },
   "source": [
    "Можно много аугментация написать вручную, но в торче есть AutoAugmentPolicy.IMAGENET, который сам применяет десятки различных аугментаций случайным образом."
   ]
  },
  {
   "cell_type": "code",
   "execution_count": 54,
   "id": "dc7c5639",
   "metadata": {
    "cellId": "faokddvckah5c146u9hppk"
   },
   "outputs": [],
   "source": [
    "#!g1.1\n",
    "MEAN = [0.485, 0.456, 0.406] \n",
    "STD = [0.229, 0.224, 0.225]\n",
    "\n",
    "\n",
    "TrainAugmetation = tt.Compose([\n",
    "    tt.AutoAugment(tt.AutoAugmentPolicy.IMAGENET),\n",
    "    tt.RandomRotation(5),\n",
    "    tt.RandomHorizontalFlip(p=0.5),\n",
    "    tt.ToTensor(),\n",
    "    tt.Normalize(mean=MEAN, std=STD)\n",
    "])\n",
    "\n",
    "TestTransform = tt.Compose([\n",
    "    tt.ToTensor(),\n",
    "    tt.Normalize(mean=MEAN, std=STD)\n",
    "])"
   ]
  },
  {
   "cell_type": "code",
   "execution_count": 56,
   "id": "4aa403a0",
   "metadata": {
    "cellId": "4lz0xiok1v9gxbszs4zpu"
   },
   "outputs": [
    {
     "name": "stderr",
     "output_type": "stream",
     "text": [
      "GPU available: True, used: True\n",
      "TPU available: False, using: 0 TPU cores\n",
      "IPU available: False, using: 0 IPUs\n",
      "LOCAL_RANK: 0 - CUDA_VISIBLE_DEVICES: [0]\n",
      "\n",
      "  | Name  | Type         | Params\n",
      "---------------------------------------\n",
      "0 | model | EfficientNet | 19.3 M\n",
      "---------------------------------------\n",
      "19.3 M    Trainable params\n",
      "0         Non-trainable params\n",
      "19.3 M    Total params\n",
      "77.386    Total estimated model params size (MB)\n"
     ]
    },
    {
     "data": {
      "application/vnd.jupyter.widget-view+json": {
       "model_id": "10c3966ab74f4029867f5dd730a80e73",
       "version_major": 2,
       "version_minor": 0
      },
      "text/plain": [
       "HBox(children=(HTML(value='Validation sanity check'), FloatProgress(value=1.0, bar_style='info', layout=Layout…"
      ]
     },
     "metadata": {},
     "output_type": "display_data"
    },
    {
     "name": "stdout",
     "output_type": "stream",
     "text": [
      "Accuracy:  0.0\n"
     ]
    },
    {
     "data": {
      "application/vnd.jupyter.widget-view+json": {
       "model_id": "e08668a92a524ee1a9860f43c734eff1",
       "version_major": 2,
       "version_minor": 0
      },
      "text/plain": [
       "HBox(children=(HTML(value='Training'), FloatProgress(value=1.0, bar_style='info', layout=Layout(flex='2'), max…"
      ]
     },
     "metadata": {},
     "output_type": "display_data"
    },
    {
     "data": {
      "application/vnd.jupyter.widget-view+json": {
       "model_id": "6fa9f48182884fe79d543b478456935b",
       "version_major": 2,
       "version_minor": 0
      },
      "text/plain": [
       "HBox(children=(HTML(value='Validating'), FloatProgress(value=1.0, bar_style='info', layout=Layout(flex='2'), m…"
      ]
     },
     "metadata": {},
     "output_type": "display_data"
    },
    {
     "name": "stdout",
     "output_type": "stream",
     "text": [
      "Accuracy:  0.365\n",
      "\n"
     ]
    },
    {
     "data": {
      "application/vnd.jupyter.widget-view+json": {
       "model_id": "57b1a9ed085d49f3b9b775ced899fe7b",
       "version_major": 2,
       "version_minor": 0
      },
      "text/plain": [
       "HBox(children=(HTML(value='Validating'), FloatProgress(value=1.0, bar_style='info', layout=Layout(flex='2'), m…"
      ]
     },
     "metadata": {},
     "output_type": "display_data"
    },
    {
     "name": "stdout",
     "output_type": "stream",
     "text": [
      "Accuracy:  0.379\n"
     ]
    },
    {
     "data": {
      "application/vnd.jupyter.widget-view+json": {
       "model_id": "c5fd2301350a4623913c840e84338728",
       "version_major": 2,
       "version_minor": 0
      },
      "text/plain": [
       "HBox(children=(HTML(value='Validating'), FloatProgress(value=1.0, bar_style='info', layout=Layout(flex='2'), m…"
      ]
     },
     "metadata": {},
     "output_type": "display_data"
    },
    {
     "name": "stdout",
     "output_type": "stream",
     "text": [
      "Accuracy:  0.41\n"
     ]
    },
    {
     "data": {
      "application/vnd.jupyter.widget-view+json": {
       "model_id": "7b777ab338c84c58b735160fa1360729",
       "version_major": 2,
       "version_minor": 0
      },
      "text/plain": [
       "HBox(children=(HTML(value='Validating'), FloatProgress(value=1.0, bar_style='info', layout=Layout(flex='2'), m…"
      ]
     },
     "metadata": {},
     "output_type": "display_data"
    },
    {
     "name": "stdout",
     "output_type": "stream",
     "text": [
      "Accuracy:  0.414\n"
     ]
    },
    {
     "data": {
      "application/vnd.jupyter.widget-view+json": {
       "model_id": "4bcb0fffb4ed4e528050ce48840d9e98",
       "version_major": 2,
       "version_minor": 0
      },
      "text/plain": [
       "HBox(children=(HTML(value='Validating'), FloatProgress(value=1.0, bar_style='info', layout=Layout(flex='2'), m…"
      ]
     },
     "metadata": {},
     "output_type": "display_data"
    },
    {
     "name": "stdout",
     "output_type": "stream",
     "text": [
      "Accuracy:  0.375\n"
     ]
    },
    {
     "data": {
      "application/vnd.jupyter.widget-view+json": {
       "model_id": "bd327e89c6714810b88eb8ff7c5d45bb",
       "version_major": 2,
       "version_minor": 0
      },
      "text/plain": [
       "HBox(children=(HTML(value='Validating'), FloatProgress(value=1.0, bar_style='info', layout=Layout(flex='2'), m…"
      ]
     },
     "metadata": {},
     "output_type": "display_data"
    },
    {
     "name": "stdout",
     "output_type": "stream",
     "text": [
      "Accuracy:  0.403\n"
     ]
    },
    {
     "data": {
      "application/vnd.jupyter.widget-view+json": {
       "model_id": "53d9a6af320f4ddeb9f72b535ddcb989",
       "version_major": 2,
       "version_minor": 0
      },
      "text/plain": [
       "HBox(children=(HTML(value='Validating'), FloatProgress(value=1.0, bar_style='info', layout=Layout(flex='2'), m…"
      ]
     },
     "metadata": {},
     "output_type": "display_data"
    },
    {
     "name": "stdout",
     "output_type": "stream",
     "text": [
      "Accuracy:  0.382\n"
     ]
    },
    {
     "data": {
      "application/vnd.jupyter.widget-view+json": {
       "model_id": "84c9f6ed13df4a48ab28ae3103c4d315",
       "version_major": 2,
       "version_minor": 0
      },
      "text/plain": [
       "HBox(children=(HTML(value='Validating'), FloatProgress(value=1.0, bar_style='info', layout=Layout(flex='2'), m…"
      ]
     },
     "metadata": {},
     "output_type": "display_data"
    },
    {
     "name": "stdout",
     "output_type": "stream",
     "text": [
      "Accuracy:  0.381\n"
     ]
    },
    {
     "data": {
      "application/vnd.jupyter.widget-view+json": {
       "model_id": "b5ac516916e0452d9f5e214c202d5ad2",
       "version_major": 2,
       "version_minor": 0
      },
      "text/plain": [
       "HBox(children=(HTML(value='Validating'), FloatProgress(value=1.0, bar_style='info', layout=Layout(flex='2'), m…"
      ]
     },
     "metadata": {},
     "output_type": "display_data"
    },
    {
     "name": "stdout",
     "output_type": "stream",
     "text": [
      "Accuracy:  0.444\n"
     ]
    },
    {
     "data": {
      "application/vnd.jupyter.widget-view+json": {
       "model_id": "489fde84ebbd482aa87885c5702f0330",
       "version_major": 2,
       "version_minor": 0
      },
      "text/plain": [
       "HBox(children=(HTML(value='Validating'), FloatProgress(value=1.0, bar_style='info', layout=Layout(flex='2'), m…"
      ]
     },
     "metadata": {},
     "output_type": "display_data"
    },
    {
     "name": "stdout",
     "output_type": "stream",
     "text": [
      "Accuracy:  0.411\n",
      "\n"
     ]
    },
    {
     "name": "stderr",
     "output_type": "stream",
     "text": [
      "LOCAL_RANK: 0 - CUDA_VISIBLE_DEVICES: [0]\n"
     ]
    },
    {
     "data": {
      "application/vnd.jupyter.widget-view+json": {
       "model_id": "298ff1376d7d49c38652eecd5c1bc851",
       "version_major": 2,
       "version_minor": 0
      },
      "text/plain": [
       "HBox(children=(HTML(value='Testing'), FloatProgress(value=1.0, bar_style='info', layout=Layout(flex='2'), max=…"
      ]
     },
     "metadata": {},
     "output_type": "display_data"
    },
    {
     "name": "stdout",
     "output_type": "stream",
     "text": [
      "--------------------------------------------------------------------------------\n",
      "DATALOADER:0 TEST RESULTS\n",
      "{'test_acc': 0.3955180048942566}\n",
      "--------------------------------------------------------------------------------\n",
      "\n"
     ]
    },
    {
     "data": {
      "text/plain": [
       "[{'test_acc': 0.3955180048942566}]"
      ]
     },
     "execution_count": 56,
     "metadata": {},
     "output_type": "execute_result"
    }
   ],
   "source": [
    "#!g1.1\n",
    "params = {'lr': {'features': 1e-4,\n",
    "                        'classifier': 5e-4},\n",
    "                 'weight_decay': 5e-3}\n",
    "\n",
    "ds_train = MyDataset(X=X_train, y=y_train, transforms = TrainAugmetation)\n",
    "ds_val = MyDataset(X=X_val, y=y_val, transforms =  TestTransform)\n",
    "dl_train = DataLoader(ds_train, batch_size=128, shuffle=True, num_workers=8)\n",
    "dl_val = DataLoader(ds_val, batch_size=64, shuffle=False, num_workers=8)\n",
    "\n",
    "model3 = MyModel_3(num_classes=3, **params)\n",
    "trainer = pl.Trainer(max_epochs=10, gpus=1, log_every_n_steps=5)\n",
    "trainer.fit(model3, dl_train, dl_val)\n",
    "\n",
    "ds_test = MyDataset(X=X_test, y=y_test, transforms =  TestTransform)\n",
    "dl_test = DataLoader(ds_test, batch_size=128, num_workers=8)\n",
    "trainer.test(model3, dl_test)"
   ]
  },
  {
   "cell_type": "markdown",
   "id": "7a842203",
   "metadata": {
    "cellId": "jzv2funpwbi5iv49d57qj2",
    "execution_id": "27a57e28-12db-4948-a1ac-a7412297f5d5"
   },
   "source": [
    "Результат не очень. Попробуем еще"
   ]
  },
  {
   "cell_type": "markdown",
   "id": "5034f15e",
   "metadata": {
    "cellId": "wyrbusy6n4s8uxlowum5kl",
    "execution_id": "88686cec-7757-44c1-ac84-5d4a2b9db065"
   },
   "source": [
    "## Approach 5. Аугментация с изменением размера картинки"
   ]
  },
  {
   "cell_type": "markdown",
   "id": "232e8360",
   "metadata": {
    "cellId": "h2oacrb0uc6tlpg8pyu1s8",
    "execution_id": "682c48c4-ecf8-4136-9402-070eacd2f4d6"
   },
   "source": [
    "Сначала я хотел применить похожие трансформации, которые применялись к картинкам при обучении efficient_b4, но разница в размерах слишком большая... (380 против 32). Поэтому просто попробуем ресайзнуть к 128"
   ]
  },
  {
   "cell_type": "code",
   "execution_count": 57,
   "id": "47e5d03b",
   "metadata": {
    "cellId": "rrnvl3ooi7h5uxpdzvfsd"
   },
   "outputs": [],
   "source": [
    "#!g1.1\n",
    "\n",
    "RESIZE_SIZE = 128\n",
    "\n",
    "MEAN = [0.485, 0.456, 0.406] \n",
    "STD = [0.229, 0.224, 0.225]\n",
    "\n",
    "\n",
    "TrainAugmetation1 = tt.Compose([\n",
    "    tt.Resize(RESIZE_SIZE, interpolation=PIL.Image.BICUBIC),\n",
    "    tt.AutoAugment(tt.AutoAugmentPolicy.IMAGENET),\n",
    "    tt.RandomRotation(5),\n",
    "    tt.RandomHorizontalFlip(p=0.5),\n",
    "    tt.ToTensor(),\n",
    "    tt.Normalize(mean=MEAN, std=STD)\n",
    "])\n",
    "\n",
    "TestTransform1 = tt.Compose([\n",
    "    tt.Resize(RESIZE_SIZE, interpolation=PIL.Image.BICUBIC),\n",
    "    tt.ToTensor(),\n",
    "    tt.Normalize(mean=MEAN, std=STD)\n",
    "])"
   ]
  },
  {
   "cell_type": "code",
   "execution_count": 59,
   "id": "82a3ecaf",
   "metadata": {
    "cellId": "zl28swt4khmc32l1mu1c"
   },
   "outputs": [
    {
     "name": "stderr",
     "output_type": "stream",
     "text": [
      "GPU available: True, used: True\n",
      "TPU available: False, using: 0 TPU cores\n",
      "IPU available: False, using: 0 IPUs\n",
      "LOCAL_RANK: 0 - CUDA_VISIBLE_DEVICES: [0]\n",
      "\n",
      "  | Name  | Type         | Params\n",
      "---------------------------------------\n",
      "0 | model | EfficientNet | 19.3 M\n",
      "---------------------------------------\n",
      "19.3 M    Trainable params\n",
      "0         Non-trainable params\n",
      "19.3 M    Total params\n",
      "77.386    Total estimated model params size (MB)\n"
     ]
    },
    {
     "data": {
      "application/vnd.jupyter.widget-view+json": {
       "model_id": "aaf4d18bca4b409bab3c0aa619d3bb8b",
       "version_major": 2,
       "version_minor": 0
      },
      "text/plain": [
       "HBox(children=(HTML(value='Validation sanity check'), FloatProgress(value=1.0, bar_style='info', layout=Layout…"
      ]
     },
     "metadata": {},
     "output_type": "display_data"
    },
    {
     "name": "stdout",
     "output_type": "stream",
     "text": [
      "Accuracy:  0.171\n"
     ]
    },
    {
     "data": {
      "application/vnd.jupyter.widget-view+json": {
       "model_id": "611e25b8e62d46829a394e53a8af9f6b",
       "version_major": 2,
       "version_minor": 0
      },
      "text/plain": [
       "HBox(children=(HTML(value='Training'), FloatProgress(value=1.0, bar_style='info', layout=Layout(flex='2'), max…"
      ]
     },
     "metadata": {},
     "output_type": "display_data"
    },
    {
     "data": {
      "application/vnd.jupyter.widget-view+json": {
       "model_id": "3cbb295b1825446bbddae299d14bccb1",
       "version_major": 2,
       "version_minor": 0
      },
      "text/plain": [
       "HBox(children=(HTML(value='Validating'), FloatProgress(value=1.0, bar_style='info', layout=Layout(flex='2'), m…"
      ]
     },
     "metadata": {},
     "output_type": "display_data"
    },
    {
     "name": "stdout",
     "output_type": "stream",
     "text": [
      "Accuracy:  0.476\n"
     ]
    },
    {
     "data": {
      "application/vnd.jupyter.widget-view+json": {
       "model_id": "419ab1e837aa4d68a1dc096c60058354",
       "version_major": 2,
       "version_minor": 0
      },
      "text/plain": [
       "HBox(children=(HTML(value='Validating'), FloatProgress(value=1.0, bar_style='info', layout=Layout(flex='2'), m…"
      ]
     },
     "metadata": {},
     "output_type": "display_data"
    },
    {
     "name": "stdout",
     "output_type": "stream",
     "text": [
      "Accuracy:  0.667\n"
     ]
    },
    {
     "data": {
      "application/vnd.jupyter.widget-view+json": {
       "model_id": "c745ac687a80404bb300f80d1608d245",
       "version_major": 2,
       "version_minor": 0
      },
      "text/plain": [
       "HBox(children=(HTML(value='Validating'), FloatProgress(value=1.0, bar_style='info', layout=Layout(flex='2'), m…"
      ]
     },
     "metadata": {},
     "output_type": "display_data"
    },
    {
     "name": "stdout",
     "output_type": "stream",
     "text": [
      "Accuracy:  0.588\n"
     ]
    },
    {
     "data": {
      "application/vnd.jupyter.widget-view+json": {
       "model_id": "26128b9fae5c4ebaa36e6a1d6a4528db",
       "version_major": 2,
       "version_minor": 0
      },
      "text/plain": [
       "HBox(children=(HTML(value='Validating'), FloatProgress(value=1.0, bar_style='info', layout=Layout(flex='2'), m…"
      ]
     },
     "metadata": {},
     "output_type": "display_data"
    },
    {
     "name": "stdout",
     "output_type": "stream",
     "text": [
      "Accuracy:  0.637\n"
     ]
    },
    {
     "data": {
      "application/vnd.jupyter.widget-view+json": {
       "model_id": "301ad663dbc94fbdbff7f1a95f44f283",
       "version_major": 2,
       "version_minor": 0
      },
      "text/plain": [
       "HBox(children=(HTML(value='Validating'), FloatProgress(value=1.0, bar_style='info', layout=Layout(flex='2'), m…"
      ]
     },
     "metadata": {},
     "output_type": "display_data"
    },
    {
     "name": "stdout",
     "output_type": "stream",
     "text": [
      "Accuracy:  0.682\n"
     ]
    },
    {
     "data": {
      "application/vnd.jupyter.widget-view+json": {
       "model_id": "562a7de911c8406eae067aa04864babd",
       "version_major": 2,
       "version_minor": 0
      },
      "text/plain": [
       "HBox(children=(HTML(value='Validating'), FloatProgress(value=1.0, bar_style='info', layout=Layout(flex='2'), m…"
      ]
     },
     "metadata": {},
     "output_type": "display_data"
    },
    {
     "name": "stdout",
     "output_type": "stream",
     "text": [
      "Accuracy:  0.702\n"
     ]
    },
    {
     "data": {
      "application/vnd.jupyter.widget-view+json": {
       "model_id": "87bf3857b8ae4a1d8ec5818cf67007d5",
       "version_major": 2,
       "version_minor": 0
      },
      "text/plain": [
       "HBox(children=(HTML(value='Validating'), FloatProgress(value=1.0, bar_style='info', layout=Layout(flex='2'), m…"
      ]
     },
     "metadata": {},
     "output_type": "display_data"
    },
    {
     "name": "stdout",
     "output_type": "stream",
     "text": [
      "Accuracy:  0.825\n"
     ]
    },
    {
     "data": {
      "application/vnd.jupyter.widget-view+json": {
       "model_id": "f3bc73103c554086963618fa7aa599d7",
       "version_major": 2,
       "version_minor": 0
      },
      "text/plain": [
       "HBox(children=(HTML(value='Validating'), FloatProgress(value=1.0, bar_style='info', layout=Layout(flex='2'), m…"
      ]
     },
     "metadata": {},
     "output_type": "display_data"
    },
    {
     "name": "stdout",
     "output_type": "stream",
     "text": [
      "Accuracy:  0.864\n"
     ]
    },
    {
     "data": {
      "application/vnd.jupyter.widget-view+json": {
       "model_id": "d3df52a9253e4cc8a176b62813003f9d",
       "version_major": 2,
       "version_minor": 0
      },
      "text/plain": [
       "HBox(children=(HTML(value='Validating'), FloatProgress(value=1.0, bar_style='info', layout=Layout(flex='2'), m…"
      ]
     },
     "metadata": {},
     "output_type": "display_data"
    },
    {
     "name": "stdout",
     "output_type": "stream",
     "text": [
      "Accuracy:  0.817\n"
     ]
    },
    {
     "data": {
      "application/vnd.jupyter.widget-view+json": {
       "model_id": "01d34bddc8ba4146a88f189de5d13659",
       "version_major": 2,
       "version_minor": 0
      },
      "text/plain": [
       "HBox(children=(HTML(value='Validating'), FloatProgress(value=1.0, bar_style='info', layout=Layout(flex='2'), m…"
      ]
     },
     "metadata": {},
     "output_type": "display_data"
    },
    {
     "name": "stdout",
     "output_type": "stream",
     "text": [
      "Accuracy:  0.743\n"
     ]
    },
    {
     "name": "stderr",
     "output_type": "stream",
     "text": [
      "LOCAL_RANK: 0 - CUDA_VISIBLE_DEVICES: [0]\n"
     ]
    },
    {
     "name": "stdout",
     "output_type": "stream",
     "text": [
      "\n"
     ]
    },
    {
     "data": {
      "application/vnd.jupyter.widget-view+json": {
       "model_id": "cd5102e232094a4ca57eb3fe71957c39",
       "version_major": 2,
       "version_minor": 0
      },
      "text/plain": [
       "HBox(children=(HTML(value='Testing'), FloatProgress(value=1.0, bar_style='info', layout=Layout(flex='2'), max=…"
      ]
     },
     "metadata": {},
     "output_type": "display_data"
    },
    {
     "name": "stdout",
     "output_type": "stream",
     "text": [
      "--------------------------------------------------------------------------------\n",
      "DATALOADER:0 TEST RESULTS\n",
      "{'test_acc': 0.7394039630889893}\n",
      "--------------------------------------------------------------------------------\n",
      "\n"
     ]
    },
    {
     "data": {
      "text/plain": [
       "[{'test_acc': 0.7394039630889893}]"
      ]
     },
     "execution_count": 59,
     "metadata": {},
     "output_type": "execute_result"
    }
   ],
   "source": [
    "#!g1.1\n",
    "params = {'lr': {'features': 1e-4,\n",
    "                        'classifier': 5e-4},\n",
    "                 'weight_decay': 5e-3}\n",
    "ds_train = MyDataset(X=X_train, y=y_train, transforms = TrainAugmetation1)\n",
    "ds_val = MyDataset(X=X_val, y=y_val, transforms =  TestTransform1)\n",
    "dl_train = DataLoader(ds_train, batch_size=64, shuffle=True, num_workers=8)\n",
    "dl_val = DataLoader(ds_val, batch_size=64, shuffle=False, num_workers=8)\n",
    "\n",
    "model4 = MyModel_3(num_classes=3, **params)\n",
    "trainer = pl.Trainer(max_epochs=10, gpus=1, log_every_n_steps=5)\n",
    "trainer.fit(model4, dl_train, dl_val)\n",
    "\n",
    "ds_test = MyDataset(X=X_test, y=y_test, transforms =  TestTransform1)\n",
    "dl_test = DataLoader(ds_test, batch_size=64, num_workers=8)\n",
    "trainer.test(model4, dl_test)"
   ]
  },
  {
   "cell_type": "markdown",
   "id": "e60e8063",
   "metadata": {
    "cellId": "mp730w52y3m3o944q4wrmd",
    "execution_id": "dc289d26-f348-4de2-9f54-840ef076bf92"
   },
   "source": [
    "Мы определенно смогли улучшить взвешенную точность. \n",
    "\n",
    "Теперь попробуем другой подход: возьмем обычную кроссэнтропию, но при обучении батчи будут сбалансированными (oversampling) путем добавления weightedsampler в даталоадер\n"
   ]
  },
  {
   "cell_type": "markdown",
   "id": "9fa3d000",
   "metadata": {
    "cellId": "t8qkm2fpsfg4rqn6maf3s",
    "execution_id": "b10e1d13-6312-4abf-8fbd-214089704353"
   },
   "source": [
    "## Approach 6. Weighted Sampler + normal cross entropy"
   ]
  },
  {
   "cell_type": "code",
   "execution_count": 36,
   "id": "e2a20364",
   "metadata": {
    "cellId": "t3xg4par97db3jyysnk5rw"
   },
   "outputs": [],
   "source": [
    "#!g1.1\n",
    "class MyModel_4(MyModel_3):    \n",
    "    \n",
    "    def __init__(self, num_classes=3, **optimizer_hyperparams):\n",
    "        super().__init__(num_classes=num_classes, **optimizer_hyperparams)     \n",
    "        \n",
    "        \n",
    "    def cross_entropy_loss(self, logits, labels):\n",
    "        return F.nll_loss(logits, labels) # if it was balanced\n"
   ]
  },
  {
   "cell_type": "code",
   "execution_count": 50,
   "id": "afb9ccaa",
   "metadata": {
    "cellId": "ijczssiz7lanw306doibe"
   },
   "outputs": [],
   "source": [
    "#!g1.1\n",
    "ds_train = MyDataset(X=X_train, y=y_train, transforms = TrainAugmetation1)\n",
    "ds_val = MyDataset(X=X_val, y=y_val, transforms =  TestTransform1)\n",
    "\n",
    "weights_sampler = torch.DoubleTensor(ds_train.weights)                                       \n",
    "sampler = WeightedRandomSampler(weights_sampler, len(weights_sampler)) \n",
    "\n",
    "dl_train = DataLoader(ds_train, batch_size=64, num_workers=8, sampler=sampler)\n",
    "dl_val = DataLoader(ds_val, batch_size=64, shuffle=False, num_workers=8)"
   ]
  },
  {
   "cell_type": "code",
   "execution_count": 42,
   "id": "f59fc4f4",
   "metadata": {
    "cellId": "x4s3xhfokljar4eclycxk4"
   },
   "outputs": [
    {
     "name": "stdout",
     "output_type": "stream",
     "text": [
      "Counter({1: 23, 2: 21, 0: 20})\n",
      "Counter({2: 25, 0: 21, 1: 18})\n",
      "Counter({0: 26, 1: 23, 2: 15})\n",
      "Counter({2: 23, 0: 22, 1: 19})\n",
      "Counter({1: 25, 0: 23, 2: 16})\n",
      "Counter({1: 26, 2: 22, 0: 16})\n"
     ]
    }
   ],
   "source": [
    "#!g1.1\n",
    "for i, batch in enumerate(dl_train):\n",
    "    print(Counter(batch[1].detach().cpu().numpy()))\n",
    "    if i == 5:\n",
    "        break"
   ]
  },
  {
   "cell_type": "code",
   "execution_count": 49,
   "id": "337ee4fc",
   "metadata": {
    "cellId": "12pcpe17pru8ojaz11agpf"
   },
   "outputs": [],
   "source": [
    "#!g1.1\n",
    "params = {'lr': {'features': 1e-4,\n",
    "                        'classifier': 5e-4},\n",
    "                 'weight_decay': 5e-3}"
   ]
  },
  {
   "cell_type": "code",
   "execution_count": 51,
   "id": "f9f4f746",
   "metadata": {
    "cellId": "aljefz1t4zeiwr5l6gmat"
   },
   "outputs": [
    {
     "name": "stderr",
     "output_type": "stream",
     "text": [
      "GPU available: True, used: True\n",
      "TPU available: False, using: 0 TPU cores\n",
      "IPU available: False, using: 0 IPUs\n",
      "LOCAL_RANK: 0 - CUDA_VISIBLE_DEVICES: [0]\n",
      "\n",
      "  | Name  | Type         | Params\n",
      "---------------------------------------\n",
      "0 | model | EfficientNet | 19.3 M\n",
      "---------------------------------------\n",
      "19.3 M    Trainable params\n",
      "0         Non-trainable params\n",
      "19.3 M    Total params\n",
      "77.386    Total estimated model params size (MB)\n"
     ]
    },
    {
     "data": {
      "application/vnd.jupyter.widget-view+json": {
       "model_id": "8b54541585fe402b8401979cd1a51bb6",
       "version_major": 2,
       "version_minor": 0
      },
      "text/plain": [
       "HBox(children=(HTML(value='Validation sanity check'), FloatProgress(value=1.0, bar_style='info', layout=Layout…"
      ]
     },
     "metadata": {},
     "output_type": "display_data"
    },
    {
     "name": "stdout",
     "output_type": "stream",
     "text": [
      "Accuracy:  0.984\n"
     ]
    },
    {
     "data": {
      "application/vnd.jupyter.widget-view+json": {
       "model_id": "6d4cf534ddba4079a527a095a0e6b623",
       "version_major": 2,
       "version_minor": 0
      },
      "text/plain": [
       "HBox(children=(HTML(value='Training'), FloatProgress(value=1.0, bar_style='info', layout=Layout(flex='2'), max…"
      ]
     },
     "metadata": {},
     "output_type": "display_data"
    },
    {
     "data": {
      "application/vnd.jupyter.widget-view+json": {
       "model_id": "000f4cc4a1d641bfb935198413c84d23",
       "version_major": 2,
       "version_minor": 0
      },
      "text/plain": [
       "HBox(children=(HTML(value='Validating'), FloatProgress(value=1.0, bar_style='info', layout=Layout(flex='2'), m…"
      ]
     },
     "metadata": {},
     "output_type": "display_data"
    },
    {
     "name": "stdout",
     "output_type": "stream",
     "text": [
      "Accuracy:  0.524\n"
     ]
    },
    {
     "data": {
      "application/vnd.jupyter.widget-view+json": {
       "model_id": "a60b28870adb47ff8d923ad597bc5f45",
       "version_major": 2,
       "version_minor": 0
      },
      "text/plain": [
       "HBox(children=(HTML(value='Validating'), FloatProgress(value=1.0, bar_style='info', layout=Layout(flex='2'), m…"
      ]
     },
     "metadata": {},
     "output_type": "display_data"
    },
    {
     "name": "stdout",
     "output_type": "stream",
     "text": [
      "Accuracy:  0.72\n"
     ]
    },
    {
     "data": {
      "application/vnd.jupyter.widget-view+json": {
       "model_id": "5732fb36900544c1853ec32a768286ce",
       "version_major": 2,
       "version_minor": 0
      },
      "text/plain": [
       "HBox(children=(HTML(value='Validating'), FloatProgress(value=1.0, bar_style='info', layout=Layout(flex='2'), m…"
      ]
     },
     "metadata": {},
     "output_type": "display_data"
    },
    {
     "name": "stdout",
     "output_type": "stream",
     "text": [
      "Accuracy:  0.786\n"
     ]
    },
    {
     "data": {
      "application/vnd.jupyter.widget-view+json": {
       "model_id": "98e33b3ce99d45e594ac882983678708",
       "version_major": 2,
       "version_minor": 0
      },
      "text/plain": [
       "HBox(children=(HTML(value='Validating'), FloatProgress(value=1.0, bar_style='info', layout=Layout(flex='2'), m…"
      ]
     },
     "metadata": {},
     "output_type": "display_data"
    },
    {
     "name": "stdout",
     "output_type": "stream",
     "text": [
      "Accuracy:  0.841\n"
     ]
    },
    {
     "data": {
      "application/vnd.jupyter.widget-view+json": {
       "model_id": "d1314c24010341a88bce4f598756db21",
       "version_major": 2,
       "version_minor": 0
      },
      "text/plain": [
       "HBox(children=(HTML(value='Validating'), FloatProgress(value=1.0, bar_style='info', layout=Layout(flex='2'), m…"
      ]
     },
     "metadata": {},
     "output_type": "display_data"
    },
    {
     "name": "stdout",
     "output_type": "stream",
     "text": [
      "Accuracy:  0.865\n"
     ]
    },
    {
     "data": {
      "application/vnd.jupyter.widget-view+json": {
       "model_id": "190dfe14b9ce409ea27eb7974ae842f4",
       "version_major": 2,
       "version_minor": 0
      },
      "text/plain": [
       "HBox(children=(HTML(value='Validating'), FloatProgress(value=1.0, bar_style='info', layout=Layout(flex='2'), m…"
      ]
     },
     "metadata": {},
     "output_type": "display_data"
    },
    {
     "name": "stdout",
     "output_type": "stream",
     "text": [
      "Accuracy:  0.925\n"
     ]
    },
    {
     "data": {
      "application/vnd.jupyter.widget-view+json": {
       "model_id": "fc0c8cfc7e874ad48b8d914d67bd3cc4",
       "version_major": 2,
       "version_minor": 0
      },
      "text/plain": [
       "HBox(children=(HTML(value='Validating'), FloatProgress(value=1.0, bar_style='info', layout=Layout(flex='2'), m…"
      ]
     },
     "metadata": {},
     "output_type": "display_data"
    },
    {
     "name": "stdout",
     "output_type": "stream",
     "text": [
      "Accuracy:  0.909\n"
     ]
    },
    {
     "data": {
      "application/vnd.jupyter.widget-view+json": {
       "model_id": "c4d07fe84ab64998b7c6a2dfd547ff64",
       "version_major": 2,
       "version_minor": 0
      },
      "text/plain": [
       "HBox(children=(HTML(value='Validating'), FloatProgress(value=1.0, bar_style='info', layout=Layout(flex='2'), m…"
      ]
     },
     "metadata": {},
     "output_type": "display_data"
    },
    {
     "name": "stdout",
     "output_type": "stream",
     "text": [
      "Accuracy:  0.917\n"
     ]
    },
    {
     "data": {
      "application/vnd.jupyter.widget-view+json": {
       "model_id": "dd66ca480f03457985c35fe6e2935d10",
       "version_major": 2,
       "version_minor": 0
      },
      "text/plain": [
       "HBox(children=(HTML(value='Validating'), FloatProgress(value=1.0, bar_style='info', layout=Layout(flex='2'), m…"
      ]
     },
     "metadata": {},
     "output_type": "display_data"
    },
    {
     "name": "stdout",
     "output_type": "stream",
     "text": [
      "Accuracy:  0.88\n"
     ]
    },
    {
     "data": {
      "application/vnd.jupyter.widget-view+json": {
       "model_id": "db2f2c80f21642a58b329e20ad192ab5",
       "version_major": 2,
       "version_minor": 0
      },
      "text/plain": [
       "HBox(children=(HTML(value='Validating'), FloatProgress(value=1.0, bar_style='info', layout=Layout(flex='2'), m…"
      ]
     },
     "metadata": {},
     "output_type": "display_data"
    },
    {
     "name": "stdout",
     "output_type": "stream",
     "text": [
      "Accuracy:  0.814\n",
      "\n"
     ]
    },
    {
     "name": "stderr",
     "output_type": "stream",
     "text": [
      "LOCAL_RANK: 0 - CUDA_VISIBLE_DEVICES: [0]\n"
     ]
    },
    {
     "data": {
      "application/vnd.jupyter.widget-view+json": {
       "model_id": "cd5421fa342840a9b890ba6e946a7a3f",
       "version_major": 2,
       "version_minor": 0
      },
      "text/plain": [
       "HBox(children=(HTML(value='Testing'), FloatProgress(value=1.0, bar_style='info', layout=Layout(flex='2'), max=…"
      ]
     },
     "metadata": {},
     "output_type": "display_data"
    },
    {
     "name": "stdout",
     "output_type": "stream",
     "text": [
      "--------------------------------------------------------------------------------\n",
      "DATALOADER:0 TEST RESULTS\n",
      "{'test_acc': 0.8245165348052979}\n",
      "--------------------------------------------------------------------------------\n",
      "\n"
     ]
    },
    {
     "data": {
      "text/plain": [
       "[{'test_acc': 0.8245165348052979}]"
      ]
     },
     "execution_count": 51,
     "metadata": {},
     "output_type": "execute_result"
    },
    {
     "name": "stdout",
     "output_type": "stream",
     "text": [
      "\n"
     ]
    }
   ],
   "source": [
    "#!g1.1\n",
    "model5 = MyModel_4(num_classes=3, **params)\n",
    "trainer = pl.Trainer(max_epochs=10, gpus=1, log_every_n_steps=5)\n",
    "trainer.fit(model5, dl_train, dl_val)\n",
    "\n",
    "ds_test = MyDataset(X=X_test, y=y_test, transforms =  TestTransform1)\n",
    "dl_test = DataLoader(ds_test, batch_size=64, num_workers=8)\n",
    "trainer.test(model5, dl_test)"
   ]
  },
  {
   "cell_type": "markdown",
   "id": "1c68d6ee",
   "metadata": {
    "cellId": "pgaulnbbfcgab4pgtrmoav",
    "execution_id": "92652e0e-2bd7-4785-8d2c-eaa2936258aa"
   },
   "source": [
    "И это логичный результат, ведь предобученная сетка училась на картинках 380x380. Значит и обучать её надо на более близком к этому разрешению. Думаю, если ресайзить больше, чем к 128, результат будет еще лучше (но это не точно)"
   ]
  },
  {
   "cell_type": "markdown",
   "id": "72dca915",
   "metadata": {
    "cellId": "bovx30n5h29ur5il1u2vga",
    "execution_id": "3c60d09d-e146-49c0-bc2d-84eac3804293"
   },
   "source": [
    "На этом этапе мы с уверенностью можем сказать, что нам удалось улучшить модель с помощью аугментаций и перебора гиперпараметров. Также можно улучшить модель, получить 92%+ точность следующими способами:\n",
    "1. Добавить шедулер, например ReduceOnPlato. Он уменьшет lr в factor раз, если выбранная метрика не улучшается в течение patience эпох\n",
    "\n",
    "```\n",
    "optimizer = torch.optim.Adam(self.parameters(), lr=1e-4)\n",
    "lr_scheduler = torch.optim.lr_scheduler.ReduceLROnPlateau(optimizer, \n",
    "                                                                   mode='min', \n",
    "                                                                   factor=0.25, \n",
    "                                                                   patience=3, \n",
    "                                                                   verbose=True)\n",
    "        \n",
    "lr_dict = {\n",
    "           \"scheduler\": lr_scheduler,\n",
    "           \"interval\": \"epoch\",\n",
    "           \"frequency\": 1,\n",
    "           \"monitor\": \"val_loss\"\n",
    "        } \n",
    "        \n",
    "return [optimizer], [lr_dict]\n",
    "```\n",
    "\n",
    "2. Увеличить количество эпох и добавить коллбеки.\n",
    "\n",
    "```\n",
    "## Save the model periodically by monitoring a quantity.\n",
    "MyModelCheckpoint = ModelCheckpoint(dirpath='./check_points',\n",
    "                                    filename='model',\n",
    "                                    monitor='val_loss', \n",
    "                                    mode='min', \n",
    "                                    save_top_k=3)\n",
    "\n",
    "## Monitor a metric and stop training when it stops improving.\n",
    "MyEarlyStopping = EarlyStopping(monitor = \"val_loss\",\n",
    "                                mode = \"min\",\n",
    "                                patience = 8,\n",
    "                                verbose = True)\n",
    "                                \n",
    "```"
   ]
  },
  {
   "cell_type": "markdown",
   "id": "64cdc9c1",
   "metadata": {
    "cellId": "petxs9eob854p4o6pry6w",
    "execution_id": "01e67448-e932-4d59-8b6e-56f235945d8f"
   },
   "source": [
    "Но мне лень это делать, это же не конкурс, чтобы побеждать. На данный момент задание выполнено на 7 баллов + 1 за аугментации + 1 за перебор гиперпараметров"
   ]
  },
  {
   "cell_type": "markdown",
   "id": "4c8f71f4",
   "metadata": {
    "cellId": "chzqyascfvnaepxpmz0ql",
    "execution_id": "e7b1ffc1-793b-4d7b-9341-6d9e685be5e2"
   },
   "source": [
    "## Модель для одноканальных (серых) изображений"
   ]
  },
  {
   "cell_type": "markdown",
   "id": "67660878",
   "metadata": {
    "cellId": "tp1ndf21utqsilkwwnhi3a",
    "execution_id": "5a1732d4-d149-4c7b-8747-38eba07323d1"
   },
   "source": [
    "convert('L') переводит картинку из ргб в серое. convert('RGB') переводит обратно в трехканальное (три одинаковых канала). Таким образом нам не нужно менять сетку, просто нужно дообучить её"
   ]
  },
  {
   "cell_type": "code",
   "execution_count": 67,
   "id": "a589a538",
   "metadata": {
    "cellId": "hyspq7wq6ls2aupjvfpqc"
   },
   "outputs": [],
   "source": [
    "#!g1.1\n",
    "def to_gray_scale_three_channel(img):\n",
    "    return img.convert('L').convert('RGB')"
   ]
  },
  {
   "cell_type": "code",
   "execution_count": 74,
   "id": "5f032ed9",
   "metadata": {
    "cellId": "pxnqh4nbxily8nceiqyeb"
   },
   "outputs": [
    {
     "name": "stdout",
     "output_type": "stream",
     "text": [
      "torch.Size([3, 32, 32])\n"
     ]
    },
    {
     "data": {
      "text/plain": [
       "<matplotlib.image.AxesImage at 0x7f10a1fe6340>"
      ]
     },
     "execution_count": 74,
     "metadata": {},
     "output_type": "execute_result"
    },
    {
     "data": {
      "image/png": "[encoded data removed]",
      "text/plain": [
       "<Figure size 432x288 with 1 Axes>"
      ]
     },
     "metadata": {
      "needs_background": "light"
     },
     "output_type": "display_data"
    }
   ],
   "source": [
    "#!g1.1\n",
    "print(tt.ToTensor()(to_gray_scale_three_channel(X[0])).shape)\n",
    "plt.imshow(tt.Compose([to_gray_scale_three_channel])(X[0]))"
   ]
  },
  {
   "cell_type": "code",
   "execution_count": 83,
   "id": "2171c4dd",
   "metadata": {
    "cellId": "23qgibc2rbd6zxk1i5kp1u"
   },
   "outputs": [],
   "source": [
    "#!g1.1\n",
    "RESIZE_SIZE = 128\n",
    "\n",
    "MEAN = [0.485, 0.456, 0.406] \n",
    "STD = [0.229, 0.224, 0.225]\n",
    "\n",
    "\n",
    "TrainAugmetation2 = tt.Compose([\n",
    "    tt.Resize(RESIZE_SIZE, interpolation=PIL.Image.BICUBIC),\n",
    "    to_gray_scale_three_channel,\n",
    "    tt.RandomRotation(5),\n",
    "    tt.RandomHorizontalFlip(p=0.5),\n",
    "    tt.ToTensor(),\n",
    "    tt.Normalize(mean=MEAN, std=STD)\n",
    "])\n",
    "\n",
    "TestTransform2 = tt.Compose([\n",
    "    to_gray_scale_three_channel,\n",
    "    tt.Resize(RESIZE_SIZE, interpolation=PIL.Image.BICUBIC),\n",
    "    tt.ToTensor(),\n",
    "    tt.Normalize(mean=MEAN, std=STD)\n",
    "])"
   ]
  },
  {
   "cell_type": "code",
   "execution_count": 84,
   "id": "8f42e478",
   "metadata": {
    "cellId": "btezmpksl3537fuwfxgkdi"
   },
   "outputs": [
    {
     "name": "stderr",
     "output_type": "stream",
     "text": [
      "GPU available: True, used: True\n",
      "TPU available: False, using: 0 TPU cores\n",
      "IPU available: False, using: 0 IPUs\n",
      "LOCAL_RANK: 0 - CUDA_VISIBLE_DEVICES: [0]\n",
      "\n",
      "  | Name  | Type         | Params\n",
      "---------------------------------------\n",
      "0 | model | EfficientNet | 19.3 M\n",
      "---------------------------------------\n",
      "19.3 M    Trainable params\n",
      "0         Non-trainable params\n",
      "19.3 M    Total params\n",
      "77.386    Total estimated model params size (MB)\n"
     ]
    },
    {
     "data": {
      "application/vnd.jupyter.widget-view+json": {
       "model_id": "af5d040a53944a9d8871cb5bab8fd9d3",
       "version_major": 2,
       "version_minor": 0
      },
      "text/plain": [
       "HBox(children=(HTML(value='Validation sanity check'), FloatProgress(value=1.0, bar_style='info', layout=Layout…"
      ]
     },
     "metadata": {},
     "output_type": "display_data"
    },
    {
     "name": "stdout",
     "output_type": "stream",
     "text": [
      "Accuracy:  0.495\n"
     ]
    },
    {
     "data": {
      "application/vnd.jupyter.widget-view+json": {
       "model_id": "e936d5587b014a689299b9db190bd7e9",
       "version_major": 2,
       "version_minor": 0
      },
      "text/plain": [
       "HBox(children=(HTML(value='Training'), FloatProgress(value=1.0, bar_style='info', layout=Layout(flex='2'), max…"
      ]
     },
     "metadata": {},
     "output_type": "display_data"
    },
    {
     "data": {
      "application/vnd.jupyter.widget-view+json": {
       "model_id": "0901f8675ab94beab15821c53f94c382",
       "version_major": 2,
       "version_minor": 0
      },
      "text/plain": [
       "HBox(children=(HTML(value='Validating'), FloatProgress(value=1.0, bar_style='info', layout=Layout(flex='2'), m…"
      ]
     },
     "metadata": {},
     "output_type": "display_data"
    },
    {
     "name": "stdout",
     "output_type": "stream",
     "text": [
      "Accuracy:  0.348\n"
     ]
    },
    {
     "data": {
      "application/vnd.jupyter.widget-view+json": {
       "model_id": "659f99468c434440a71cd466c6052311",
       "version_major": 2,
       "version_minor": 0
      },
      "text/plain": [
       "HBox(children=(HTML(value='Validating'), FloatProgress(value=1.0, bar_style='info', layout=Layout(flex='2'), m…"
      ]
     },
     "metadata": {},
     "output_type": "display_data"
    },
    {
     "name": "stdout",
     "output_type": "stream",
     "text": [
      "Accuracy:  0.351\n"
     ]
    },
    {
     "data": {
      "application/vnd.jupyter.widget-view+json": {
       "model_id": "85ea8e29a50c4129a9f5c2fc2fef3c8f",
       "version_major": 2,
       "version_minor": 0
      },
      "text/plain": [
       "HBox(children=(HTML(value='Validating'), FloatProgress(value=1.0, bar_style='info', layout=Layout(flex='2'), m…"
      ]
     },
     "metadata": {},
     "output_type": "display_data"
    },
    {
     "name": "stdout",
     "output_type": "stream",
     "text": [
      "Accuracy:  0.353\n"
     ]
    },
    {
     "data": {
      "application/vnd.jupyter.widget-view+json": {
       "model_id": "edfce91f87b1481d861be5d22c55eaa8",
       "version_major": 2,
       "version_minor": 0
      },
      "text/plain": [
       "HBox(children=(HTML(value='Validating'), FloatProgress(value=1.0, bar_style='info', layout=Layout(flex='2'), m…"
      ]
     },
     "metadata": {},
     "output_type": "display_data"
    },
    {
     "name": "stdout",
     "output_type": "stream",
     "text": [
      "Accuracy:  0.354\n"
     ]
    },
    {
     "data": {
      "application/vnd.jupyter.widget-view+json": {
       "model_id": "1a5dfe6e40f242a884b73a0ca33f3356",
       "version_major": 2,
       "version_minor": 0
      },
      "text/plain": [
       "HBox(children=(HTML(value='Validating'), FloatProgress(value=1.0, bar_style='info', layout=Layout(flex='2'), m…"
      ]
     },
     "metadata": {},
     "output_type": "display_data"
    },
    {
     "name": "stdout",
     "output_type": "stream",
     "text": [
      "Accuracy:  0.351\n"
     ]
    },
    {
     "data": {
      "application/vnd.jupyter.widget-view+json": {
       "model_id": "c0a35db6403d4ba1b3118b29f554e0d9",
       "version_major": 2,
       "version_minor": 0
      },
      "text/plain": [
       "HBox(children=(HTML(value='Validating'), FloatProgress(value=1.0, bar_style='info', layout=Layout(flex='2'), m…"
      ]
     },
     "metadata": {},
     "output_type": "display_data"
    },
    {
     "name": "stdout",
     "output_type": "stream",
     "text": [
      "Accuracy:  0.351\n"
     ]
    },
    {
     "data": {
      "application/vnd.jupyter.widget-view+json": {
       "model_id": "3e0c82b5a122471d9e3757035286f3bf",
       "version_major": 2,
       "version_minor": 0
      },
      "text/plain": [
       "HBox(children=(HTML(value='Validating'), FloatProgress(value=1.0, bar_style='info', layout=Layout(flex='2'), m…"
      ]
     },
     "metadata": {},
     "output_type": "display_data"
    },
    {
     "name": "stdout",
     "output_type": "stream",
     "text": [
      "Accuracy:  0.348\n"
     ]
    },
    {
     "data": {
      "application/vnd.jupyter.widget-view+json": {
       "model_id": "b29341643027456e99bd0c230d12fe96",
       "version_major": 2,
       "version_minor": 0
      },
      "text/plain": [
       "HBox(children=(HTML(value='Validating'), FloatProgress(value=1.0, bar_style='info', layout=Layout(flex='2'), m…"
      ]
     },
     "metadata": {},
     "output_type": "display_data"
    },
    {
     "name": "stdout",
     "output_type": "stream",
     "text": [
      "Accuracy:  0.356\n"
     ]
    },
    {
     "data": {
      "application/vnd.jupyter.widget-view+json": {
       "model_id": "9fc83f5845bf4c70bc47516c83c29c84",
       "version_major": 2,
       "version_minor": 0
      },
      "text/plain": [
       "HBox(children=(HTML(value='Validating'), FloatProgress(value=1.0, bar_style='info', layout=Layout(flex='2'), m…"
      ]
     },
     "metadata": {},
     "output_type": "display_data"
    },
    {
     "name": "stdout",
     "output_type": "stream",
     "text": [
      "Accuracy:  0.352\n"
     ]
    },
    {
     "data": {
      "application/vnd.jupyter.widget-view+json": {
       "model_id": "dddb5f4882774e2e9d4005361a3d68c9",
       "version_major": 2,
       "version_minor": 0
      },
      "text/plain": [
       "HBox(children=(HTML(value='Validating'), FloatProgress(value=1.0, bar_style='info', layout=Layout(flex='2'), m…"
      ]
     },
     "metadata": {},
     "output_type": "display_data"
    },
    {
     "name": "stdout",
     "output_type": "stream",
     "text": [
      "Accuracy:  0.353\n"
     ]
    },
    {
     "name": "stderr",
     "output_type": "stream",
     "text": [
      "LOCAL_RANK: 0 - CUDA_VISIBLE_DEVICES: [0]\n"
     ]
    },
    {
     "name": "stdout",
     "output_type": "stream",
     "text": [
      "\n"
     ]
    },
    {
     "data": {
      "application/vnd.jupyter.widget-view+json": {
       "model_id": "07b6be87f722450abc426956799248fe",
       "version_major": 2,
       "version_minor": 0
      },
      "text/plain": [
       "HBox(children=(HTML(value='Testing'), FloatProgress(value=1.0, bar_style='info', layout=Layout(flex='2'), max=…"
      ]
     },
     "metadata": {},
     "output_type": "display_data"
    },
    {
     "name": "stdout",
     "output_type": "stream",
     "text": [
      "--------------------------------------------------------------------------------\n",
      "DATALOADER:0 TEST RESULTS\n",
      "{'test_acc': 0.35134145617485046}\n",
      "--------------------------------------------------------------------------------\n",
      "\n"
     ]
    },
    {
     "data": {
      "text/plain": [
       "[{'test_acc': 0.35134145617485046}]"
      ]
     },
     "execution_count": 84,
     "metadata": {},
     "output_type": "execute_result"
    },
    {
     "name": "stdout",
     "output_type": "stream",
     "text": [
      "\n"
     ]
    }
   ],
   "source": [
    "#!g1.1\n",
    "params = {'lr': {'features': 1e-4,\n",
    "                        'classifier': 5e-4},\n",
    "                 'weight_decay': 5e-3}\n",
    "\n",
    "ds_train = MyDataset(X=X_train, y=y_train, transforms = TrainAugmetation2)\n",
    "ds_val = MyDataset(X=X_val, y=y_val, transforms =  TestTransform2)\n",
    "\n",
    "weights_sampler = torch.DoubleTensor(ds_train.weights)                                       \n",
    "sampler = WeightedRandomSampler(weights_sampler, len(weights_sampler)) \n",
    "\n",
    "dl_train = DataLoader(ds_train, batch_size=64, num_workers=8, sampler=sampler)\n",
    "dl_val = DataLoader(ds_val, batch_size=64, shuffle=False, num_workers=8)\n",
    "\n",
    "model5 = MyModel_3(num_classes=3, **params)\n",
    "trainer = pl.Trainer(max_epochs=10, gpus=1, log_every_n_steps=5)\n",
    "trainer.fit(model5, dl_train, dl_val)\n",
    "\n",
    "ds_test = MyDataset(X=X_test, y=y_test, transforms =  TestTransform2)\n",
    "dl_test = DataLoader(ds_test, batch_size=64, num_workers=8)\n",
    "trainer.test(model5, dl_test)"
   ]
  },
  {
   "cell_type": "markdown",
   "id": "695019c9",
   "metadata": {
    "cellId": "5k3chbn1c1j0kwzvffej4lf",
    "execution_id": "b2d14575-7d96-4e3d-bed4-b487c886e2b4"
   },
   "source": [
    "Сетка практически не обучилась :(. Наверное, дело в данных. Картинка слишком маленькая, чтобы нейросетка могла находить внятные паттерны границ, а приведя Rgb к черно-белому формату, мы потеряли необходимую информацию"
   ]
  }
 ],
 "metadata": {
  "language_info": {
   "codemirror_mode": {
    "name": "ipython",
    "version": 3
   },
   "file_extension": ".py",
   "mimetype": "text/x-python",
   "name": "python",
   "nbconvert_exporter": "python",
   "pygments_lexer": "ipython3",
   "version": "3.7.7"
  },
  "notebookId": "f3f7258e-00c3-4609-80ce-3914dd748360",
  "notebookPath": "lecture3.ipynb"
 },
 "nbformat": 4,
 "nbformat_minor": 5
}
