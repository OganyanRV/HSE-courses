{
 "cells": [
  {
   "cell_type": "markdown",
   "metadata": {
    "cellId": "dgmfa2j58kdelh2cfurfmv",
    "execution_id": "4a2b4f60-5e9d-4043-86cf-d7cfce3a744c"
   },
   "source": [
    "### Oganyan Robert"
   ]
  },
  {
   "cell_type": "markdown",
   "metadata": {
    "cellId": "ct4drxo9s3fk2ny978okoh",
    "execution_id": "b0b8c389-43be-4ca0-8621-161e4a52252b"
   },
   "source": [
    "Если Вы не против, я некоторые вещи в домашнем задании переписал так, как хотел / как меня учили в ШАДе"
   ]
  },
  {
   "cell_type": "markdown",
   "metadata": {
    "cellId": "e2orwfg840hbcl5pm8m34",
    "execution_id": "a3a0eebc-e660-4e09-9361-5854f5c4817d",
    "id": "RPcfHT5C-mKZ"
   },
   "source": [
    "# HW1: seq2seq nmt\n",
    "\n",
    "**Homework Goals**\n",
    "\n",
    "1. Get familiar with text data preparation\n",
    "2. Learn to work with RNN\n",
    "3. Train the model to translate `en-->ru`.\n",
    "\n"
   ]
  },
  {
   "cell_type": "code",
   "execution_count": 2,
   "metadata": {
    "cellId": "p99klsmrh7lys22s8gujg",
    "id": "0hUc8aEg8S2_"
   },
   "outputs": [],
   "source": [
    "#!g1.1\n",
    "%matplotlib inline\n",
    "from collections import Counter\n",
    "import unicodedata\n",
    "import re\n",
    "import string\n",
    "\n",
    "import matplotlib.pyplot as plt\n",
    "import numpy as np\n",
    "import torch\n",
    "from torch import nn\n",
    "from torch.nn import functional as F\n",
    "from torch.utils.data import Dataset, DataLoader\n",
    "from tqdm.auto import tqdm\n",
    "\n",
    "from collections import Counter\n",
    "from sklearn.model_selection import train_test_split\n",
    "from torch.nn.utils.rnn import pad_sequence\n",
    "import warnings\n",
    "warnings.filterwarnings(\"ignore\")\n",
    "device = 'cuda' if torch.cuda.is_available() else 'cpu'"
   ]
  },
  {
   "cell_type": "markdown",
   "metadata": {
    "cellId": "g1yc1ycmg7ibk4vg0u6ok6",
    "execution_id": "52a062ba-4366-48d2-859d-87270ea60b6a",
    "id": "qdM5tBYV8S3J"
   },
   "source": [
    "## Naive way of texts representation:\n",
    "\n",
    "0. Normalize spelling\n",
    "1. Filter out all special characters\n",
    "2. Split by spaces, do *naive tokenization*"
   ]
  },
  {
   "cell_type": "code",
   "execution_count": 3,
   "metadata": {
    "cellId": "t21vfhvkaugghxlcnmg2rc",
    "id": "qSYbvPOW8S3L"
   },
   "outputs": [
    {
     "data": {
      "application/vnd.jupyter.widget-view+json": {
       "model_id": "269ff7cb684340628e20e0f8565d209e",
       "version_major": 2,
       "version_minor": 0
      },
      "text/plain": [
       "HBox(children=(HTML(value=''), FloatProgress(value=0.0, max=336666.0), HTML(value='')))"
      ]
     },
     "metadata": {},
     "output_type": "display_data"
    },
    {
     "name": "stdout",
     "output_type": "stream",
     "text": [
      "\n",
      "RAW alphabet 174 symbols: \n",
      " !\"$%&'()+,-./0123456789:;?@ABCDEFGHIJKLMNOPQRSTUVWXYZabcdefghijklmnopqrstuvwxyz «°º»ãçéêîïóöúǘЁАБВГДЕЖЗИЙКЛМНОПРСТУФХЦЧШЩЬЭЮЯабвгдежзийклмнопрстуфхцчшщъыьэюяёׁ​–—―‘’… ‽₂€№\n",
      "After preprocessing 62 symbols:   !,.?abcdefghijklmnopqrstuvwxyzабвгдежзиклмнопрстуфхцчшщъыьэюя\n",
      "There are 336666 pairs\n",
      "[['go .', 'иди .'], ['go .', 'идите .'], ['hi .', 'здравствуите .'], ['hi .', 'привет !'], ['hi .', 'хаи .']]\n"
     ]
    }
   ],
   "source": [
    "#!g1.1\n",
    "# Prepare data and look at it\n",
    "# In addition to the dictionary, we are also interested in a set of characters\n",
    "raw_alphabet = set()\n",
    "alphabet = set()\n",
    "def normalize(s):\n",
    "    return \"\".join(c for c in unicodedata.normalize('NFD', s) if unicodedata.category(c) != 'Mn')\n",
    "\n",
    "\n",
    "def preprocess(s):\n",
    "    raw_alphabet.update(s)\n",
    "    s = normalize(s.lower().strip())\n",
    "    s = re.sub(r\"[^a-zа-я?.,!]+\", \" \", s)\n",
    "    s = re.sub(r\"([.!?])\", r\" \\1\", s)\n",
    "    alphabet.update(s)\n",
    "    return s\n",
    "\n",
    "pairs = []\n",
    "with open('eng-rus.txt', 'r') as fin:\n",
    "    for line in tqdm(fin.readlines()):\n",
    "        pair = [preprocess(_) for _ in line.split('\\t')]\n",
    "        pairs.append(pair)\n",
    "        \n",
    "print(\"RAW alphabet {} symbols:\".format(len(raw_alphabet)), \n",
    "      \"\".join(sorted(raw_alphabet)))\n",
    "print(\"After preprocessing {} symbols: \".format(len(alphabet)), \n",
    "      \"\".join(sorted(alphabet)))\n",
    "print(\"There are {} pairs\".format(len(pairs)))\n",
    "print(pairs[:5])"
   ]
  },
  {
   "cell_type": "markdown",
   "metadata": {
    "cellId": "z40i3hnlm4r1slqxma4i1n",
    "execution_id": "3f7ef84e-4cf8-45e7-854e-b430e419c06f",
    "id": "h9ARXr6b8S3U"
   },
   "source": [
    "Each word will be assigned a number + we will need special tokens for the beginning and end of the sequence and for unknown words.\n",
    "`<SOS>, <EOS>, <UNK>`\n",
    "\n",
    "We have two languages, to work with each we need functions for translating from words to numbers and vice versa.\n",
    "\n",
    "It is proposed to implement these functions as dictionaries. Allocate the first 4 numbers for special tokens\n",
    "\n",
    "**(1 point)** Implement the dictionary building function, the function takes a list of strings (normalized sentences, can be splited by spaces) as input. Organize the dictionary in a reasonable way so that rare words can be thrown out if necessary."
   ]
  },
  {
   "cell_type": "code",
   "execution_count": 4,
   "metadata": {
    "cellId": "quorakzwdymtl713niohlh",
    "id": "2epLOt_-8S3V"
   },
   "outputs": [],
   "source": [
    "#!g1.1\n",
    "\n",
    "COMMON_TOKENS = ['PAD', 'SOS', 'EOS', 'UNK']\n",
    "\n",
    "def build_vocabs(sents, max_size=1000):\n",
    "    vocab = Counter()\n",
    "    for sent in sents:\n",
    "        vocab.update(sent.split())\n",
    "        \n",
    "    vocab = sorted(vocab.items(),  key = lambda item: item[1], reverse=True)\n",
    "    len_of_vocab = max_size - len(COMMON_TOKENS)\n",
    "    vocab = [word[0] for word in vocab[:len_of_vocab]]\n",
    "    \n",
    "    vocab = COMMON_TOKENS + vocab\n",
    "    \n",
    "    tok2idx = {word: idx for idx, word in enumerate(vocab)}\n",
    "    idx2tok = {idx: word for idx, word in enumerate(vocab)}\n",
    "    \n",
    "    return tok2idx, idx2tok\n",
    "\n",
    "\n",
    "eng, rus = list(zip(*pairs))\n",
    "rus2idx, idx2rus = build_vocabs(rus, max_size=10000)\n",
    "eng2idx, idx2eng = build_vocabs(eng, max_size=5000)"
   ]
  },
  {
   "cell_type": "code",
   "execution_count": 5,
   "metadata": {
    "cellId": "vi7lo2re93najb7az9q147"
   },
   "outputs": [
    {
     "data": {
      "text/plain": [
       "(10000, 10000, 5000, 5000)"
      ]
     },
     "execution_count": 5,
     "metadata": {},
     "output_type": "execute_result"
    }
   ],
   "source": [
    "#!g1.1\n",
    "len(rus2idx), len(idx2rus), len(eng2idx), len(idx2eng)"
   ]
  },
  {
   "cell_type": "code",
   "execution_count": 6,
   "metadata": {
    "cellId": "amklg3bke9c971gwrghwb",
    "id": "xh5koecS8S3c"
   },
   "outputs": [
    {
     "name": "stdout",
     "output_type": "stream",
     "text": [
      "[1, 2539, 1264, 83, 2]\n",
      "SOS привет мир ! EOS\n",
      "[1, 1960, 439, 174, 2]\n",
      "SOS hello world ! EOS\n"
     ]
    }
   ],
   "source": [
    "#!g1.1\n",
    "def sentence2idx(s, tok2idx):\n",
    "    tokens = preprocess(s).split(' ')\n",
    "    unk = tok2idx['UNK']\n",
    "    return [tok2idx['SOS']] + [tok2idx.get(_, unk) for _ in tokens] + [tok2idx['EOS']]\n",
    "\n",
    "\n",
    "def idx2sentence(s, idx2tok):\n",
    "    return \" \".join(idx2tok[_] for _ in s)\n",
    "\n",
    "# check the consistency of the transformations\n",
    "x = sentence2idx('Привет мир!', rus2idx)\n",
    "print(x)\n",
    "print(idx2sentence(x, idx2rus))\n",
    "\n",
    "x = sentence2idx('Hello world!', eng2idx)\n",
    "print(x)\n",
    "print(idx2sentence(x, idx2eng))"
   ]
  },
  {
   "cell_type": "markdown",
   "metadata": {
    "cellId": "xxj04lrw2h8rgzgi8dvvvm",
    "execution_id": "6161fa2a-77ef-42ab-93ca-22d50300ad45",
    "id": "Dhjjx52i8S3g"
   },
   "source": [
    "## Dealing with arbitrary length sequences in pytorch\n",
    "\n",
    "We need to be able to generate batches of `[bs, 1, seq_len]` tensors.\n",
    "But in our dataset, the samples are of different lengths:\n",
    "\n",
    "- we could cut everything down to the minimum length\n",
    "- padd to maximum length\n",
    "- choose some average length\n",
    "\n",
    "**(1 point)** Split the dataset on train and validate:"
   ]
  },
  {
   "cell_type": "markdown",
   "metadata": {
    "cellId": "phvk4ir9onfzn47exp5fi",
    "execution_id": "1a1ce2c1-477f-46d5-b5e4-4650439cc960"
   },
   "source": [
    "Ниже представлена версия датасета, где внутри делается паддинг к одинаковому размеру. Таким образом, мы можем прокликать ячейку с наивным даталоадером"
   ]
  },
  {
   "cell_type": "code",
   "execution_count": 7,
   "metadata": {
    "cellId": "7d4fg5i0duuvya1de5g5s"
   },
   "outputs": [
    {
     "data": {
      "application/vnd.jupyter.widget-view+json": {
       "model_id": "58d95e89dbdf49a58c9489dd5ba0a785",
       "version_major": 2,
       "version_minor": 0
      },
      "text/plain": [
       "HBox(children=(HTML(value=''), FloatProgress(value=0.0, max=336666.0), HTML(value='')))"
      ]
     },
     "metadata": {},
     "output_type": "display_data"
    },
    {
     "name": "stdout",
     "output_type": "stream",
     "text": [
      "\n"
     ]
    }
   ],
   "source": [
    "#!g1.1\n",
    "# make a dataset with encoded pairs:\n",
    "class EngRusDataset(Dataset):\n",
    "    def __init__(self, pairs, max_len=None, pad=eng2idx['PAD']):\n",
    "        \n",
    "        # same len for every sentence\n",
    "        self.max_len = max_len or max(max(map(len, [x[0] for x in pairs])), max(map(len, [x[1] for x in pairs])))\n",
    "        \n",
    "        self.pairs = np.full([len(pairs), 2, self.max_len], pad, dtype=np.int64)\n",
    "        for i in range(len(pairs)):\n",
    "            eng_padded = pairs[i][0][:self.max_len]\n",
    "            rus_padded = pairs[i][1][:self.max_len]\n",
    "            self.pairs[i, 0, :len(eng_padded)] = eng_padded\n",
    "            self.pairs[i, 1, :len(rus_padded)] = rus_padded\n",
    "    \n",
    "    def __len__(self):\n",
    "        return len(self.pairs)\n",
    "    \n",
    "    def __getitem__(self, item):\n",
    "        eng, rus = self.pairs[item]\n",
    "        return dict(\n",
    "            eng=eng,\n",
    "            rus=rus,\n",
    "        )\n",
    "\n",
    "encoded = []\n",
    "for eng, rus in tqdm(pairs):\n",
    "    a = sentence2idx(eng, eng2idx)\n",
    "    b = sentence2idx(rus, rus2idx)\n",
    "    encoded.append((a, b))\n",
    "\n",
    "    \n",
    "train_data, val_data = train_test_split(encoded, train_size=0.8, random_state=42, shuffle=True)\n",
    "trainset = EngRusDataset(train_data, max_len=15)\n",
    "valset = EngRusDataset(val_data, max_len=15)"
   ]
  },
  {
   "cell_type": "code",
   "execution_count": 8,
   "metadata": {
    "cellId": "a2n2xakx426z17lt9iq1lh"
   },
   "outputs": [
    {
     "data": {
      "text/plain": [
       "tensor([[   1,    5,   22,   11,   36,    8,  377,    3,    4,    2,    0,    0,\n",
       "            0,    0,    0],\n",
       "        [   1,   19, 1132,   66,   44, 1546,    3,    4,    2,    0,    0,    0,\n",
       "            0,    0,    0],\n",
       "        [   1,   56,   39,   11,    7,   47,    3,    9,    2,    0,    0,    0,\n",
       "            0,    0,    0],\n",
       "        [   1,   26,   60,  163,  152,  207,  103, 1390,    3,    4,    2,    0,\n",
       "            0,    0,    0],\n",
       "        [   1,   19,  106,   11,   33, 1475,    3,    4,    2,    0,    0,    0,\n",
       "            0,    0,    0],\n",
       "        [   1,    6,   59,   85,   92,  740,   21,   44,  251,    3,    4,    2,\n",
       "            0,    0,    0],\n",
       "        [   1,   23,   38,    6,   15,  399,    3,    9,    2,    0,    0,    0,\n",
       "            0,    0,    0],\n",
       "        [   1,    7,   72,    8,  111,   12,  672,    3,    4,    2,    0,    0,\n",
       "            0,    0,    0]])"
      ]
     },
     "execution_count": 8,
     "metadata": {},
     "output_type": "execute_result"
    }
   ],
   "source": [
    "#!g1.1\n",
    "trainloader = DataLoader(trainset, batch_size=8, shuffle=True)\n",
    "it = iter(trainloader)\n",
    "batch = next(it)['eng']\n",
    "batch"
   ]
  },
  {
   "cell_type": "markdown",
   "metadata": {
    "cellId": "zfj04izgp8a80qknffs6hg",
    "execution_id": "cae4e150-fb94-480b-8f75-52a67799370b"
   },
   "source": [
    "Однако в беседе мы обсудили, что идеалогически здесь делать паддинг вроде как неверно, поэтому не будем менять код в датасете, будем делать паддинг в collate. Соответственно Датасет остается без изменений:"
   ]
  },
  {
   "cell_type": "code",
   "execution_count": 9,
   "metadata": {
    "cellId": "o91zw69epe0fdwkp74wcep",
    "id": "kmGX7wtL8S3i"
   },
   "outputs": [
    {
     "data": {
      "application/vnd.jupyter.widget-view+json": {
       "model_id": "9701c42f447d47979c5cbde7b017aba7",
       "version_major": 2,
       "version_minor": 0
      },
      "text/plain": [
       "HBox(children=(HTML(value=''), FloatProgress(value=0.0, max=336666.0), HTML(value='')))"
      ]
     },
     "metadata": {},
     "output_type": "display_data"
    },
    {
     "name": "stdout",
     "output_type": "stream",
     "text": [
      "\n"
     ]
    }
   ],
   "source": [
    "#!g1.1\n",
    "from sklearn.model_selection import train_test_split\n",
    "# make a dataset with encoded pairs:\n",
    "class EngRusDataset(Dataset):\n",
    "    def __init__(self, pairs):\n",
    "        self.pairs = pairs\n",
    "    \n",
    "    def __len__(self):\n",
    "        return len(self.pairs)\n",
    "    \n",
    "    def __getitem__(self, item):\n",
    "        eng, rus = self.pairs[item]\n",
    "        return dict(\n",
    "            eng=eng,\n",
    "            rus=rus,\n",
    "        )\n",
    "\n",
    "encoded = []\n",
    "for eng, rus in tqdm(pairs):\n",
    "    a = sentence2idx(eng, eng2idx)\n",
    "    b = sentence2idx(rus, rus2idx)\n",
    "    encoded.append((a, b))\n",
    "\n",
    "    \n",
    "train_data, val_data = train_test_split(encoded, train_size=0.8, random_state=42, shuffle=True)\n",
    "trainset = EngRusDataset(train_data)\n",
    "valset = EngRusDataset(val_data)"
   ]
  },
  {
   "cell_type": "markdown",
   "metadata": {
    "cellId": "wnwn410eac291i7x9lhn",
    "execution_id": "d8520aab-547b-4246-ba13-5745ea0c24b7",
    "id": "9PDpAtEq8S3n"
   },
   "source": [
    "Let's build a naive DataLoader and check how it makes batches:\n"
   ]
  },
  {
   "cell_type": "markdown",
   "metadata": {
    "cellId": "zawrf45v86swf8cbsmb2",
    "execution_id": "d675d7cd-24f7-47c6-a11e-617591728ce7",
    "id": "O7blZtcq8S3w"
   },
   "source": [
    "In my case, the result was:\n",
    "```\n",
    "[tensor([1, 1, 1, 1, 1, 1, 1, 1]),\n",
    " tensor([ 6,  7,  6, 15,  5,  6,  5, 62]),\n",
    " tensor([ 48,  34,  83,   7,  32, 221,  22,  43]),\n",
    " tensor([  5, 143,  37,  36, 129,  12,  11,  66]),\n",
    " tensor([  73, 1258,  279,    8,    6,  555,   41,   10]),\n",
    " tensor([  8, 140,   8, 628,  20,  96,  13, 270]),\n",
    " tensor([  47,    4,   15,   18,   55,  269,    6, 1287]),\n",
    " tensor([ 58,   2,  13, 140, 193, 140, 171, 140])]\n",
    "```\n",
    "\n",
    "What's weird here?\n",
    "1. This is not a tensor, but a list of tensors. Accordingly, when iterating over zero dimension (`batch[i, :]`), we will get not an i-example, but i-tokens for all examples in the batch. This is not a problem, but different from the expected behavior.\n",
    "2. Only one example ends with `<EOS>` (2), the others are cut off to match its length. And this is a problem.\n",
    "\n",
    "We would like to padd all examples to the maximum length in the batch.\n",
    "But at the stage of preparing the example (in the `__getitem__` function), we do not know the batch neighbors!\n",
    "In order to change the batch merging logic, we need to write our own `collate_fn` function in the DataLoader constructor:\n",
    "\n",
    "```\n",
    "def collate_fn(samples):\n",
    "    # samples -- list of dictionaries samples\n",
    "    <...>\n",
    "    return batch\n",
    "```\n",
    "\n",
    "**(1 point)** Write a `collate_fn` function that padds _correctly_ rus and eng sequences and merges them into batches, where `batch[i, :]` returns the tokens for the `i` example.\n",
    "\n",
    "Expected output (for a sequence with left padding):\n",
    "\n",
    "```\n",
    "tensor([[   1,   10, 3429,  405,  113,  676,   10, 1031,  140,    4,    2],\n",
    "        [   0,    1,   57,   18,   23,   19,   61,    7,  140,    4,    2],\n",
    "        [   0,    0,    0,    1,   16,   17, 1131,  416,  140,    4,    2],\n",
    "        [   0,    0,    0,    1,   13,  465,   75,  197,  140,    4,    2],\n",
    "        [   0,    0,    0,    1,    6,  302,   13,  144,  140,    4,    2],\n",
    "        [   0,    1,    6,   59,  205,  167,    8,   15,  140,    4,    2],\n",
    "        [   0,    0,    0,    0,    1,    6,   14,  678,  140,    4,    2],\n",
    "        [   0,    0,    1,    5,   29,   67,    6,   14,  140,    4,    2]])\n",
    "```"
   ]
  },
  {
   "cell_type": "markdown",
   "metadata": {
    "cellId": "su8tb7yvhujahajir1cfrk",
    "execution_id": "c9ef87b5-6300-476e-821f-417bac9790d6"
   },
   "source": [
    "Чтобы длина предложения в батче была одинаковой надо сделать паддинг. Буду добавлять PAD справа. Одинаковая длина предложений либо задается вручную, либо считается как максимальная длина закодированного предложения."
   ]
  },
  {
   "cell_type": "code",
   "execution_count": 10,
   "metadata": {
    "cellId": "p9y3bx4occkf6u00fa6hk"
   },
   "outputs": [
    {
     "data": {
      "text/plain": [
       "(49, 48, 50, 45)"
      ]
     },
     "execution_count": 10,
     "metadata": {},
     "output_type": "execute_result"
    }
   ],
   "source": [
    "#!g1.1\n",
    "max(map(len, [x[0] for x in train_data])), max(map(len, [x[1] for x in train_data])), max(map(len, [x[0] for x in val_data])), max(map(len, [x[1] for x in val_data]))"
   ]
  },
  {
   "cell_type": "markdown",
   "metadata": {
    "cellId": "dohlj7sda2nxqawm81i40r",
    "execution_id": "7b98a563-6ca0-4695-acbb-ec7c728f9071"
   },
   "source": [
    "Максимальные размеры слишком большие. Будем задавать фиксированную длину maxlen равную, например, 20."
   ]
  },
  {
   "cell_type": "markdown",
   "metadata": {
    "cellId": "co19ffrobo5jwsq0v09z3p",
    "execution_id": "5a9ef7c7-c206-4965-a077-812ff0493149"
   },
   "source": [
    "*Заметка для будущего меня:* функтор получился немного костыльным. Я решил попробовать сделать через pad_to_sequence. Есть проблема: Если заданная максимальная длина больше, чем длина максимального по длине предложения, то он не будет паддить предложения к максимальной длине. Решение: добавить \"мусорный\" тензор заданной максимальной длины, а в конце, после паддингов, удалить его. Also Весь этот код можно переписать и сделать удобно через простой torch.full(), по аналогии первой версии датасета, но мне интересно было попробовать по-другому"
   ]
  },
  {
   "cell_type": "code",
   "execution_count": 11,
   "metadata": {
    "cellId": "42v43y6zykt0u9peuwfkteh",
    "id": "SMSeFFHQ8S3y"
   },
   "outputs": [
    {
     "data": {
      "text/plain": [
       "tensor([[   1,    6,  134,   11,  411,  119,    3,    4,    2,    0,    0,    0,\n",
       "            0,    0,    0],\n",
       "        [   1,   62,   34, 1555,    3,    4,    2,    0,    0,    0,    0,    0,\n",
       "            0,    0,    0],\n",
       "        [   1,    5,  140,  548,   31, 1290,  172,    3,    4,    2,    0,    0,\n",
       "            0,    0,    0],\n",
       "        [   1,    6,  165,   44, 2025,  423,  935,    3,    4,    2,    0,    0,\n",
       "            0,    0,    0],\n",
       "        [   1, 1098,  183,   12,  819,    3,    4,    2,    0,    0,    0,    0,\n",
       "            0,    0,    0],\n",
       "        [   1,   52, 1633,    5,  108,    6,   20, 3641,  137,  582,    5, 1432,\n",
       "           19,   20,    2],\n",
       "        [   1,   25,   98,   57,  244,   50,    8,  894, 1548,    3,    4,    2,\n",
       "            0,    0,    0],\n",
       "        [   1,    6,   20,  546,    3,    4,    2,    0,    0,    0,    0,    0,\n",
       "            0,    0,    0]])"
      ]
     },
     "execution_count": 11,
     "metadata": {},
     "output_type": "execute_result"
    }
   ],
   "source": [
    "#!g1.1\n",
    "BATCH_SIZE = 8\n",
    "\n",
    "\n",
    "class CollateFnEngRus():\n",
    "    def __init__(self, max_len=None, pad=eng2idx['PAD']):\n",
    "        self.pad = pad\n",
    "        self.max_len = max_len\n",
    "        \n",
    "    def __call__(self, batch):\n",
    "        data = dict(\n",
    "            eng=list(),\n",
    "            rus=list()\n",
    "        )\n",
    "        max_len = self.max_len or max(max(map(len, [x for x in batch['eng']])), max(map(len, [x for x in batch['rus']])))\n",
    "        \n",
    "        # Костыль, чтобы предложения паддились к максимальной длине\n",
    "        data[\"eng\"].append(torch.full((max_len,), fill_value=0))\n",
    "        data[\"rus\"].append(torch.full((max_len,), fill_value=0))\n",
    "        \n",
    "        for sentence in batch:\n",
    "            eng, rus = torch.tensor(sentence['eng'], dtype=torch.int), torch.tensor(sentence['rus'], dtype=torch.int)\n",
    "            eng[min(max_len - 1, len(eng) - 1)] = eng2idx['EOS']\n",
    "            rus[min(max_len - 1, len(rus) - 1)] = rus2idx['EOS']\n",
    "            data[\"eng\"].append(eng[:max_len])\n",
    "            data[\"rus\"].append(rus[:max_len])\n",
    "        \n",
    "        data = {lang: pad_sequence(sentences, batch_first=True, padding_value=self.pad)[1:] for lang, sentences in data.items()}\n",
    "        return data\n",
    "    \n",
    "\n",
    "trainloader = DataLoader(trainset, batch_size=BATCH_SIZE, shuffle=True, collate_fn=CollateFnEngRus(max_len=15))\n",
    "it = iter(trainloader)\n",
    "next(it)['eng']"
   ]
  },
  {
   "cell_type": "markdown",
   "metadata": {
    "cellId": "9vfgtd3mkdvqbgvc3s3srk",
    "execution_id": "c6b7581e-c287-4754-ae49-65a0631091b3",
    "id": "vDcGAXiA-mKm"
   },
   "source": [
    "Now we have the correct data generator, and all we have to do is write the model (encoder and decoder).\n",
    "\n",
    "\n",
    "### Encoder\n",
    "\n",
    "The input tensor contains integers and has dimensions `[bs, seq_len]`,\n",
    "\n",
    "We will pass them through the layer with embeddings and get the tensor `[bs, seq_len, dim]`. Now we have floating point numbers that can be fed to RNN layers as input.\n",
    "\n",
    "\n",
    "\n",
    "GRU is an RNN with a specific structure:\n",
    "<img src=\"https://habrastorage.org/webt/xt/_q/nj/xt_qnjgfjengqoqd4gizkq4j_wk.png\">\n",
    "\n",
    "In the picture, the yellow rectangles are the line layers with the corresponding activation functions.\n",
    "\n",
    "\n",
    "`nn.RNN` allows you to create and use multi-layer one- and two-way layers as one layer.\n",
    "All parameters must be specified during creation, and then simply applied during the forward pass.\n",
    "\n",
    "\n",
    "The order of dimensions is a bit different from the usual in convolutional networks, this is due to the inability to parallel recurrent calculations effectively.\n",
    "\n",
    "\n",
    "**batch_first=True**\n",
    "\n",
    "Such an RNN layer expects two tensors as input:\n",
    "  - input with sizes `[bs, seq_len, dim]`,\n",
    "  - hidden_state with dimensions `[num_layers * num_directions, bs, hidden_size]`.\n",
    " \n",
    " \n",
    "The output is two tensors:\n",
    "- output `[bs, seq_len, dim]`,\n",
    "- hidden `[num_layers * num_directions, bs, hidden]`.\n",
    "\n",
    "We will apply RNN in two ways:\n",
    "- to the entire sequence, to translate the entire phrase in one language into one vector (EncoderRNN)\n",
    "- to one tensor and input token to generate a phrase in another language (DecoderRNN)\n",
    "\n",
    "\n",
    "We will put the entire input sequence into a hidden state vector."
   ]
  },
  {
   "cell_type": "markdown",
   "metadata": {
    "cellId": "9bydbghwuzdtvs8feqa9to",
    "execution_id": "d0363fdf-3df3-4480-b1f6-4670d00bba38"
   },
   "source": [
    "Немного переписал. Теперь Энкодер возвращает только последний скрытый слой, который идет к энкодеру на вход (по правде говоря, этот скрытый слой пропущен еще и через дополнительный линейный слой)."
   ]
  },
  {
   "cell_type": "code",
   "execution_count": 12,
   "metadata": {
    "cellId": "ku1ifu4b1i7l1a7hlasyi",
    "id": "dph7rI9_8S33"
   },
   "outputs": [],
   "source": [
    "#!g1.1\n",
    "class EncoderRNN(nn.Module):\n",
    "    \n",
    "    def __init__(self, vocab_size, hidden_size, emb_size=64):\n",
    "        super().__init__()\n",
    "        self.hidden_size = hidden_size\n",
    "        self.vocab_size = vocab_size\n",
    "        self.emb_size = emb_size\n",
    "        self.num_layers = 1\n",
    "        \n",
    "        self.embeddings = nn.Embedding(vocab_size, emb_size)\n",
    "        self.rnn = nn.GRU(emb_size, hidden_size, batch_first=True, num_layers=self.num_layers)\n",
    "        self.dec_start = nn.Linear(hidden_size, hidden_size)\n",
    "\n",
    "        \n",
    "    def forward(self, inp, hidden):\n",
    "        batch_size = inp.shape[0]\n",
    "        inp_emb = self.embeddings(inp)\n",
    "        \n",
    "        enc_seq, [last_state_but_not_really] = self.rnn(inp_emb, hidden)\n",
    "        # enc_seq: [batch, len_of_sequence, hid_size], last_state: [batch, hid_size]\n",
    "        \n",
    "        # note: last_state is not _actually_ last because of padding, let's find the real last_state\n",
    "        lengths = ((inp != eng2idx['EOS']) & (inp != eng2idx['PAD'])).to(torch.int64).sum(dim=1).clamp_max(inp.shape[1] - 2)\n",
    "        last_state = enc_seq[torch.arange(batch_size), lengths]\n",
    "        # ^-- shape: [batch_size, hid_size]\n",
    "        \n",
    "        dec_start = self.dec_start(last_state)\n",
    "        return [dec_start]\n",
    "    \n",
    "    def init_hidden(self, batch_size=1, device=None):\n",
    "        # be aware about dimension! https://pytorch.org/docs/stable/nn.html#torch.nn.GRU\n",
    "        return torch.zeros(self.num_layers, batch_size, self.hidden_size, device=device)"
   ]
  },
  {
   "cell_type": "code",
   "execution_count": 13,
   "metadata": {
    "cellId": "wd7ho6cje3jyxt6lrzgsqp"
   },
   "outputs": [
    {
     "name": "stdout",
     "output_type": "stream",
     "text": [
      "torch.Size([8, 15])\n",
      "torch.Size([8, 256])\n"
     ]
    }
   ],
   "source": [
    "#!g1.1\n",
    "enc = EncoderRNN(vocab_size=len(eng2idx), hidden_size=256, emb_size=256)\n",
    "x = next(it)['eng']\n",
    "print(x.shape)\n",
    "hidden = enc.init_hidden(8)\n",
    "hidden_to_dec = enc(x, hidden)\n",
    "print(hidden_to_dec[0].shape)"
   ]
  },
  {
   "cell_type": "markdown",
   "metadata": {
    "cellId": "q592ecj8soa2i00lre1rck",
    "execution_id": "0b3f7414-726d-43fc-b6e6-d1a5f0cd56fc",
    "id": "Vg6cvr8L-mKm"
   },
   "source": [
    "We want the decoder to generate a translation for us -- a sequence of tokens from another language, using the encoder's hidden state vector.\n",
    "\n",
    "To do this, we will supply hidden and `<SOS>`token to the input.\n",
    "At each step, the decoder will return hidden and output vector.\n",
    "Output vector is the probability distribution for the next token (respectively, it has the size of the output language dictionary)."
   ]
  },
  {
   "cell_type": "markdown",
   "metadata": {
    "cellId": "ca1nq1cwihbrezkf5eco8",
    "execution_id": "81d89665-aa48-435e-9c48-d593b4544ee6"
   },
   "source": [
    "Декодер принимает батч предложений, пускает их по слову через GruCell, скрытый слой подается еще раз в GRU, а также он, пропущенный через линейный слой, возвращается нам в качестве логитов. В классе DecoderRNN написан функционал для обучения, но не предсказания."
   ]
  },
  {
   "cell_type": "code",
   "execution_count": 14,
   "metadata": {
    "cellId": "g1q91xjndj6gduce2ehea",
    "id": "oYfecQb88S38"
   },
   "outputs": [],
   "source": [
    "#!g1.1\n",
    "class DecoderRNN(nn.Module):\n",
    "    def __init__(self, vocab_size, hidden_size, emb_size=64):\n",
    "        super().__init__()\n",
    "        self.hidden_size = hidden_size\n",
    "        self.vocab_size = vocab_size\n",
    "        self.emb_size = emb_size\n",
    "        \n",
    "        self.embeddings = nn.Embedding(vocab_size, emb_size)      \n",
    "        self.rnn = nn.GRUCell(emb_size, hidden_size)\n",
    "        self.out = nn.Linear(hidden_size, vocab_size)\n",
    "        \n",
    "    def decode_step(self, prev_state, prev_tokens):\n",
    "        prev_gru0_state = prev_state[0]\n",
    "        \n",
    "        prev_embs = self.embeddings(prev_tokens)\n",
    "        next_gru0_state = self.rnn(prev_embs, prev_gru0_state)\n",
    "        new_dec_state = [next_gru0_state]\n",
    "        output_logits = self.out(next_gru0_state)\n",
    "        \n",
    "        return new_dec_state, output_logits\n",
    "    \n",
    "    \n",
    "    def forward(self, initial_state, out_tokens):\n",
    "        batch_size = out_tokens.shape[0]\n",
    "        state = initial_state\n",
    "        \n",
    "        # initial logits: always predict SOS\n",
    "        onehot_bos = F.one_hot(torch.full([batch_size], rus2idx['SOS'], dtype=torch.int64),\n",
    "                               num_classes=self.vocab_size).to(device=device)\n",
    "        first_logits = torch.log(onehot_bos.to(torch.float32) + 1e-9)\n",
    "        \n",
    "        logits_sequence = [first_logits]\n",
    "        for i in range(out_tokens.shape[1] - 1):\n",
    "            state, logits = self.decode_step(state, out_tokens[:, i])\n",
    "            logits_sequence.append(logits.to(device=device))\n",
    "        return torch.stack(logits_sequence, dim=1)\n"
   ]
  },
  {
   "cell_type": "code",
   "execution_count": 15,
   "metadata": {
    "cellId": "x4w20tgttgnvvviplokihd",
    "id": "oyMwF94n8S3_"
   },
   "outputs": [],
   "source": [
    "#!g1.1\n",
    "dec = DecoderRNN(len(rus2idx), 256, 256)"
   ]
  },
  {
   "cell_type": "markdown",
   "metadata": {
    "cellId": "7r6pxz24vemn4akh56bs4l",
    "execution_id": "1553e82c-cfc4-4d84-8d53-fc64c2e38f12",
    "id": "a_Vj3_PB-mKn"
   },
   "source": [
    "Let's get a tensor with tokens of size `[bs, seq_len]` from the data generator and try to iterate over seq_len to generate the next token."
   ]
  },
  {
   "cell_type": "code",
   "execution_count": 16,
   "metadata": {
    "cellId": "gkmvwdsmc0a6sgl40slv7p",
    "id": "wVFcg0Uz8S4C"
   },
   "outputs": [
    {
     "name": "stdout",
     "output_type": "stream",
     "text": [
      "torch.Size([8, 15]) torch.Size([8, 15])\n",
      "torch.Size([8, 15, 10000])\n"
     ]
    }
   ],
   "source": [
    "#!g1.1\n",
    "it = iter(trainloader)\n",
    "batch = next(it) # get batch\n",
    "batch, y = batch['rus'], batch['eng']\n",
    "print(batch.shape, y.shape)\n",
    "bs, seq_len = batch.shape\n",
    "output = dec(hidden_to_dec, batch)\n",
    "print(output.shape)\n"
   ]
  },
  {
   "cell_type": "markdown",
   "metadata": {
    "cellId": "wtb83b84vqdfhitxjx8d",
    "execution_id": "c075b061-e34f-4355-8839-84f84255329e",
    "id": "ECBleoB4F58E"
   },
   "source": [
    "**(6 points)** Fill in a training part and train the encoder and decoder.\n",
    "\n",
    "1. You need to write getting the next token (integer) from the distribution: a vector of size `len(rus2idx)`. Since we are working in batches, this should be a batchified operation. You have several options for how to do this:\n",
    " - take by argmax\n",
    " - sample from distribution (torch.multinomial)\n",
    " - during training, take tokens from ground truth (and this must be done at least sometimes so that the model converges).\n",
    " \n",
    "2. You need to write a loss calculation. It is convenient to do this at each step: after the `<EOS>` occurs in the example, you do not need to count the loss for it (in the vectorized version, you can multiply the loss for `<PAD>`-tokens by zero - this is called masking). Loss is simply the sum of cross-entropy losses for each step.\n"
   ]
  },
  {
   "cell_type": "markdown",
   "metadata": {
    "cellId": "vybcmnya2xkxpa6c11zjb",
    "execution_id": "5b00a605-20b7-4f2f-b5d2-42ee5f640047"
   },
   "source": [
    "Функция для предсказания seq2seq модели. "
   ]
  },
  {
   "cell_type": "code",
   "execution_count": 123,
   "metadata": {
    "cellId": "hm5762cafhap9lhoqz34o"
   },
   "outputs": [],
   "source": [
    "#!g1.1\n",
    "def predict(model, inp_lines,batch_size = BATCH_SIZE, max_len=100):\n",
    "    encoder, decoder = model\n",
    "    encoder.to(device)\n",
    "    decoder.to(device)\n",
    "    encoder.eval()\n",
    "    decoder.eval()\n",
    "    \n",
    "    def decode_inference(initial_state, batch_size = batch_size, max_len=max_len):\n",
    "        batch_size = len(initial_state[0])\n",
    "        state = initial_state\n",
    "        \n",
    "        # We genrate SOS at first\n",
    "        outputs = [torch.full([batch_size], rus2idx['SOS'], dtype=torch.int64, \n",
    "                              device=device)]\n",
    "        all_states = [initial_state]\n",
    "\n",
    "        for i in range(max_len):\n",
    "            state, logits = decoder.decode_step(state, outputs[-1])\n",
    "            outputs.append(logits.argmax(dim=-1)) # Probably should do beam search instead\n",
    "            all_states.append(state)\n",
    "        \n",
    "        return torch.stack(outputs, dim=1), all_states\n",
    "\n",
    "    hid = encoder.init_hidden(batch_size).to(device=device)\n",
    "    initial_state = encoder(inp_lines, hid)\n",
    "    out_ids, states = decode_inference(initial_state, batch_size, max_len)\n",
    "    return out_ids.cpu().numpy(), states"
   ]
  },
  {
   "cell_type": "markdown",
   "metadata": {
    "cellId": "xtdt8vqyxlaz7q0dzyf39",
    "execution_id": "0c16e296-d6fc-4d67-ba23-f0d547500011"
   },
   "source": [
    "Качество полученной модели будем мерить с помощью метрики BLEU на валидации. Machine translation is commonly evaluated with BLEU score. This metric simply computes which fraction of predicted n-grams is actually present in the reference translation. It does so for n=1,2,3 and 4 and computes the geometric average with penalty if translation is shorter than reference."
   ]
  },
  {
   "cell_type": "code",
   "execution_count": 73,
   "metadata": {
    "cellId": "nh5mlckjry2ojhlyixhm"
   },
   "outputs": [],
   "source": [
    "#!g1.1\n",
    "from nltk.translate.bleu_score import corpus_bleu\n",
    "\n",
    "def compute_bleu(translations, actual):\n",
    "    return corpus_bleu(\n",
    "        [[idx2sentence(ref.detach().cpu().numpy(), idx2rus).split()] for ref in actual],\n",
    "        [idx2sentence(trans, idx2rus).split() for trans in translations],\n",
    "        smoothing_function=lambda precisions, **kw: [p + 1.0 / p.denominator for p in precisions]\n",
    "        ) * 100"
   ]
  },
  {
   "cell_type": "markdown",
   "metadata": {
    "cellId": "o06gjc3ebvg32pdk40dkr9",
    "execution_id": "792bcac7-85e1-4792-a777-5fe5e41b2385"
   },
   "source": [
    "Маска при подсчете лосса"
   ]
  },
  {
   "cell_type": "code",
   "execution_count": 20,
   "metadata": {
    "cellId": "rktq6gvastn6khoup7jrp"
   },
   "outputs": [],
   "source": [
    "#!g1.1\n",
    "def compute_mask(sentences, lang2idx):\n",
    "    return sentences != lang2idx['PAD']"
   ]
  },
  {
   "cell_type": "code",
   "execution_count": 120,
   "metadata": {
    "cellId": "1tcth7vdeq6g120q5bhold",
    "id": "EshFSblS-mKn"
   },
   "outputs": [],
   "source": [
    "#!g1.1\n",
    "from collections import defaultdict\n",
    "from IPython.display import clear_output\n",
    "from tqdm import trange\n",
    "\n",
    "def train_test_model(model, optimizer, dataloader, val_loader, epoches_cnt = 5): \n",
    "    encoder, decoder = model\n",
    "    encoder.to(device)\n",
    "    decoder.to(device)\n",
    "    \n",
    "    encoder.train()\n",
    "    decoder.train()\n",
    "    logs = defaultdict(list)\n",
    "    \n",
    "    step = 0\n",
    "    for _ in trange(epoches_cnt):\n",
    "        for batch in tqdm(dataloader):\n",
    "            rus = batch['rus'].to(device)\n",
    "            eng = batch['eng'].to(device)\n",
    "\n",
    "            # Computing loss:\n",
    "            mask = compute_mask(rus, rus2idx) # [batch_size, out_len]\n",
    "            targets_1hot = F.one_hot(rus, len(rus2idx)).to(torch.float32)\n",
    "            \n",
    "            cur_batch_size = batch['rus'].shape[0]\n",
    "            encoder_hidden = encoder.init_hidden(cur_batch_size).to(device)\n",
    "            \n",
    "            hidden_to_dec = encoder(eng, encoder_hidden)\n",
    "            \n",
    "            \n",
    "            logits_seq = decoder(hidden_to_dec, rus) # outputs of the model, [batch_size, out_len, num_tokens]\n",
    "            logprobs_seq = nn.LogSoftmax(dim=-1)(logits_seq)\n",
    "            \n",
    "            logp_out = (logprobs_seq * targets_1hot).sum(dim=-1) # log-probabilities of correct outputs, [batch_size, out_len]\n",
    "            # ^-- this will select the probability of the actual next token.\n",
    "\n",
    "            lengths = mask.sum()\n",
    "\n",
    "            # average cross-entropy over tokens where mask == True\n",
    "            mask_loss = torch.sum(logp_out * mask)\n",
    "            loss = - mask_loss / lengths\n",
    "\n",
    "            optimizer.zero_grad()\n",
    "            loss.backward()\n",
    "            optimizer.step()\n",
    "\n",
    "            logs['loss'].append(loss.item())\n",
    "            \n",
    "            # Validation\n",
    "            if step % 100 == 0:\n",
    "                logs['bleu'].append((step, validate(model, val_loader)))\n",
    "                encoder.train()\n",
    "                decoder.train()\n",
    "\n",
    "            step+=1            \n",
    "    print('Last loss:', logs['loss'][-1])\n",
    "    return logs\n",
    "\n",
    "def validate(model, dataloader):\n",
    "    with torch.no_grad():\n",
    "        scores = []\n",
    "        for batch in dataloader:\n",
    "            \n",
    "            y_true = batch['rus']\n",
    "            y_pred, _ = predict(model, batch['eng'].to(device=device), batch_size = batch['eng'].shape[0], max_len=SEQ_LEN)\n",
    "            scores.append(compute_bleu(y_pred, y_true))\n",
    "\n",
    "        return np.mean(scores)\n",
    "\n",
    "    \n",
    "def plot_logs(logs):\n",
    "    clear_output()\n",
    "    plt.figure()\n",
    "    plt.plot(logs['loss'], zorder=1)\n",
    "    plt.title('Train Loss')\n",
    "    plt.xlabel('steps')\n",
    "    plt.grid()\n",
    "    plt.show()\n",
    "    \n",
    "    \n",
    "    plt.figure()\n",
    "    plt.plot(*zip(*logs['bleu']), zorder=1)\n",
    "    plt.title('Validation Bleu')\n",
    "    plt.xlabel('steps')\n",
    "    plt.grid()    \n",
    "    plt.show()\n"
   ]
  },
  {
   "cell_type": "code",
   "execution_count": 118,
   "metadata": {
    "cellId": "vno30ax9udhnn1leoed2md",
    "id": "ThQj4uOx8S4P"
   },
   "outputs": [
    {
     "name": "stderr",
     "output_type": "stream",
     "text": [
      "  0%|          | 0/2 [00:00<?, ?it/s]"
     ]
    },
    {
     "data": {
      "application/vnd.jupyter.widget-view+json": {
       "model_id": "b67c8c4de1d7444895d999e7fcfd7a7c",
       "version_major": 2,
       "version_minor": 0
      },
      "text/plain": [
       "HBox(children=(HTML(value=''), FloatProgress(value=0.0, max=1053.0), HTML(value='')))"
      ]
     },
     "metadata": {},
     "output_type": "display_data"
    },
    {
     "name": "stderr",
     "output_type": "stream",
     "text": [
      " 50%|█████     | 1/2 [03:00<03:00, 180.79s/it]"
     ]
    },
    {
     "name": "stdout",
     "output_type": "stream",
     "text": [
      "\n"
     ]
    },
    {
     "data": {
      "application/vnd.jupyter.widget-view+json": {
       "model_id": "1abb5a5c01e04a408b26e5557917a17d",
       "version_major": 2,
       "version_minor": 0
      },
      "text/plain": [
       "HBox(children=(HTML(value=''), FloatProgress(value=0.0, max=1053.0), HTML(value='')))"
      ]
     },
     "metadata": {},
     "output_type": "display_data"
    },
    {
     "name": "stderr",
     "output_type": "stream",
     "text": [
      "100%|██████████| 2/2 [06:02<00:00, 181.06s/it]"
     ]
    },
    {
     "name": "stdout",
     "output_type": "stream",
     "text": [
      "\n",
      "Last loss: 0.9346079230308533\n"
     ]
    },
    {
     "name": "stderr",
     "output_type": "stream",
     "text": [
      "\n"
     ]
    }
   ],
   "source": [
    "#!g1.1\n",
    "device = \"cuda\" if torch.cuda.is_available() else \"cpu\"\n",
    "BATCH_SIZE = 256\n",
    "SEQ_LEN = 15\n",
    "encoder = EncoderRNN(vocab_size=len(eng2idx), hidden_size=256, emb_size=256)\n",
    "decoder = DecoderRNN(vocab_size=len(rus2idx), hidden_size=256, emb_size=256)\n",
    "\n",
    "opt = torch.optim.Adam(list(encoder.parameters()) + list(decoder.parameters()), lr=5e-3)\n",
    "trainloader = DataLoader(trainset, batch_size=BATCH_SIZE, shuffle=True, collate_fn=CollateFnEngRus(SEQ_LEN))\n",
    "valloader = DataLoader(valset, batch_size=BATCH_SIZE, shuffle=False, collate_fn=CollateFnEngRus(SEQ_LEN))\n",
    "model = (encoder, decoder)\n",
    "\n",
    "\n",
    "logs = train_test_model(model, opt, trainloader, valloader, epoches_cnt=2)"
   ]
  },
  {
   "cell_type": "code",
   "execution_count": 121,
   "metadata": {
    "cellId": "b04aht2byloq2md6rlrjuo"
   },
   "outputs": [
    {
     "data": {
      "image/png": "[encoded data removed]",
      "text/plain": [
       "<Figure size 432x288 with 1 Axes>"
      ]
     },
     "metadata": {
      "needs_background": "light"
     },
     "output_type": "display_data"
    },
    {
     "data": {
      "image/png": "[encoded data removed]",
      "text/plain": [
       "<Figure size 432x288 with 1 Axes>"
      ]
     },
     "metadata": {
      "needs_background": "light"
     },
     "output_type": "display_data"
    }
   ],
   "source": [
    "#!g1.1\n",
    "plot_logs(logs)"
   ]
  },
  {
   "cell_type": "code",
   "execution_count": 139,
   "metadata": {
    "cellId": "d437c9g7k4k1tstq78965e"
   },
   "outputs": [
    {
     "name": "stdout",
     "output_type": "stream",
     "text": [
      "Source:  SOS do you miss your friends UNK ? EOS PAD PAD PAD PAD PAD PAD\n",
      "Actual: SOS вы скучаете по своим друзьям UNK ? EOS PAD PAD PAD PAD PAD PAD\n",
      "Predicted: SOS скучаешь по подругами UNK ? EOS UNK ? EOS UNK ? EOS UNK ? EOS\n",
      "+-+-+-+-+-+-+-+-+-+-+-+-+-+-+-+-+-+-\n",
      "Source:  SOS tom is still too young to understand that UNK . EOS PAD PAD PAD\n",
      "Actual: SOS том еще слишком мал, чтобы это понять UNK . EOS PAD PAD PAD PAD\n",
      "Predicted: SOS том все еще слишком молод, чтобы получать это UNK . EOS UNK . EOS UNK\n",
      "+-+-+-+-+-+-+-+-+-+-+-+-+-+-+-+-+-+-\n",
      "Source:  SOS forgive me if i have offended you UNK . EOS PAD PAD PAD PAD\n",
      "Actual: SOS простите, если обидел UNK . EOS PAD PAD PAD PAD PAD PAD PAD PAD\n",
      "Predicted: SOS прости, что я тебя беспокоюсь UNK . EOS UNK . EOS UNK . EOS UNK\n",
      "+-+-+-+-+-+-+-+-+-+-+-+-+-+-+-+-+-+-\n",
      "Source:  SOS i don t want to see anyone today UNK . EOS PAD PAD PAD\n",
      "Actual: SOS я не хочу сегодня никого видеть UNK . EOS PAD PAD PAD PAD PAD\n",
      "Predicted: SOS я не хочу сегодня кто нибудь увидеть UNK . EOS UNK . EOS UNK .\n",
      "+-+-+-+-+-+-+-+-+-+-+-+-+-+-+-+-+-+-\n"
     ]
    }
   ],
   "source": [
    "#!g1.1\n",
    "valloader2 = DataLoader(valset, batch_size=4, shuffle=True, collate_fn=CollateFnEngRus(SEQ_LEN))\n",
    "\n",
    "encoder.eval()\n",
    "decoder.eval()\n",
    "model = (encoder, decoder)\n",
    "with torch.no_grad():\n",
    "    for batch in valloader2:\n",
    "        y_true = batch['rus']\n",
    "        y_pred, _ = predict(model, batch['eng'].to(device=device), batch_size = batch['eng'].shape[0], max_len=SEQ_LEN)\n",
    "\n",
    "        for i in range(4):\n",
    "            print('Source: ', idx2sentence(batch['eng'][i].detach().cpu().numpy(), idx2eng))\n",
    "            print('Actual:', idx2sentence(batch['rus'][i].detach().cpu().numpy(), idx2rus))\n",
    "            print('Predicted:', idx2sentence(y_pred[i], idx2rus))\n",
    "            print('+-+-+-+-+-+-+-+-+-+-+-+-+-+-+-+-+-+-')\n",
    "        break"
   ]
  },
  {
   "cell_type": "markdown",
   "metadata": {
    "cellId": "4hikhhqjgzmgspaaigj846",
    "execution_id": "71f611b3-35b0-4b7b-9421-956c5416b613"
   },
   "source": [
    "Мы сильно улучшили bleu и на глаз получили достаточно качественный перевод!"
   ]
  },
  {
   "cell_type": "markdown",
   "metadata": {
    "cellId": "svsyfggc3pxyfyp2cupj",
    "execution_id": "a282a115-cfd8-4b2c-9c27-96476019ab45",
    "id": "R8G9EoojGDdJ"
   },
   "source": [
    "**(2 points)** Write a translation function with sampling from a distribution with temperature."
   ]
  },
  {
   "cell_type": "markdown",
   "metadata": {
    "cellId": "zu5phhsw60kwiaxjwe50yg",
    "execution_id": "49fa401c-4bdd-461e-b12f-dd226b1477a5"
   },
   "source": [
    "Хорошие модели машинного перевода (и языковые модели) должны обладать двумя свойствами: conherancy и diversity.\n",
    "conherancy - сгенерированный текст должен иметь смысл. diversity - модель должна генерировать различные сэмплы. \n",
    "\n",
    "Добиться этого можно с помощью выбора не argmax логита, а выбрать случайный логит с взвешенными вероятностями. Однако у нас вполне может быть так, что один логит может быть сильно выше других, и поэтому он будет выбираться намного чаще других. Чтобы это исправить, делают сэмплинг с *температурой*, т.е делят логиты на какой-то гиперпараметр. Чем ниже температура, тем больше будет разница между максимальным логитом и оставшимися. Тем самым мы максимизируем критерий conherancy, но минимизируем diversity. Чем выше температура - тем более равномерными будут логиты. Теперь уже мы максимизируем diversity, но уменьшаем conherancy. В случае сэмплинга с температурой важно подобрать температуру так, чтобы соблюдался баланс этих двух критериев "
   ]
  },
  {
   "cell_type": "code",
   "execution_count": 175,
   "metadata": {
    "cellId": "b6sptr8j37rpraep1akqhh",
    "id": "64h3_w528S4d"
   },
   "outputs": [
    {
     "name": "stdout",
     "output_type": "stream",
     "text": [
      "[1, 23, 14, 63, 46, 9, 2]\n",
      "What is going on?\n",
      "SOS что происходит UNK ? EOS UNK ? EOS UNK ? EOS UNK ? EOS UNK\n",
      "SOS что происходит UNK ? EOS EOS UNK ? EOS UNK ? EOS UNK ? EOS\n",
      "SOS что происходит UNK ? EOS UNK ? EOS UNK ? EOS UNK ? EOS UNK\n",
      "SOS чем сеичас UNK ? EOS UNK ? EOS UNK ? EOS UNK ? EOS UNK\n",
      "SOS что будет потом UNK ? EOS UNK ? EOS UNK ? EOS UNK . EOS\n",
      "SOS что происходит UNK ? EOS UNK ? EOS UNK ? EOS UNK ? EOS EOS\n",
      "SOS что происходит UNK ? EOS UNK ? EOS UNK ? EOS UNK ? EOS ко\n",
      "SOS что будет продолжаться UNK ? EOS UNK ? EOS UNK ? EOS EOS UNK ?\n",
      "SOS что будете на UNK UNK ? EOS UNK ? EOS UNK ? EOS UNK ?\n",
      "SOS что происходит UNK ? EOS UNK ? EOS UNK ? EOS UNK ? EOS UNK\n"
     ]
    }
   ],
   "source": [
    "#!g1.1\n",
    "encoder.eval()\n",
    "decoder.eval()\n",
    "encoder = encoder.to(\"cpu\")\n",
    "decoder = decoder.to(\"cpu\")\n",
    "\n",
    "def evaluate(sentence, T=1.0):\n",
    "    encoded = sentence2idx(sentence, eng2idx)\n",
    "    output = []\n",
    "    print(encoded)\n",
    "    print(sentence)\n",
    "    bs = 10\n",
    "    with torch.no_grad():\n",
    "      \n",
    "        z = torch.LongTensor(encoded).view(1, -1).repeat(bs, 1)\n",
    "        \n",
    "        def decode_inference(initial_state, batch_size, max_len):\n",
    "            batch_size = len(initial_state[0])\n",
    "            state = initial_state\n",
    "\n",
    "            # We generate SOS at first\n",
    "            outputs = [torch.full([batch_size], rus2idx['SOS'], dtype=torch.int64, \n",
    "                                  device='cpu')]\n",
    "            all_states = [initial_state]\n",
    "\n",
    "            for i in range(max_len):\n",
    "                state, logits = decoder.decode_step(state, outputs[-1])\n",
    "                logits = nn.Softmax(dim=-1)(logits / T)\n",
    "                logits_np = logits.detach().cpu().numpy()\n",
    "                logits = torch.full([batch_size], 0)\n",
    "                \n",
    "                for j in range(batch_size):\n",
    "                    probs = logits_np[j]\n",
    "                    idx = np.random.choice(len(probs), p=probs)\n",
    "                    logits[j] = idx\n",
    "                    \n",
    "                outputs.append(logits)\n",
    "                all_states.append(state)\n",
    "\n",
    "            return torch.stack(outputs, dim=1), all_states\n",
    "\n",
    "        hid = encoder.init_hidden(batch_size=bs).to(device='cpu')\n",
    "        initial_state = encoder(z, hid)\n",
    "        out_ids, states = decode_inference(initial_state, bs, 15)\n",
    "        output = out_ids.cpu().numpy()\n",
    "        \n",
    "        for s in output:\n",
    "            out = idx2sentence(s, idx2rus)\n",
    "            print(out.replace('PAD', \"\"))\n",
    "        \n",
    "\n",
    "    \n",
    "evaluate(\"What is going on?\", T = 1.0)"
   ]
  },
  {
   "cell_type": "markdown",
   "metadata": {
    "cellId": "se6kfd5dn1ijt60i3emas",
    "execution_id": "091e91c1-9798-4b33-9ca6-ebe3830f8434"
   },
   "source": [
    "Как видим при маленькой температуре мы получаем строго одно и то же"
   ]
  },
  {
   "cell_type": "code",
   "execution_count": 178,
   "metadata": {
    "cellId": "0hih5ffzyropi8gk0vgiw"
   },
   "outputs": [
    {
     "name": "stdout",
     "output_type": "stream",
     "text": [
      "[1, 23, 14, 63, 46, 9, 2]\n",
      "What is going on?\n",
      "SOS что происходит UNK ? EOS UNK ? EOS UNK ? EOS UNK ? EOS UNK\n",
      "SOS что происходит UNK ? EOS UNK ? EOS UNK ? EOS UNK ? EOS UNK\n",
      "SOS что происходит UNK ? EOS UNK ? EOS UNK ? EOS UNK ? EOS UNK\n",
      "SOS что происходит UNK ? EOS UNK ? EOS UNK ? EOS UNK ? EOS UNK\n",
      "SOS что происходит UNK ? EOS UNK ? EOS UNK ? EOS UNK ? EOS UNK\n",
      "SOS что происходит UNK ? EOS UNK ? EOS UNK ? EOS UNK ? EOS UNK\n",
      "SOS что происходит UNK ? EOS UNK ? EOS UNK ? EOS UNK ? EOS UNK\n",
      "SOS что происходит UNK ? EOS UNK ? EOS UNK ? EOS UNK ? EOS UNK\n",
      "SOS что происходит UNK ? EOS UNK ? EOS UNK ? EOS UNK ? EOS UNK\n",
      "SOS что происходит UNK ? EOS UNK ? EOS UNK ? EOS UNK ? EOS UNK\n"
     ]
    }
   ],
   "source": [
    "#!g1.1\n",
    "evaluate(\"What is going on?\", T = 0.5)"
   ]
  },
  {
   "cell_type": "markdown",
   "metadata": {
    "cellId": "dtzq6m3bcm47eekyc3als",
    "execution_id": "73e50c28-562e-45b0-a622-05917663c544"
   },
   "source": [
    "При большой температура - разнообразные сэмплы"
   ]
  },
  {
   "cell_type": "code",
   "execution_count": 179,
   "metadata": {
    "cellId": "ul4zb485mtplj2cda1c7p"
   },
   "outputs": [
    {
     "name": "stdout",
     "output_type": "stream",
     "text": [
      "[1, 23, 14, 63, 46, 9, 2]\n",
      "What is going on?\n",
      "SOS что происходит UNK ? EOS том UNK ? EOS EOS EOS UNK ? UNK ?\n",
      "SOS что происходит UNK ? EOS UNK ? EOS UNK ? EOS вздохнул UNK ? EOS\n",
      "SOS что ходить у вас UNK ? EOS UNK ? EOS UNK ? EOS UNK ?\n",
      "SOS что вы собираетесь преступник UNK ? EOS моя UNK ? EOS дурак UNK ? EOS\n",
      "SOS почему насчет тома UNK ? EOS преступник UNK ? EOS UNK ? EOS EOS UNK\n",
      "SOS что происходит в одиночку UNK ? EOS UNK ? EOS UNK ? EOS отменить UNK\n",
      "SOS что происходит UNK ? EOS UNK ? EOS UNK ? EOS EOS UNK ? EOS\n",
      "SOS какои еду поидете UNK ? EOS UNK ? EOS UNK ? EOS UNK ? EOS\n",
      "SOS что том тут UNK UNK ? EOS полотенце EOS EOS UNK ? EOS UNK ?\n",
      "SOS что происходит UNK ? EOS UNK ? в EOS зоопарке UNK ? EOS UNK ?\n"
     ]
    }
   ],
   "source": [
    "#!g1.1\n",
    "evaluate(\"What is going on?\", T = 1.5)"
   ]
  }
 ],
 "metadata": {
  "accelerator": "GPU",
  "colab": {
   "provenance": []
  },
  "language_info": {
   "codemirror_mode": {
    "name": "ipython",
    "version": 3
   },
   "file_extension": ".py",
   "mimetype": "text/x-python",
   "name": "python",
   "nbconvert_exporter": "python",
   "pygments_lexer": "ipython3",
   "version": "3.7.7"
  },
  "notebookId": "1c3a9360-9afe-45df-a90b-007ca84f4520",
  "notebookPath": "oganyan_hw1.ipynb"
 },
 "nbformat": 4,
 "nbformat_minor": 4
}
