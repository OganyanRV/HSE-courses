{
  "cells": [
    {
      "cell_type": "code",
      "execution_count": 1,
      "metadata": {
        "id": "4Uhxu3NceLcd"
      },
      "outputs": [],
      "source": [
        "import matplotlib.pyplot as plt\n",
        "import numpy as np\n",
        "import torch\n",
        "import torch.nn.functional as F\n",
        "import torchvision\n",
        "from sklearn.datasets import load_boston\n",
        "from torch import nn\n",
        "from tqdm.notebook import tqdm\n",
        "\n",
        "%matplotlib inline"
      ]
    },
    {
      "cell_type": "code",
      "execution_count": 2,
      "metadata": {
        "colab": {
          "base_uri": "https://localhost:8080/"
        },
        "id": "M-keLL4jeLcd",
        "outputId": "329b74dd-261d-4f5f-b968-4f2da6fa0d26"
      },
      "outputs": [
        {
          "output_type": "execute_result",
          "data": {
            "text/plain": [
              "array([[0.88560257, 0.40451952, 0.13194191],\n",
              "       [0.00638475, 0.95152376, 0.76480699],\n",
              "       [0.31769882, 0.36239585, 0.42777813],\n",
              "       [0.50844341, 0.77669436, 0.9605783 ],\n",
              "       [0.90714509, 0.3266727 , 0.45707276]])"
            ]
          },
          "metadata": {},
          "execution_count": 2
        }
      ],
      "source": [
        "a = np.random.rand(5, 3)\n",
        "a"
      ]
    },
    {
      "cell_type": "code",
      "execution_count": 3,
      "metadata": {
        "colab": {
          "base_uri": "https://localhost:8080/"
        },
        "id": "9SBpfMdneLce",
        "outputId": "0fbc4fd7-b774-416a-cd11-5d63a26da921"
      },
      "outputs": [
        {
          "output_type": "stream",
          "name": "stdout",
          "text": [
            "Shape: (5, 3)\n"
          ]
        }
      ],
      "source": [
        "print(f\"Shape: {a.shape}\")"
      ]
    },
    {
      "cell_type": "code",
      "execution_count": 4,
      "metadata": {
        "colab": {
          "base_uri": "https://localhost:8080/"
        },
        "id": "OQyG3NY-eLce",
        "outputId": "647d001d-a687-40f5-94de-722c8b64f547"
      },
      "outputs": [
        {
          "output_type": "stream",
          "name": "stdout",
          "text": [
            "Added 5:\n",
            "[[5.88560257 5.40451952 5.13194191]\n",
            " [5.00638475 5.95152376 5.76480699]\n",
            " [5.31769882 5.36239585 5.42777813]\n",
            " [5.50844341 5.77669436 5.9605783 ]\n",
            " [5.90714509 5.3266727  5.45707276]]\n"
          ]
        }
      ],
      "source": [
        "print(f\"Added 5:\\n{a + 5}\")"
      ]
    },
    {
      "cell_type": "code",
      "execution_count": 5,
      "metadata": {
        "colab": {
          "base_uri": "https://localhost:8080/"
        },
        "id": "5vAK1UvpeLce",
        "outputId": "876b7bb0-b840-46c5-a665-bf389d0bc746"
      },
      "outputs": [
        {
          "output_type": "stream",
          "name": "stdout",
          "text": [
            "Finded product X X^T:\n",
            "[[0.96533663 0.49147438 0.48439295 0.89120735 0.99582256]\n",
            " [0.49147438 1.49036795 0.6740244  1.47694641 0.66620117]\n",
            " [0.48439295 0.6740244  0.41525743 0.85391708 0.60210949]\n",
            " [0.89120735 1.47694641 0.85391708 1.78447948 1.15401096]\n",
            " [0.99582256 0.66620117 0.60210949 1.15401096 1.13854278]]\n"
          ]
        }
      ],
      "source": [
        "print(f\"Finded product X X^T:\\n{a @ a.T}\")"
      ]
    },
    {
      "cell_type": "code",
      "execution_count": 6,
      "metadata": {
        "colab": {
          "base_uri": "https://localhost:8080/"
        },
        "id": "RcasKPlaeLcf",
        "outputId": "a4eba043-5a5d-4fcc-8290-48358d0caa91"
      },
      "outputs": [
        {
          "output_type": "stream",
          "name": "stdout",
          "text": [
            "Mean by columns:\n",
            "[0.47402133 0.5742385  0.36929094 0.74857202 0.56363018]\n"
          ]
        }
      ],
      "source": [
        "print(f\"Mean by columns:\\n{a.mean(axis=-1)}\")"
      ]
    },
    {
      "cell_type": "code",
      "execution_count": 7,
      "metadata": {
        "colab": {
          "base_uri": "https://localhost:8080/"
        },
        "id": "LZVXQD5DeLcf",
        "outputId": "f5c013a3-8515-4171-f7a4-8234b4e8edf2"
      },
      "outputs": [
        {
          "output_type": "stream",
          "name": "stdout",
          "text": [
            "Changed shape: (3, 5)\n"
          ]
        }
      ],
      "source": [
        "print(f\"Changed shape: {a.reshape(3, 5).shape}\")"
      ]
    },
    {
      "cell_type": "code",
      "execution_count": 8,
      "metadata": {
        "id": "pnBaiPU5eLcf"
      },
      "outputs": [],
      "source": [
        "# YOUR CODE"
      ]
    },
    {
      "cell_type": "code",
      "execution_count": 9,
      "metadata": {
        "colab": {
          "base_uri": "https://localhost:8080/"
        },
        "id": "fOWyUaHOeLcg",
        "outputId": "a3684a52-fc17-4efa-bba2-86d1f49ee98a"
      },
      "outputs": [
        {
          "output_type": "execute_result",
          "data": {
            "text/plain": [
              "tensor([[0.1393, 0.9413, 0.4972],\n",
              "        [0.2717, 0.5055, 0.1911],\n",
              "        [0.8036, 0.3605, 0.6043],\n",
              "        [0.6790, 0.3459, 0.5090],\n",
              "        [0.2798, 0.6166, 0.0052]])"
            ]
          },
          "metadata": {},
          "execution_count": 9
        }
      ],
      "source": [
        "x = torch.rand(5, 3)\n",
        "x"
      ]
    },
    {
      "cell_type": "code",
      "execution_count": 10,
      "metadata": {
        "colab": {
          "base_uri": "https://localhost:8080/"
        },
        "id": "9zTcrlJveLcg",
        "outputId": "7d3b6fec-b503-4652-aa86-6424e0121a62"
      },
      "outputs": [
        {
          "output_type": "stream",
          "name": "stdout",
          "text": [
            "Shape: torch.Size([5, 3])\n"
          ]
        }
      ],
      "source": [
        "print(f\"Shape: {x.shape}\")"
      ]
    },
    {
      "cell_type": "code",
      "execution_count": 11,
      "metadata": {
        "colab": {
          "base_uri": "https://localhost:8080/"
        },
        "id": "dbo2oFBGeLcg",
        "outputId": "af04ca00-ebb7-4255-a5e1-e6d0131e3a07"
      },
      "outputs": [
        {
          "output_type": "stream",
          "name": "stdout",
          "text": [
            "Added 5:\n",
            "tensor([[5.1393, 5.9413, 5.4972],\n",
            "        [5.2717, 5.5055, 5.1911],\n",
            "        [5.8036, 5.3605, 5.6043],\n",
            "        [5.6790, 5.3459, 5.5090],\n",
            "        [5.2798, 5.6166, 5.0052]])\n"
          ]
        }
      ],
      "source": [
        "print(f\"Added 5:\\n{x + 5}\")"
      ]
    },
    {
      "cell_type": "code",
      "execution_count": 12,
      "metadata": {
        "colab": {
          "base_uri": "https://localhost:8080/"
        },
        "id": "f1y0U-F6eLcg",
        "outputId": "ea5b5e19-d55b-408c-c259-61c315ae9c40"
      },
      "outputs": [
        {
          "output_type": "stream",
          "name": "stdout",
          "text": [
            "X X^T  (1):\n",
            "tensor([[1.1527, 0.6087, 0.7518, 0.6732, 0.6220],\n",
            "        [0.6087, 0.3659, 0.5161, 0.4566, 0.3887],\n",
            "        [0.7518, 0.5161, 1.1409, 0.9779, 0.4503],\n",
            "        [0.6732, 0.4566, 0.9779, 0.8398, 0.4059],\n",
            "        [0.6220, 0.3887, 0.4503, 0.4059, 0.4585]])\n",
            "\n",
            "X X^T  (2):\n",
            "tensor([[1.1527, 0.6087, 0.7518, 0.6732, 0.6220],\n",
            "        [0.6087, 0.3659, 0.5161, 0.4566, 0.3887],\n",
            "        [0.7518, 0.5161, 1.1409, 0.9779, 0.4503],\n",
            "        [0.6732, 0.4566, 0.9779, 0.8398, 0.4059],\n",
            "        [0.6220, 0.3887, 0.4503, 0.4059, 0.4585]])\n"
          ]
        }
      ],
      "source": [
        "print(f\"X X^T  (1):\\n{torch.matmul(x, x.transpose(1, 0))}\\n\")\n",
        "print(f\"X X^T  (2):\\n{x.mm(x.t())}\")"
      ]
    },
    {
      "cell_type": "code",
      "execution_count": 13,
      "metadata": {
        "colab": {
          "base_uri": "https://localhost:8080/"
        },
        "id": "-_5lXNGAeLcg",
        "outputId": "aabd2411-c33b-46c0-938a-a4e37b68126a"
      },
      "outputs": [
        {
          "output_type": "stream",
          "name": "stdout",
          "text": [
            "Mean by colunms:\n",
            "tensor([0.5260, 0.3228, 0.5895, 0.5113, 0.3005])\n"
          ]
        }
      ],
      "source": [
        "print(f\"Mean by colunms:\\n{x.mean(dim=-1)}\")"
      ]
    },
    {
      "cell_type": "code",
      "execution_count": 14,
      "metadata": {
        "colab": {
          "base_uri": "https://localhost:8080/"
        },
        "id": "cBjLAgIHeLch",
        "outputId": "9a7f5902-7b51-4d98-b498-3cc0ea9ac4a6"
      },
      "outputs": [
        {
          "output_type": "stream",
          "name": "stdout",
          "text": [
            "Changed shape:\n",
            "torch.Size([3, 5])\n",
            "\n",
            "Another way:\n",
            "torch.Size([3, 5])\n",
            "\n",
            "No transposition\n",
            "tensor([[ True, False, False, False, False],\n",
            "        [False, False,  True, False, False],\n",
            "        [False, False, False, False,  True]])\n"
          ]
        }
      ],
      "source": [
        "print(f\"Changed shape:\\n{x.view([3, 5]).shape}\\n\")\n",
        "\n",
        "print(f\"Another way:\\n{x.view_as(x.t()).shape}\\n\")\n",
        "print(f\"No transposition\\n{x.view_as(x.t()) == x.t()}\")"
      ]
    },
    {
      "cell_type": "markdown",
      "metadata": {
        "id": "1FotJ1-ieLch"
      },
      "source": [
        "\n",
        "* `x.reshape([1,2,8]) -> x.view(1,2,8)`\n",
        "\n",
        "* `x.sum(axis=-1) -> x.sum(dim=-1)`\n",
        "\n",
        "* `x.astype(\"int64\") -> x.type(torch.LongTensor)`\n",
        "\n",
        "(https://github.com/torch/torch7/wiki/Torch-for-Numpy-users)\n"
      ]
    },
    {
      "cell_type": "code",
      "execution_count": 15,
      "metadata": {
        "id": "7IYVv_WpeLch"
      },
      "outputs": [],
      "source": [
        "# YOUR CODE"
      ]
    },
    {
      "cell_type": "code",
      "execution_count": 16,
      "metadata": {
        "colab": {
          "base_uri": "https://localhost:8080/"
        },
        "id": "Ob9Mm7ApeLci",
        "outputId": "be4064f5-144a-46ab-eb4c-1db4e9a0f10c"
      },
      "outputs": [
        {
          "output_type": "stream",
          "name": "stdout",
          "text": [
            "tensor([[1.7353e-34, 0.0000e+00, 3.3631e-44],\n",
            "        [0.0000e+00,        nan, 2.3694e-38],\n",
            "        [1.1578e+27, 1.1362e+30, 7.1547e+22],\n",
            "        [4.5828e+30, 1.2121e+04, 7.1846e+22],\n",
            "        [9.2198e-39, 7.0374e+22, 5.0051e+00]])\n"
          ]
        }
      ],
      "source": [
        "x = torch.empty(5, 3) \n",
        "print(x)"
      ]
    },
    {
      "cell_type": "code",
      "execution_count": 17,
      "metadata": {
        "colab": {
          "base_uri": "https://localhost:8080/"
        },
        "id": "ZbMfyvVeeLci",
        "outputId": "a72b501e-d65d-45db-b344-f881011fee35"
      },
      "outputs": [
        {
          "output_type": "stream",
          "name": "stdout",
          "text": [
            "tensor([[0.8256, 0.8685, 0.5647],\n",
            "        [0.2041, 0.1273, 0.1139],\n",
            "        [0.7908, 0.6152, 0.6293],\n",
            "        [0.8263, 0.4002, 0.3936],\n",
            "        [0.6309, 0.4515, 0.1335]])\n"
          ]
        }
      ],
      "source": [
        "x = torch.rand(5, 3) \n",
        "print(x)"
      ]
    },
    {
      "cell_type": "code",
      "execution_count": 18,
      "metadata": {
        "colab": {
          "base_uri": "https://localhost:8080/"
        },
        "id": "IF4fQV8QeLci",
        "outputId": "2c289ac5-1767-4f2a-fb7c-7f5933ab373e"
      },
      "outputs": [
        {
          "output_type": "stream",
          "name": "stdout",
          "text": [
            "tensor([[0., 0., 0.],\n",
            "        [0., 0., 0.],\n",
            "        [0., 0., 0.],\n",
            "        [0., 0., 0.],\n",
            "        [0., 0., 0.]])\n"
          ]
        }
      ],
      "source": [
        "x = torch.zeros(5, 3, dtype=torch.float32)  \n",
        "print(x)"
      ]
    },
    {
      "cell_type": "code",
      "execution_count": 19,
      "metadata": {
        "colab": {
          "base_uri": "https://localhost:8080/"
        },
        "id": "juWU0LreeLci",
        "outputId": "ade7c673-e484-455a-82df-87ec3793014e"
      },
      "outputs": [
        {
          "output_type": "stream",
          "name": "stdout",
          "text": [
            "tensor([5.5000, 3.0000])\n"
          ]
        }
      ],
      "source": [
        "x = torch.tensor([5.5, 3]) \n",
        "print(x)"
      ]
    },
    {
      "cell_type": "code",
      "execution_count": 20,
      "metadata": {
        "colab": {
          "base_uri": "https://localhost:8080/"
        },
        "id": "QzotBxZqeLci",
        "outputId": "7f497362-dbc4-4064-e302-c8a2f0f08725"
      },
      "outputs": [
        {
          "output_type": "stream",
          "name": "stdout",
          "text": [
            "tensor([5.5000, 3.0000]) torch.Size([2])\n"
          ]
        }
      ],
      "source": [
        "x1 = x.new_ones(5, 3, dtype=torch.double)  \n",
        "print(x, x.size()) "
      ]
    },
    {
      "cell_type": "code",
      "execution_count": 21,
      "metadata": {
        "colab": {
          "base_uri": "https://localhost:8080/"
        },
        "id": "NSvuLkV9eLci",
        "outputId": "b4abd641-429d-46d7-babe-8c813d431355"
      },
      "outputs": [
        {
          "output_type": "stream",
          "name": "stdout",
          "text": [
            "tensor([[-0.4706, -0.3280,  0.2464],\n",
            "        [-1.9547,  0.1779, -0.6221],\n",
            "        [ 0.7516,  1.5982, -2.3415],\n",
            "        [ 0.9505,  0.3286, -0.0711],\n",
            "        [ 0.0040,  1.6222, -1.8017]]) torch.Size([5, 3])\n"
          ]
        }
      ],
      "source": [
        "x = torch.randn_like(x1, dtype=torch.float) \n",
        "print(x, x.size())"
      ]
    },
    {
      "cell_type": "code",
      "execution_count": 22,
      "metadata": {
        "colab": {
          "base_uri": "https://localhost:8080/"
        },
        "id": "18--R0pMeLcj",
        "outputId": "4c1c6bcd-559a-41ec-fa47-9035fef8377b"
      },
      "outputs": [
        {
          "output_type": "stream",
          "name": "stdout",
          "text": [
            "tensor([[-0.3595,  0.3146,  0.8301],\n",
            "        [-1.7262,  0.6563, -0.3932],\n",
            "        [ 1.4970,  2.2085, -2.2362],\n",
            "        [ 1.3616,  0.8542, -0.0038],\n",
            "        [ 0.0849,  2.2504, -0.9615]])\n"
          ]
        }
      ],
      "source": [
        "y = torch.rand(5, 3)\n",
        "print(x + y) "
      ]
    },
    {
      "cell_type": "code",
      "execution_count": 23,
      "metadata": {
        "colab": {
          "base_uri": "https://localhost:8080/"
        },
        "id": "vE0FQLM4eLcj",
        "outputId": "114f4920-4731-4d53-d7c6-fbc762b0f5c4"
      },
      "outputs": [
        {
          "output_type": "stream",
          "name": "stdout",
          "text": [
            "tensor([[-0.3595,  0.3146,  0.8301],\n",
            "        [-1.7262,  0.6563, -0.3932],\n",
            "        [ 1.4970,  2.2085, -2.2362],\n",
            "        [ 1.3616,  0.8542, -0.0038],\n",
            "        [ 0.0849,  2.2504, -0.9615]])\n"
          ]
        }
      ],
      "source": [
        "z = torch.add(x, y) \n",
        "print(z)"
      ]
    },
    {
      "cell_type": "code",
      "execution_count": 24,
      "metadata": {
        "colab": {
          "base_uri": "https://localhost:8080/"
        },
        "id": "Fl8bCZIqeLcj",
        "outputId": "79a54faf-1abc-4aef-f868-72115dcb6b80"
      },
      "outputs": [
        {
          "output_type": "stream",
          "name": "stdout",
          "text": [
            "tensor([[-0.3595,  0.3146,  0.8301],\n",
            "        [-1.7262,  0.6563, -0.3932],\n",
            "        [ 1.4970,  2.2085, -2.2362],\n",
            "        [ 1.3616,  0.8542, -0.0038],\n",
            "        [ 0.0849,  2.2504, -0.9615]])\n"
          ]
        }
      ],
      "source": [
        "torch.add(x, y, out=z) \n",
        "print(z)"
      ]
    },
    {
      "cell_type": "code",
      "execution_count": 25,
      "metadata": {
        "colab": {
          "base_uri": "https://localhost:8080/"
        },
        "id": "UeotfkG7eLcj",
        "outputId": "585accf8-c4bb-47df-cc4b-b2291464bd76"
      },
      "outputs": [
        {
          "output_type": "stream",
          "name": "stdout",
          "text": [
            "tensor([[-5.2258e-02, -2.1077e-01,  1.4380e-01],\n",
            "        [-4.4668e-01,  8.5102e-02, -1.4240e-01],\n",
            "        [ 5.6021e-01,  9.7539e-01, -2.4649e-01],\n",
            "        [ 3.9080e-01,  1.7271e-01, -4.7871e-03],\n",
            "        [ 3.2429e-04,  1.0190e+00, -1.5139e+00]])\n"
          ]
        }
      ],
      "source": [
        "print(x * y) "
      ]
    },
    {
      "cell_type": "code",
      "execution_count": 26,
      "metadata": {
        "colab": {
          "base_uri": "https://localhost:8080/"
        },
        "id": "teo7u4FfeLcj",
        "outputId": "0b63875e-ca43-4678-8186-8eda636e94c9"
      },
      "outputs": [
        {
          "output_type": "stream",
          "name": "stdout",
          "text": [
            "tensor([[-0.1192, -0.2081, -0.5250, -0.3493, -0.0371],\n",
            "        [-0.4659, -0.5040, -1.4139, -0.7521, -0.5692],\n",
            "        [-0.2563,  0.4005,  1.2891,  0.9915, -0.9027],\n",
            "        [ 0.2752,  0.3581,  0.9015,  0.5587,  0.2235],\n",
            "        [-0.0088,  0.3647,  0.8034,  0.7331, -0.4946]])\n"
          ]
        }
      ],
      "source": [
        "print(x @ y.t()) "
      ]
    },
    {
      "cell_type": "code",
      "execution_count": 27,
      "metadata": {
        "colab": {
          "base_uri": "https://localhost:8080/"
        },
        "id": "E0jNq7aXeLcj",
        "outputId": "cec783d7-36ab-491d-e22a-10778d8e235e"
      },
      "outputs": [
        {
          "output_type": "stream",
          "name": "stdout",
          "text": [
            "tensor([[-0.1192, -0.2081, -0.5250, -0.3493, -0.0371],\n",
            "        [-0.4659, -0.5040, -1.4139, -0.7521, -0.5692],\n",
            "        [-0.2563,  0.4005,  1.2891,  0.9915, -0.9027],\n",
            "        [ 0.2752,  0.3581,  0.9015,  0.5587,  0.2235],\n",
            "        [-0.0088,  0.3647,  0.8034,  0.7331, -0.4946]])\n"
          ]
        }
      ],
      "source": [
        "print(x.mm(y.t())) "
      ]
    },
    {
      "cell_type": "code",
      "execution_count": 28,
      "metadata": {
        "colab": {
          "base_uri": "https://localhost:8080/"
        },
        "id": "7cJhkw7AeLck",
        "outputId": "8c8adfee-c54a-418d-f0bb-a6228157a4d8"
      },
      "outputs": [
        {
          "output_type": "stream",
          "name": "stdout",
          "text": [
            "torch.Size([1, 5, 3])\n"
          ]
        }
      ],
      "source": [
        "print(x.unsqueeze(0).shape)  "
      ]
    },
    {
      "cell_type": "code",
      "execution_count": 29,
      "metadata": {
        "colab": {
          "base_uri": "https://localhost:8080/"
        },
        "id": "kWurg9n0eLck",
        "outputId": "830adcf2-d119-41fa-f586-e5236e0378d8"
      },
      "outputs": [
        {
          "output_type": "stream",
          "name": "stdout",
          "text": [
            "torch.Size([5, 3])\n"
          ]
        }
      ],
      "source": [
        "print(x.unsqueeze(0).unsqueeze(1).squeeze().shape)  "
      ]
    },
    {
      "cell_type": "code",
      "execution_count": 30,
      "metadata": {
        "colab": {
          "base_uri": "https://localhost:8080/"
        },
        "id": "g1F6NR0beLck",
        "outputId": "e8337c4b-a8c3-4d17-f038-c61fc012d01a"
      },
      "outputs": [
        {
          "output_type": "stream",
          "name": "stdout",
          "text": [
            "True\n",
            "True\n"
          ]
        }
      ],
      "source": [
        "a = np.ones((3, 5))\n",
        "x = torch.ones((3, 5))\n",
        "print(np.allclose(x.numpy(), a))\n",
        "print(np.allclose(x.numpy()[:, 1], a[:, 1]))"
      ]
    },
    {
      "cell_type": "code",
      "execution_count": 31,
      "metadata": {
        "colab": {
          "base_uri": "https://localhost:8080/",
          "height": 910
        },
        "id": "dTM0sG5GeLck",
        "outputId": "c7c9196f-8277-46d5-e809-7f03015543b4"
      },
      "outputs": [
        {
          "output_type": "stream",
          "name": "stderr",
          "text": [
            "/usr/local/lib/python3.7/dist-packages/sklearn/utils/deprecation.py:87: FutureWarning: Function load_boston is deprecated; `load_boston` is deprecated in 1.0 and will be removed in 1.2.\n",
            "\n",
            "    The Boston housing prices dataset has an ethical problem. You can refer to\n",
            "    the documentation of this function for further details.\n",
            "\n",
            "    The scikit-learn maintainers therefore strongly discourage the use of this\n",
            "    dataset unless the purpose of the code is to study and educate about\n",
            "    ethical issues in data science and machine learning.\n",
            "\n",
            "    In this special case, you can fetch the dataset from the original\n",
            "    source::\n",
            "\n",
            "        import pandas as pd\n",
            "        import numpy as np\n",
            "\n",
            "\n",
            "        data_url = \"http://lib.stat.cmu.edu/datasets/boston\"\n",
            "        raw_df = pd.read_csv(data_url, sep=\"\\s+\", skiprows=22, header=None)\n",
            "        data = np.hstack([raw_df.values[::2, :], raw_df.values[1::2, :2]])\n",
            "        target = raw_df.values[1::2, 2]\n",
            "\n",
            "    Alternative datasets include the California housing dataset (i.e.\n",
            "    :func:`~sklearn.datasets.fetch_california_housing`) and the Ames housing\n",
            "    dataset. You can load the datasets as follows::\n",
            "\n",
            "        from sklearn.datasets import fetch_california_housing\n",
            "        housing = fetch_california_housing()\n",
            "\n",
            "    for the California housing dataset and::\n",
            "\n",
            "        from sklearn.datasets import fetch_openml\n",
            "        housing = fetch_openml(name=\"house_prices\", as_frame=True)\n",
            "\n",
            "    for the Ames housing dataset.\n",
            "    \n",
            "  warnings.warn(msg, category=FutureWarning)\n"
          ]
        },
        {
          "output_type": "display_data",
          "data": {
            "text/plain": [
              "<Figure size 432x288 with 1 Axes>"
            ],
            "image/png": "[encoded data removed]"
          },
          "metadata": {
            "needs_background": "light"
          }
        }
      ],
      "source": [
        "boston = load_boston()\n",
        "plt.scatter(boston.data[:, -1], boston.target);"
      ]
    },
    {
      "cell_type": "code",
      "execution_count": 32,
      "metadata": {
        "id": "PExFSozZeLcl"
      },
      "outputs": [],
      "source": [
        "w = torch.rand(1, requires_grad=True)\n",
        "b = torch.rand(1, requires_grad=True)\n",
        "\n",
        "x = torch.tensor(boston.data[:, -1] / boston.data[:, -1].max(), dtype=torch.float32)\n",
        "y = torch.tensor(boston.target, dtype=torch.float32)\n",
        "\n",
        "\n",
        "assert w.grad is None\n",
        "assert b.grad is None"
      ]
    },
    {
      "cell_type": "code",
      "execution_count": 33,
      "metadata": {
        "id": "xLN14B9SeLcl"
      },
      "outputs": [],
      "source": [
        "y_pred = w * x + b                   \n",
        "loss = torch.mean((y_pred - y) ** 2) \n",
        "loss.backward()                       "
      ]
    },
    {
      "cell_type": "code",
      "execution_count": 34,
      "metadata": {
        "colab": {
          "base_uri": "https://localhost:8080/"
        },
        "id": "ZNoidgzQeLcl",
        "outputId": "2f95975c-6ef4-43a4-9e96-98e168bf017d"
      },
      "outputs": [
        {
          "output_type": "stream",
          "name": "stdout",
          "text": [
            "dL/dw = \n",
            " tensor([-12.0718])\n",
            "dL/db = \n",
            " tensor([-44.0346])\n"
          ]
        }
      ],
      "source": [
        "assert w.grad is not None\n",
        "assert b.grad is not None\n",
        "\n",
        "print(\"dL/dw = \\n\", w.grad)\n",
        "print(\"dL/db = \\n\", b.grad)"
      ]
    },
    {
      "cell_type": "code",
      "execution_count": 35,
      "metadata": {
        "colab": {
          "base_uri": "https://localhost:8080/"
        },
        "id": "K-Vi8mHKeLcl",
        "outputId": "c9e2c2ac-62e5-4cee-95de-fd952e693eaa"
      },
      "outputs": [
        {
          "output_type": "execute_result",
          "data": {
            "text/plain": [
              "tensor([0.7851])"
            ]
          },
          "metadata": {},
          "execution_count": 35
        }
      ],
      "source": [
        "w.data"
      ]
    },
    {
      "cell_type": "code",
      "execution_count": 36,
      "metadata": {
        "colab": {
          "base_uri": "https://localhost:8080/",
          "height": 538
        },
        "id": "rfoQcCIteLcl",
        "outputId": "36137f04-77d0-48e9-9362-a205ab2a7035"
      },
      "outputs": [
        {
          "output_type": "display_data",
          "data": {
            "text/plain": [
              "<Figure size 720x576 with 1 Axes>"
            ],
            "image/png": "[encoded data removed]"
          },
          "metadata": {
            "needs_background": "light"
          }
        },
        {
          "output_type": "stream",
          "name": "stdout",
          "text": [
            "loss =  48.480026\n"
          ]
        }
      ],
      "source": [
        "from IPython.display import clear_output\n",
        "\n",
        "for i in range(300):\n",
        "    y_pred = w * x + b\n",
        "    loss = torch.mean((y_pred - y)**2)\n",
        "    loss.backward()\n",
        "\n",
        "    w.data -=  0.05 * # YOUR CODE\n",
        "    b.data -=  0.05 * # YOUR CODE\n",
        "\n",
        "    w.grad.data.zero_()\n",
        "    b.grad.data.zero_()\n",
        "\n",
        "    if (i + 1) % 5 == 0:\n",
        "        clear_output(True)\n",
        "        plt.figure(figsize=(10,8))\n",
        "        plt.scatter(x.data.numpy(), y.data.numpy(), label=\"data\")\n",
        "        plt.scatter(x.data.numpy(), y_pred.data.numpy(),\n",
        "                    color=\"orange\", linewidth=5, label=\"predictions\")\n",
        "        plt.xlabel(\"LSTAT\", fontsize=14)\n",
        "        plt.ylabel(\"MEDV (target)\", fontsize=14)\n",
        "        plt.title(\"Boston modelling\", fontsize=18)\n",
        "        plt.legend(fontsize=14)\n",
        "        plt.show()\n",
        "\n",
        "        print(\"loss = \", loss.data.numpy())\n",
        "        if loss.data.numpy() < 0.1:\n",
        "            print(\"Done!\")\n",
        "            break\n"
      ]
    },
    {
      "cell_type": "markdown",
      "metadata": {
        "id": "MNrPO6-XeLcm"
      },
      "source": [
        "`torch.utils.data.Dataset`.\n",
        "\n",
        "Example:\n",
        "\n",
        "```\n",
        "class FaceLandmarksDataset(torch.utils.data.Dataset):\n",
        "    \"\"\"Face Landmarks dataset.\"\"\"\n",
        "\n",
        "    def __init__(self, csv_file, root_dir, transform=None):\n",
        "        \"\"\"\n",
        "        Args:\n",
        "            csv_file (string): Path to the csv file with annotations.\n",
        "            root_dir (string): Directory with all the images.\n",
        "            transform (callable, optional): Optional transform to be applied\n",
        "                on a sample.\n",
        "        \"\"\"\n",
        "        self.landmarks_frame = pd.read_csv(csv_file)\n",
        "        self.root_dir = root_dir\n",
        "        self.transform = transform\n",
        "\n",
        "    def __len__(self):\n",
        "        return len(self.landmarks_frame)\n",
        "\n",
        "    def __getitem__(self, idx):\n",
        "        if torch.is_tensor(idx):\n",
        "            idx = idx.tolist()\n",
        "\n",
        "        img_name = os.path.join(self.root_dir,\n",
        "                                self.landmarks_frame.iloc[idx, 0])\n",
        "        image = io.imread(img_name)\n",
        "        landmarks = self.landmarks_frame.iloc[idx, 1:]\n",
        "        landmarks = np.array([landmarks])\n",
        "        landmarks = landmarks.astype('float').reshape(-1, 2)\n",
        "        sample = {'image': image, 'landmarks': landmarks}\n",
        "\n",
        "        if self.transform:\n",
        "            sample = self.transform(sample)\n",
        "\n",
        "        return sample\n",
        "```\n"
      ]
    },
    {
      "cell_type": "code",
      "execution_count": 37,
      "metadata": {
        "id": "udSiBnk2eLcm"
      },
      "outputs": [],
      "source": [
        "class RandomDataset(torch.utils.data.Dataset):\n",
        "    \"\"\"\n",
        "    Our random dataset\n",
        "    \"\"\"\n",
        "    def __init__(self, x, y):\n",
        "        self.x = x\n",
        "        self.y = y\n",
        "        \n",
        "    def __len__(self):\n",
        "        return len(self.x)\n",
        "    \n",
        "    def __getitem__(self, idx):\n",
        "        return {\"sample\": torch.tensor(x[idx, :], dtype=torch.float), \"target\": y[idx]}"
      ]
    },
    {
      "cell_type": "code",
      "execution_count": 38,
      "metadata": {
        "id": "Ydp0RoaAeLcm"
      },
      "outputs": [],
      "source": [
        "x = np.random.rand(1000, 5)\n",
        "y = np.random.rand(1000)"
      ]
    },
    {
      "cell_type": "code",
      "execution_count": 39,
      "metadata": {
        "id": "ujw2rkrLeLcm"
      },
      "outputs": [],
      "source": [
        "our_dataset = RandomDataset(x, y)"
      ]
    },
    {
      "cell_type": "code",
      "execution_count": 40,
      "metadata": {
        "colab": {
          "base_uri": "https://localhost:8080/"
        },
        "id": "YKiNME0aeLcm",
        "outputId": "9b826c9c-b0b1-49e7-bc3c-c352a0814a20"
      },
      "outputs": [
        {
          "output_type": "execute_result",
          "data": {
            "text/plain": [
              "{'sample': tensor([0.9767, 0.6406, 0.3816, 0.6690, 0.1215]),\n",
              " 'target': 0.25324353305799463}"
            ]
          },
          "metadata": {},
          "execution_count": 40
        }
      ],
      "source": [
        "our_dataset.__getitem__(1)"
      ]
    },
    {
      "cell_type": "code",
      "execution_count": 41,
      "metadata": {
        "id": "bzF59o-leLcm"
      },
      "outputs": [],
      "source": [
        "dataloader = torch.utils.data.DataLoader(our_dataset, batch_size=4)"
      ]
    },
    {
      "cell_type": "code",
      "execution_count": 42,
      "metadata": {
        "colab": {
          "base_uri": "https://localhost:8080/"
        },
        "id": "Nyn1yTUeeLcm",
        "outputId": "27c3f175-e94a-47bf-ee82-08b25694df82"
      },
      "outputs": [
        {
          "output_type": "stream",
          "name": "stdout",
          "text": [
            "Sample:\n",
            "tensor([[0.1073, 0.3959, 0.2165, 0.4378, 0.1421],\n",
            "        [0.9767, 0.6406, 0.3816, 0.6690, 0.1215],\n",
            "        [0.3001, 0.7771, 0.9639, 0.6298, 0.7899],\n",
            "        [0.1713, 0.6053, 0.2430, 0.5274, 0.3562]])\n",
            "Target:\n",
            "tensor([0.3929, 0.2532, 0.0200, 0.0899], dtype=torch.float64)\n"
          ]
        }
      ],
      "source": [
        "batch = next(iter(dataloader))\n",
        "\n",
        "print(f\"Sample:\\n{batch['sample']}\")\n",
        "print(f\"Target:\\n{batch['target']}\")"
      ]
    },
    {
      "cell_type": "code",
      "execution_count": 43,
      "metadata": {
        "id": "Ql_VPazyeLcn"
      },
      "outputs": [],
      "source": [
        "model = nn.Sequential()                   \n",
        "model.add_module(\"l1\", nn.Linear(5, 10)) \n",
        "model.add_module(\"l2\", nn.ReLU())       \n",
        "model.add_module(\"l3\", nn.Linear(10, 1)) \n",
        "\n",
        "\n",
        "another_model = nn.Sequential(\n",
        "    nn.Linear(5, 10),\n",
        "    nn.ReLU(),\n",
        "    nn.Linear(10, 1)\n",
        ")"
      ]
    },
    {
      "cell_type": "code",
      "execution_count": 44,
      "metadata": {
        "id": "rxLAcmBSeLcn"
      },
      "outputs": [],
      "source": [
        "y_pred = model(batch['sample']) "
      ]
    },
    {
      "cell_type": "code",
      "execution_count": 45,
      "metadata": {
        "id": "0R72pCPzeLcn"
      },
      "outputs": [],
      "source": [
        "mnist_train = torchvision.datasets.MNIST(\n",
        "    \"./mnist/\", \n",
        "    train=True, \n",
        "    download=True, \n",
        "    transform=torchvision.transforms.ToTensor()\n",
        ") \n",
        "mnist_val = torchvision.datasets.MNIST(\n",
        "    \"./mnist/\",\n",
        "    train=False, \n",
        "    download=True,\n",
        "    transform=torchvision.transforms.ToTensor()\n",
        ")\n",
        "\n",
        "train_dataloader = torch.utils.data.DataLoader(\n",
        "    mnist_train, \n",
        "    batch_size=4, \n",
        "    shuffle=True, \n",
        "    num_workers=1\n",
        ") \n",
        "\n",
        "val_dataloader = torch.utils.data.DataLoader(\n",
        "    mnist_val, \n",
        "    batch_size=4, \n",
        "    shuffle=True, \n",
        "    num_workers=1\n",
        ")"
      ]
    },
    {
      "cell_type": "code",
      "execution_count": 46,
      "metadata": {
        "scrolled": true,
        "colab": {
          "base_uri": "https://localhost:8080/",
          "height": 216
        },
        "id": "Yii0j3g4eLcn",
        "outputId": "71d0e44a-c951-4fc6-8a18-30c4ae1152a2"
      },
      "outputs": [
        {
          "output_type": "display_data",
          "data": {
            "text/plain": [
              "<Figure size 432x288 with 2 Axes>"
            ],
            "image/png": "[encoded data removed]"
          },
          "metadata": {
            "needs_background": "light"
          }
        }
      ],
      "source": [
        "for i in [0, 1]:\n",
        "    plt.subplot(1, 2, i + 1)\n",
        "    plt.imshow(mnist_train[i][0].squeeze(0).numpy().reshape([28, 28]))\n",
        "    plt.title(str(mnist_train[i][1]))\n",
        "plt.show()"
      ]
    },
    {
      "cell_type": "code",
      "execution_count": 47,
      "metadata": {
        "id": "OS2RM3B_eLcn"
      },
      "outputs": [],
      "source": [
        "model = nn.Sequential(\n",
        "    nn.Flatten(),             \n",
        "    nn.Linear(28 * 28, 128),  \n",
        "    nn.ReLU(),                \n",
        "    nn.Linear(128, 10),       \n",
        ")\n",
        "\n",
        "\n",
        "optimizer = torch.optim.SGD(model.parameters(), lr=0.05) "
      ]
    },
    {
      "cell_type": "code",
      "execution_count": 48,
      "metadata": {
        "scrolled": false,
        "colab": {
          "base_uri": "https://localhost:8080/"
        },
        "id": "IUXnnS4peLco",
        "outputId": "e9974186-4b9b-4114-b276-e652351f83e3"
      },
      "outputs": [
        {
          "output_type": "execute_result",
          "data": {
            "text/plain": [
              "[('1.weight', Parameter containing:\n",
              "  tensor([[-0.0349,  0.0087,  0.0308,  ..., -0.0300,  0.0071, -0.0055],\n",
              "          [-0.0256,  0.0193, -0.0128,  ..., -0.0291, -0.0322, -0.0100],\n",
              "          [-0.0029,  0.0138, -0.0279,  ..., -0.0015,  0.0144,  0.0091],\n",
              "          ...,\n",
              "          [-0.0202,  0.0011,  0.0298,  ..., -0.0093, -0.0205, -0.0173],\n",
              "          [-0.0029,  0.0205, -0.0159,  ...,  0.0140, -0.0315,  0.0283],\n",
              "          [-0.0357,  0.0314,  0.0292,  ...,  0.0164,  0.0090, -0.0002]],\n",
              "         requires_grad=True)), ('1.bias', Parameter containing:\n",
              "  tensor([-0.0280,  0.0214,  0.0296,  0.0208, -0.0152, -0.0082, -0.0065,  0.0217,\n",
              "           0.0154, -0.0144, -0.0320, -0.0270, -0.0003,  0.0107, -0.0114,  0.0275,\n",
              "           0.0218,  0.0231, -0.0039,  0.0242, -0.0002, -0.0002, -0.0120, -0.0204,\n",
              "          -0.0163, -0.0155, -0.0190, -0.0319, -0.0014, -0.0095, -0.0159,  0.0134,\n",
              "           0.0261, -0.0076,  0.0323, -0.0029, -0.0108, -0.0070,  0.0290, -0.0191,\n",
              "          -0.0194,  0.0060,  0.0177,  0.0317, -0.0287, -0.0030,  0.0175, -0.0115,\n",
              "          -0.0081, -0.0194, -0.0102,  0.0223, -0.0223, -0.0339,  0.0130, -0.0321,\n",
              "          -0.0026, -0.0136,  0.0147, -0.0309, -0.0100, -0.0172, -0.0015, -0.0281,\n",
              "           0.0215,  0.0017, -0.0203,  0.0304, -0.0356,  0.0012, -0.0063,  0.0252,\n",
              "           0.0223, -0.0154,  0.0020, -0.0090, -0.0021, -0.0119, -0.0158,  0.0341,\n",
              "          -0.0117,  0.0088,  0.0071,  0.0304, -0.0181, -0.0310, -0.0120,  0.0187,\n",
              "           0.0175,  0.0316,  0.0304, -0.0164,  0.0141,  0.0155, -0.0038,  0.0348,\n",
              "           0.0005,  0.0187, -0.0089, -0.0132, -0.0131,  0.0269,  0.0033,  0.0184,\n",
              "           0.0107,  0.0178,  0.0085,  0.0050, -0.0210,  0.0105, -0.0192, -0.0202,\n",
              "           0.0026,  0.0193, -0.0164,  0.0116, -0.0099,  0.0137, -0.0063, -0.0166,\n",
              "          -0.0191,  0.0185,  0.0015, -0.0142,  0.0094, -0.0030,  0.0310,  0.0229],\n",
              "         requires_grad=True)), ('3.weight', Parameter containing:\n",
              "  tensor([[-0.0802, -0.0275,  0.0836,  ..., -0.0460,  0.0693,  0.0196],\n",
              "          [-0.0374,  0.0866,  0.0530,  ..., -0.0715,  0.0226,  0.0666],\n",
              "          [-0.0665,  0.0227, -0.0852,  ...,  0.0624, -0.0841,  0.0398],\n",
              "          ...,\n",
              "          [ 0.0098, -0.0697, -0.0301,  ...,  0.0167,  0.0409, -0.0555],\n",
              "          [-0.0087,  0.0747,  0.0410,  ..., -0.0064,  0.0156, -0.0795],\n",
              "          [-0.0438,  0.0050,  0.0143,  ..., -0.0290, -0.0301,  0.0580]],\n",
              "         requires_grad=True)), ('3.bias', Parameter containing:\n",
              "  tensor([-0.0695,  0.0157,  0.0738,  0.0072, -0.0829,  0.0252, -0.0168, -0.0687,\n",
              "          -0.0735, -0.0711], requires_grad=True))]"
            ]
          },
          "metadata": {},
          "execution_count": 48
        }
      ],
      "source": [
        "[x for x in model.named_parameters()] "
      ]
    },
    {
      "cell_type": "code",
      "source": [],
      "metadata": {
        "id": "HQ06sen9Uxow"
      },
      "execution_count": null,
      "outputs": []
    }
  ],
  "metadata": {
    "kernelspec": {
      "display_name": "Python 3",
      "language": "python",
      "name": "python3"
    },
    "language_info": {
      "codemirror_mode": {
        "name": "ipython",
        "version": 3
      },
      "file_extension": ".py",
      "mimetype": "text/x-python",
      "name": "python",
      "nbconvert_exporter": "python",
      "pygments_lexer": "ipython3",
      "version": "3.8.5"
    },
    "colab": {
      "provenance": [],
      "collapsed_sections": []
    }
  },
  "nbformat": 4,
  "nbformat_minor": 0
}