{
  "cells": [
    {
      "cell_type": "markdown",
      "id": "11d5fcb5-7b1b-4a45-9e49-84ee3956ef8e",
      "metadata": {
        "id": "11d5fcb5-7b1b-4a45-9e49-84ee3956ef8e"
      },
      "source": [
        "## Отчет. Группа 3"
      ]
    },
    {
      "cell_type": "code",
      "execution_count": null,
      "id": "baa42f78-4570-43a6-b3e9-0fad09be4a05",
      "metadata": {
        "tags": [],
        "colab": {
          "base_uri": "https://localhost:8080/"
        },
        "id": "baa42f78-4570-43a6-b3e9-0fad09be4a05",
        "outputId": "1b6267d0-e3f3-471a-eb7b-2b58df389a91"
      },
      "outputs": [
        {
          "output_type": "stream",
          "name": "stdout",
          "text": [
            "Looking in indexes: https://pypi.org/simple, https://us-python.pkg.dev/colab-wheels/public/simple/\n",
            "Requirement already satisfied: cvxpy in /usr/local/lib/python3.9/dist-packages (1.3.1)\n",
            "Requirement already satisfied: numdifftools in /usr/local/lib/python3.9/dist-packages (0.9.41)\n",
            "Requirement already satisfied: ecos>=2 in /usr/local/lib/python3.9/dist-packages (from cvxpy) (2.0.12)\n",
            "Requirement already satisfied: scipy>=1.1.0 in /usr/local/lib/python3.9/dist-packages (from cvxpy) (1.10.1)\n",
            "Requirement already satisfied: numpy>=1.15 in /usr/local/lib/python3.9/dist-packages (from cvxpy) (1.22.4)\n",
            "Requirement already satisfied: setuptools>65.5.1 in /usr/local/lib/python3.9/dist-packages (from cvxpy) (67.6.1)\n",
            "Requirement already satisfied: scs>=1.1.6 in /usr/local/lib/python3.9/dist-packages (from cvxpy) (3.2.3)\n",
            "Requirement already satisfied: osqp>=0.4.1 in /usr/local/lib/python3.9/dist-packages (from cvxpy) (0.6.2.post0)\n",
            "Requirement already satisfied: qdldl in /usr/local/lib/python3.9/dist-packages (from osqp>=0.4.1->cvxpy) (0.1.7)\n"
          ]
        }
      ],
      "source": [
        "!pip install cvxpy numdifftools"
      ]
    },
    {
      "cell_type": "code",
      "execution_count": null,
      "id": "317e70af-20ee-4bac-9d70-9c9b1bcccfad",
      "metadata": {
        "tags": [],
        "id": "317e70af-20ee-4bac-9d70-9c9b1bcccfad"
      },
      "outputs": [],
      "source": [
        "import cvxpy as cp\n",
        "import numpy as np\n",
        "import numdifftools as nd\n",
        "import tqdm\n",
        "import time\n",
        "import pandas as pd\n",
        "from matplotlib import pyplot as plt\n",
        "import seaborn as sns\n",
        "from sklearn.datasets import make_spd_matrix"
      ]
    },
    {
      "cell_type": "markdown",
      "source": [
        "**Задача:**"
      ],
      "metadata": {
        "id": "UciOvY_wsk7p"
      },
      "id": "UciOvY_wsk7p"
    },
    {
      "cell_type": "markdown",
      "id": "ae693b35-76d0-49d8-ad22-d5b0ea748207",
      "metadata": {
        "id": "ae693b35-76d0-49d8-ad22-d5b0ea748207"
      },
      "source": [
        "$\\min{\\{(x - \\mu_0)^T \\cdot A \\cdot  (x - \\mu_0) : \\| x \\|^2_2 \\leq  1 \\}}$, \n",
        "where $x \\epsilon \\mathbb{R}^n $, $A$ - symmetric positive definite matrix, \n",
        "$\\mu_0$ is a vector of ones $= (1, 1, ..., 1)^T \\epsilon \\mathbb{R}^n$"
      ]
    },
    {
      "cell_type": "markdown",
      "id": "271e606e-9cce-4d22-bdea-4f5fa03bcd97",
      "metadata": {
        "id": "271e606e-9cce-4d22-bdea-4f5fa03bcd97"
      },
      "source": [
        "### 1. Исследуйте задачу на выпуклость. Запишите необходимые условия минимума (находить минимум аналитически не нужно)"
      ]
    },
    {
      "cell_type": "markdown",
      "source": [],
      "metadata": {
        "id": "zh1UByfKT8va"
      },
      "id": "zh1UByfKT8va"
    },
    {
      "cell_type": "markdown",
      "source": [
        "1. Выпуклость.\n",
        "\n",
        "1.1 Функция ограничения в виде неравенства выпукла как сумма выпуклых $x_i^2$.\n",
        "\n",
        "1.2. Рассмотрим выпуклость минимизируемой функции $ (x - \\mu_0)^T \\cdot A \\cdot  (x - \\mu_0) $, где $A$ - симметричная, положительно определенная матрица. Докажем выпуклость по критерию неотрицательной определенности матрицы Гессе.\n",
        "\n",
        "Для удобства вместо $(x - \\mu_0)$ будем писать просто $x$. \n",
        "\n",
        "Пусть $f = x^T \\cdot A \\cdot x$\n",
        "\n",
        "$$\\frac{\\partial f}{\\partial \\mathbf x}=\\begin{pmatrix} \\frac{\\partial f}{\\partial  x_1}  \\\\ \\vdots\\\\ \\frac{\\partial f}{\\partial  x_n} \\end{pmatrix}$$\n",
        "\n",
        "\\begin{align}\n",
        "f = x^T \\cdot A \\cdot x = \\sum_{i=1}^n\\sum_{j=1}^n a_{ij}x_ix_j&=\\sum_{i=1}^na_{i1}x_ix_1+\\sum_{j=1}^na_{1j}x_1x_j+\\sum_{i=2}^n\\sum_{j=2}^n a_{ij}x_ix_j\n",
        "\\end{align}\n",
        "\n",
        "Рассмотрим, например, $x_1$:\n",
        "\\begin{align}\n",
        "\\\\\\frac{\\partial f}{\\partial  x_1} &=\\sum_{i=1}^na_{i1}x_i+\\sum_{j=1}^na_{1j}x_j=\\sum_{i=1}^na_{1i}x_i+\\sum_{i=1}^na_{1i}x_i, (\\text{так как матрица симметрична}), =2\\sum_{i=1}^na_{1i}x_i\n",
        "\\end{align} \n",
        "Таким образом,\n",
        "\\begin{align}\n",
        "\\\\ \\frac{\\partial f}{\\partial \\mathbf x}&=\\begin{pmatrix} 2 \\sum_{i=1}^na_{1i}x_i \\\\ \\vdots\\\\ 2 \\sum_{i=1}^na_{ni}x_i \\end{pmatrix} \\\\&=2\\begin{pmatrix} a_{11} & a_{12} & \\dots & a_{1n}\\\\  \\vdots & \\vdots &\\ddots & \\vdots \\\\ a_{n1} & a_{n2} & \\dots & a_{nn} \\end{pmatrix}\\begin{pmatrix}x_1  \\\\ \\vdots \\\\ x_n \\end{pmatrix}\\\\ &= 2A\\mathbf x\n",
        "\\end{align} \n",
        "Тогда:\n",
        "\n",
        "\\begin{align}\n",
        "\\frac{\\partial^2 f}{\\partial \\mathbf x^2} = 2A \\succ 0, \\text{так как A положительно определенная матрица}\n",
        "\\end{align}"
      ],
      "metadata": {
        "id": "Lcobl86gAPNd"
      },
      "id": "Lcobl86gAPNd"
    },
    {
      "cell_type": "markdown",
      "source": [
        "Искомая задача выпукла. Теперь запишем необходимые условия минимума:\n",
        "\n"
      ],
      "metadata": {
        "id": "rP13W4tFeU63"
      },
      "id": "rP13W4tFeU63"
    },
    {
      "cell_type": "markdown",
      "source": [
        "Критерий выпуклости: \n",
        "$\\nabla f_0(x^*)^⊤(x − x^⋆) \\geq 0 \\space \\forall x : f_1(x) \\leq 0 \\space. x^* \\epsilon X$\n",
        "\n",
        "Для задачи с одним ограничением неравенством возможны 2 случая:\n",
        "1. $x^*$ лежит внутри области. Тогда $\\nabla f_0(x^*)=0$\n",
        "2. $x^*$ лежит на границе области. Тогда:\n",
        "\n",
        "\\begin{equation*}\n",
        "     \\begin{cases}\n",
        "       f_1(x^*) = 0 \\\\\n",
        "       -\\nabla f_0(x^*) = \\lambda \\cdot  \\nabla f_1(x^* ) \\\\\n",
        "       \\lambda \\geq  0\n",
        "     \\end{cases}\n",
        "\\end{equation*}"
      ],
      "metadata": {
        "id": "THYXtZEUeUuw"
      },
      "id": "THYXtZEUeUuw"
    },
    {
      "cell_type": "markdown",
      "id": "fdc1d0c7-49ae-453f-9abf-f525742a3cbb",
      "metadata": {
        "id": "fdc1d0c7-49ae-453f-9abf-f525742a3cbb"
      },
      "source": [
        "### 2. Для каждого n из {10, 20, ..., 100} сгенерируйте N=100 примеров. С помощью CVX найти глобальный минимум и проверить условие оптимальности"
      ]
    },
    {
      "cell_type": "markdown",
      "id": "be0b29d1-a90d-42f2-bbb2-4b7cb1286f9f",
      "metadata": {
        "id": "be0b29d1-a90d-42f2-bbb2-4b7cb1286f9f"
      },
      "source": [
        "Матрица $A$ симметрична и положительно определена тогда и только тогда, когда существует такая невырожденная матрица $B$, что $A = B^T*B$.\n",
        "\n",
        "Пусть $A = B^T*B$. $A$ - симметричная матрица, так как $A^T = (B^TB)^T = B^T(B^T)^T = B^TB$. Докажем её положительную определенность.\n",
        "\n",
        "Возьмем $x !=0, x \\epsilon \\mathbb{R}^n$.\n",
        "\n",
        "$x^TAx = x^T(B^TB)x = (x^TB^T)(Bx) = (Bx)^TBx$\n",
        "\n",
        "Пусть $c_i = \\sum_{k=1}^nb_{ik}*x_k$\n",
        "\n",
        "Тогда $(Bx)^TBx = \\sum_{i=1}^nc_{i}^2 \\geq 0$, т.е $\\forall x !=0 \\space x^TAx \\geq 0 \\Rightarrow A = B^T*B \\succcurlyeq 0$"
      ]
    },
    {
      "cell_type": "code",
      "execution_count": null,
      "id": "404c08c2-362c-4b8d-b527-05a9e9942f6c",
      "metadata": {
        "tags": [],
        "id": "404c08c2-362c-4b8d-b527-05a9e9942f6c"
      },
      "outputs": [],
      "source": [
        "# from collections import defaultdict\n",
        "# data = defaultdict(lambda: defaultdict(lambda: defaultdict(int, {'y_i': [], 'x_i': []})))\n",
        "\n",
        "data = {}"
      ]
    },
    {
      "cell_type": "code",
      "execution_count": null,
      "id": "2a40a98a-353b-4a26-b63a-199bd74442be",
      "metadata": {
        "tags": [],
        "id": "2a40a98a-353b-4a26-b63a-199bd74442be",
        "colab": {
          "base_uri": "https://localhost:8080/"
        },
        "outputId": "0bf24f88-7626-4163-a0f5-5fe6d1e80204"
      },
      "outputs": [
        {
          "output_type": "stream",
          "name": "stderr",
          "text": [
            "100%|██████████| 1000/1000 [01:32<00:00,  7.25it/s]"
          ]
        }
      ],
      "source": [
        "n_range = range(10, 101, 10)\n",
        "N = 100\n",
        "\n",
        "pbar = tqdm.tqdm(total=10*N, position=0, leave=True)\n",
        "for n in n_range:\n",
        "    mu_0 = np.ones(n)\n",
        "    data[n] = {}\n",
        "    for i in range(N):\n",
        "        # B = np.random.exponential(10, (n, n))\n",
        "        # B = np.random.rand(n,n)\n",
        "        # A = np.dot(B, B.T)\n",
        "        A = make_spd_matrix(n)\n",
        "        \n",
        "        data[n][i] = {}\n",
        "        data[n][i]['A'] = A\n",
        "        \n",
        "        x = cp.Variable(n)\n",
        "        \n",
        "        obj = cp.Minimize(cp.quad_form(x - mu_0, A))\n",
        "        constraints = [cp.norm(x) <= 1]\n",
        "        \n",
        "        prob = cp.Problem(obj, constraints)\n",
        "        try:\n",
        "            prob.solve()\n",
        "        except cp.SolverError:\n",
        "            prob.solve(solver=cp.SCS)\n",
        "        \n",
        "        # print(\"Optimal value: \", prob.value)\n",
        "        # print(\"Optimal solution: \", x.value)\n",
        "        \n",
        "        data[n][i]['x_true'] = x.value\n",
        "        data[n][i]['y_true'] = prob.value\n",
        "        pbar.update(1)\n",
        "        "
      ]
    },
    {
      "cell_type": "markdown",
      "source": [
        "Проверим:\n",
        "$ \\nabla f_0(x^*) = \\lambda \\cdot  \\nabla f_1(x^* ) \\\\       \\lambda \\geq  0$"
      ],
      "metadata": {
        "id": "h2F8VIHX3mjK"
      },
      "id": "h2F8VIHX3mjK"
    },
    {
      "cell_type": "code",
      "execution_count": null,
      "id": "4d435540-782c-4e83-be5a-e98935c475b9",
      "metadata": {
        "tags": [],
        "id": "4d435540-782c-4e83-be5a-e98935c475b9"
      },
      "outputs": [],
      "source": [
        "def fu_obj(A):\n",
        "    def f(x):\n",
        "        mu_0 = np.ones(x.shape[0])\n",
        "        return (x - mu_0).T @ A @ (x - mu_0)\n",
        "    return f\n",
        "\n",
        "def fu_lim(x):\n",
        "    return np.sum(x ** 2) - 1"
      ]
    },
    {
      "cell_type": "markdown",
      "source": [
        "Всего 100 * 10 = 1e3 тестов."
      ],
      "metadata": {
        "id": "9W4VkZNkv3R7"
      },
      "id": "9W4VkZNkv3R7"
    },
    {
      "cell_type": "code",
      "source": [
        "%%time\n",
        "rtol = 0.001\n",
        "\n",
        "good_cnt = 0\n",
        "bads = []\n",
        "for n in tqdm.tqdm(n_range, position=0, leave=True):\n",
        "    for i in range(N):\n",
        "        cur_x, cur_a = data[n][i]['x_true'], data[n][i]['A']\n",
        "        obj_grad = nd.Gradient(fu_obj(cur_a))([cur_x])\n",
        "        lim_grad = nd.Gradient(fu_lim)([cur_x])\n",
        "\n",
        "        # lambda_ = - obj_grad / lim_grad\n",
        "        # assert np.all(lambda_ >= 0)\n",
        "        # if np.allclose(lambda_, lambda_.mean(), rtol=rtol):\n",
        "\n",
        "        cos = np.dot(-obj_grad, lim_grad) / np.linalg.norm(obj_grad) / np.linalg.norm(lim_grad)\n",
        "        if np.isclose(cos, 1, rtol=rtol):\n",
        "            good_cnt+=1\n",
        "        else:\n",
        "            bads.append(cos)"
      ],
      "metadata": {
        "colab": {
          "base_uri": "https://localhost:8080/"
        },
        "id": "JTCvKICYtwSk",
        "outputId": "9831d50d-b3d8-4398-f18c-9f9e5faf27ec"
      },
      "id": "JTCvKICYtwSk",
      "execution_count": null,
      "outputs": [
        {
          "output_type": "stream",
          "name": "stderr",
          "text": [
            "100%|██████████| 10/10 [00:46<00:00,  4.65s/it]"
          ]
        },
        {
          "output_type": "stream",
          "name": "stdout",
          "text": [
            "CPU times: user 45.1 s, sys: 10.2 s, total: 55.2 s\n",
            "Wall time: 46.5 s\n"
          ]
        },
        {
          "output_type": "stream",
          "name": "stderr",
          "text": [
            "\n"
          ]
        }
      ]
    },
    {
      "cell_type": "code",
      "source": [
        "print(f'Процент тестов, \"непрошедших\" условие оптимальности {100 * (1 - good_cnt / 1e3)}')"
      ],
      "metadata": {
        "colab": {
          "base_uri": "https://localhost:8080/"
        },
        "id": "efsdYjj4z8_i",
        "outputId": "3d2e6ae9-670c-40e0-c25a-b882b1b41d45"
      },
      "id": "efsdYjj4z8_i",
      "execution_count": null,
      "outputs": [
        {
          "output_type": "stream",
          "name": "stdout",
          "text": [
            "Процент тестов, \"непрошедших\" условие оптимальности 0.0\n"
          ]
        }
      ]
    },
    {
      "cell_type": "markdown",
      "source": [
        "Если есть \"*непрошедшие*\" условие оптимальности тесты, то взглянем на них:"
      ],
      "metadata": {
        "id": "r0e85ijI3NhW"
      },
      "id": "r0e85ijI3NhW"
    },
    {
      "cell_type": "code",
      "source": [
        "if len(bads):\n",
        "  indicies = np.random.choice(len(bads), size=1)\n",
        "  bads = np.array(bads)\n",
        "  bads[indicies]"
      ],
      "metadata": {
        "id": "bFQNhgwD3cAB"
      },
      "id": "bFQNhgwD3cAB",
      "execution_count": null,
      "outputs": []
    },
    {
      "cell_type": "markdown",
      "source": [
        "Теперь посчитаем градиенты вручную"
      ],
      "metadata": {
        "id": "oScm5kGRqIUL"
      },
      "id": "oScm5kGRqIUL"
    },
    {
      "cell_type": "code",
      "source": [
        "def fu_obj_grad(A):\n",
        "    def f(x):\n",
        "        mu_0 = np.ones(x.shape[0])\n",
        "        return 2 * A @ (x - mu_0)\n",
        "    return f\n",
        "\n",
        "def fu_lim_grad(x):\n",
        "    return 2*x"
      ],
      "metadata": {
        "id": "VCD9NJ2eoF9_"
      },
      "id": "VCD9NJ2eoF9_",
      "execution_count": null,
      "outputs": []
    },
    {
      "cell_type": "code",
      "source": [
        "%%time\n",
        "rtol = 0.001\n",
        "\n",
        "good_cnt2 = 0\n",
        "bads2 = []\n",
        "for n in tqdm.tqdm(n_range):\n",
        "    for i in range(N):\n",
        "        cur_x, cur_a = data[n][i]['x_true'], data[n][i]['A']\n",
        "        obj_grad = fu_obj_grad(cur_a)(cur_x)\n",
        "        lim_grad = fu_lim_grad(cur_x)\n",
        "\n",
        "        cos = np.dot(-obj_grad, lim_grad) / np.linalg.norm(obj_grad) / np.linalg.norm(lim_grad)\n",
        "        if np.isclose(cos, 1, rtol=rtol):\n",
        "            good_cnt2+=1\n",
        "        else:\n",
        "            bads2.append(cos)"
      ],
      "metadata": {
        "colab": {
          "base_uri": "https://localhost:8080/"
        },
        "id": "CyFcyEcroYrT",
        "outputId": "4df18d3f-e3fa-4462-8d30-0d5d2eaeb366"
      },
      "id": "CyFcyEcroYrT",
      "execution_count": null,
      "outputs": [
        {
          "output_type": "stream",
          "name": "stderr",
          "text": [
            "\n",
            "100%|██████████| 10/10 [00:00<00:00, 123.36it/s]"
          ]
        },
        {
          "output_type": "stream",
          "name": "stdout",
          "text": [
            "CPU times: user 89.6 ms, sys: 14.6 ms, total: 104 ms\n",
            "Wall time: 91.3 ms\n"
          ]
        },
        {
          "output_type": "stream",
          "name": "stderr",
          "text": [
            "\n"
          ]
        }
      ]
    },
    {
      "cell_type": "markdown",
      "source": [
        "В 500 раз быстрее))"
      ],
      "metadata": {
        "id": "3hxLwkUQq4mK"
      },
      "id": "3hxLwkUQq4mK"
    },
    {
      "cell_type": "code",
      "source": [
        "print(f'Процент тестов, \"непрошедших\" условие оптимальности {100 * (1 - good_cnt2 / 1e3)}')"
      ],
      "metadata": {
        "colab": {
          "base_uri": "https://localhost:8080/"
        },
        "id": "N5AFaxT-o30p",
        "outputId": "6cd3e745-ca69-4bd8-9107-dbbe971cd937"
      },
      "id": "N5AFaxT-o30p",
      "execution_count": null,
      "outputs": [
        {
          "output_type": "stream",
          "name": "stdout",
          "text": [
            "Процент тестов, \"непрошедших\" условие оптимальности 0.0\n"
          ]
        }
      ]
    },
    {
      "cell_type": "code",
      "source": [
        "np.all([np.allclose(np.array(bad, dtype=float), np.array(bad2, dtype=float)) for (bad, bad2) in zip(bads, bads2)])"
      ],
      "metadata": {
        "colab": {
          "base_uri": "https://localhost:8080/"
        },
        "id": "UnJVgZCfo_I_",
        "outputId": "63c21371-5053-46ca-90cb-e49d3d50eb44"
      },
      "id": "UnJVgZCfo_I_",
      "execution_count": null,
      "outputs": [
        {
          "output_type": "execute_result",
          "data": {
            "text/plain": [
              "True"
            ]
          },
          "metadata": {},
          "execution_count": 20
        }
      ]
    },
    {
      "cell_type": "markdown",
      "source": [
        "### 3. Для каждого n из {10, 20, ..., 100} и для каждого из N примеров сгенерируйте 100 начальных точек. Реализуйте метод **Gradient descent for strongly convex and smooth functions** для заданной точности e = 0.01\n",
        "\n",
        "Реализуем функцию проекции Х на ограничения и генератор начального Х:"
      ],
      "metadata": {
        "id": "E1UuiZbyuEKS"
      },
      "id": "E1UuiZbyuEKS"
    },
    {
      "cell_type": "code",
      "source": [
        "def make_projection(x):\n",
        "  norm = np.linalg.norm(x)\n",
        "  if norm > 1:\n",
        "      return x / np.linalg.norm(x)\n",
        "  return x\n",
        "\n",
        "def make_x(n):\n",
        "  return make_projection(np.random.rand(n)*2-1)"
      ],
      "metadata": {
        "id": "fywFug0Mwr6S"
      },
      "id": "fywFug0Mwr6S",
      "execution_count": null,
      "outputs": []
    },
    {
      "cell_type": "code",
      "source": [
        "%%time\n",
        "n_starts = 100\n",
        "eps = 0.01\n",
        "max_iter = 100\n",
        "\n",
        "iters = []\n",
        "not_max_iters = []\n",
        "times = []\n",
        "pbar = tqdm.tqdm(total=10*N*n_starts, position=0, leave=True)\n",
        "for n in n_range:\n",
        "    t_start = time.time()\n",
        "    overall_iters = 0\n",
        "    overall_not_max_iters = 0\n",
        "    undertrained_count = 0\n",
        "    for i in range(N):\n",
        "        a = data[n][i][\"A\"]\n",
        "        u, s, vt = np.linalg.svd(a)\n",
        "        beta = s[0]\n",
        "        alpha = s[-1]\n",
        "        data[n][i][\"sing_frac\"] = alpha / beta\n",
        "        sum_iters_on_a = 0\n",
        "        nu = 2 / (alpha + beta)\n",
        "        for start in range(n_starts):\n",
        "            x = make_x(n)\n",
        "            data[n][i][f\"x_{start}\"] = x\n",
        "            y = fu_obj(a)(x)\n",
        "            iter_num = 0\n",
        "\n",
        "            while not np.isclose(y, data[n][i][\"y_true\"], atol=eps):\n",
        "                if iter_num == max_iter:\n",
        "                    undertrained_count += 1\n",
        "                    break\n",
        "                x -= nu * fu_obj_grad(a)(x)\n",
        "                x = make_projection(x)\n",
        "                y = fu_obj(a)(x)\n",
        "                iter_num += 1\n",
        "            overall_iters += iter_num\n",
        "            sum_iters_on_a += iter_num\n",
        "            if iter_num < max_iter:\n",
        "                overall_not_max_iters += iter_num\n",
        "            \n",
        "            data[n][i][f\"y_{start}\"] = y\n",
        "            pbar.update(1)\n",
        "        data[n][i][\"conv_rate\"] = sum_iters_on_a / n_starts\n",
        "    times.append((time.time() - t_start) / N / n_starts)\n",
        "    iters.append(overall_iters / N / n_starts)\n",
        "    not_max_iters.append(overall_not_max_iters / (N * n_starts - undertrained_count))\n",
        "    if undertrained_count:\n",
        "        print(f\"{undertrained_count} undertrained cases on size {n}\")"
      ],
      "metadata": {
        "id": "Na1uqiPVt5Dw",
        "colab": {
          "base_uri": "https://localhost:8080/"
        },
        "outputId": "5bbc93bf-283b-4dd7-da73-e02695100d9b"
      },
      "id": "Na1uqiPVt5Dw",
      "execution_count": null,
      "outputs": [
        {
          "output_type": "stream",
          "name": "stderr",
          "text": [
            " 10%|█         | 10000/100000 [06:57<1:02:35, 23.96it/s]\n",
            " 10%|█         | 10129/100000 [00:16<00:53, 1694.33it/s]"
          ]
        },
        {
          "output_type": "stream",
          "name": "stdout",
          "text": [
            "999 undertrained cases on size 10\n"
          ]
        },
        {
          "output_type": "stream",
          "name": "stderr",
          "text": [
            " 20%|██        | 20214/100000 [00:27<00:53, 1482.95it/s]"
          ]
        },
        {
          "output_type": "stream",
          "name": "stdout",
          "text": [
            "400 undertrained cases on size 20\n"
          ]
        },
        {
          "output_type": "stream",
          "name": "stderr",
          "text": [
            " 30%|███       | 30167/100000 [00:40<01:42, 682.00it/s]"
          ]
        },
        {
          "output_type": "stream",
          "name": "stdout",
          "text": [
            "300 undertrained cases on size 30\n"
          ]
        },
        {
          "output_type": "stream",
          "name": "stderr",
          "text": [
            " 40%|████      | 40101/100000 [00:58<01:22, 728.49it/s]"
          ]
        },
        {
          "output_type": "stream",
          "name": "stdout",
          "text": [
            "700 undertrained cases on size 40\n"
          ]
        },
        {
          "output_type": "stream",
          "name": "stderr",
          "text": [
            " 50%|█████     | 50158/100000 [01:16<02:16, 366.28it/s]"
          ]
        },
        {
          "output_type": "stream",
          "name": "stdout",
          "text": [
            "500 undertrained cases on size 50\n"
          ]
        },
        {
          "output_type": "stream",
          "name": "stderr",
          "text": [
            " 60%|██████    | 60159/100000 [01:33<00:49, 801.51it/s]"
          ]
        },
        {
          "output_type": "stream",
          "name": "stdout",
          "text": [
            "400 undertrained cases on size 60\n"
          ]
        },
        {
          "output_type": "stream",
          "name": "stderr",
          "text": [
            " 70%|███████   | 70061/100000 [01:52<01:16, 392.31it/s]"
          ]
        },
        {
          "output_type": "stream",
          "name": "stdout",
          "text": [
            "400 undertrained cases on size 70\n"
          ]
        },
        {
          "output_type": "stream",
          "name": "stderr",
          "text": [
            " 80%|████████  | 80101/100000 [02:10<00:25, 765.48it/s]"
          ]
        },
        {
          "output_type": "stream",
          "name": "stdout",
          "text": [
            "300 undertrained cases on size 80\n"
          ]
        },
        {
          "output_type": "stream",
          "name": "stderr",
          "text": [
            " 90%|████████▉ | 89943/100000 [02:29<00:14, 714.57it/s]"
          ]
        },
        {
          "output_type": "stream",
          "name": "stdout",
          "text": [
            "500 undertrained cases on size 90\n"
          ]
        },
        {
          "output_type": "stream",
          "name": "stderr",
          "text": [
            "100%|█████████▉| 99933/100000 [02:57<00:00, 743.99it/s]"
          ]
        },
        {
          "output_type": "stream",
          "name": "stdout",
          "text": [
            "400 undertrained cases on size 100\n",
            "CPU times: user 2min 50s, sys: 1min 15s, total: 4min 6s\n",
            "Wall time: 2min 57s\n"
          ]
        }
      ]
    },
    {
      "cell_type": "markdown",
      "source": [
        "### 4. Принцип работы метода.\n",
        "\n",
        "В нашем задании в качестве learning rate (nu) в статье было предложено брать число 2 / (alpha + beta), где alpha - наименьшее и beta - наибольшее собственное число матрицы Гессе (2А).\n",
        "\n",
        "В начале работы мы выбираем случайную точку Х, из которой будет стартовать градиентный спуск. Затем, пока не выполнятся условия сходимости, делаются следующие шаги:\n",
        " - Находим новое приближение Х, шагом в сторону антиградиента с коэффициентом nu\n",
        " - Проецируем Х на ограничения (шар единичного радиуса)\n",
        " - Находим соответствующий Y.\n",
        "\n",
        "Условие выхода из такого цикла - отличие Y от настоящего минимума не более, чем на e (0.01) \n",
        "\n",
        "\n",
        "### 5. Что мы можем понять исходя из полученных данных.\n",
        "\n",
        "Посмотрим зависимость скорости и времени сходимости от размера данных:"
      ],
      "metadata": {
        "id": "Y4QPCmXe-Wha"
      },
      "id": "Y4QPCmXe-Wha"
    },
    {
      "cell_type": "code",
      "source": [
        "stats = pd.DataFrame({\"avg_iter_cnt\": iters,\n",
        "                      \"avg_norm_iter_cnt\": not_max_iters,\n",
        "                      \"avg_time\": times}, index=[i for i in n_range])\n",
        "stats[\"avg_time\"] *= 1000"
      ],
      "metadata": {
        "id": "NBr5IC5gw5rw"
      },
      "id": "NBr5IC5gw5rw",
      "execution_count": null,
      "outputs": []
    },
    {
      "cell_type": "code",
      "source": [
        "stats[\"avg_iter_cnt\"].plot()\n",
        "stats[\"avg_norm_iter_cnt\"].plot()\n",
        "plt.xlabel(\"Matrix size\")\n",
        "plt.ylabel(\"Average iterations count\")\n",
        "plt.legend([\"All iters\", \"Only finished iters\"])"
      ],
      "metadata": {
        "colab": {
          "base_uri": "https://localhost:8080/",
          "height": 466
        },
        "id": "jedqz6en9ebn",
        "outputId": "bb02900a-cf30-45f6-c669-f39d19aeddb7"
      },
      "id": "jedqz6en9ebn",
      "execution_count": null,
      "outputs": [
        {
          "output_type": "execute_result",
          "data": {
            "text/plain": [
              "<matplotlib.legend.Legend at 0x7fd417451fa0>"
            ]
          },
          "metadata": {},
          "execution_count": 59
        },
        {
          "output_type": "display_data",
          "data": {
            "text/plain": [
              "<Figure size 640x480 with 1 Axes>"
            ],
            "image/png": "[encoded data removed]"
          },
          "metadata": {}
        }
      ]
    },
    {
      "cell_type": "code",
      "source": [
        "stats[\"avg_time\"].plot()\n",
        "plt.xlabel(\"Matrix size\")\n",
        "plt.ylabel(\"Average computation time, ms\")"
      ],
      "metadata": {
        "colab": {
          "base_uri": "https://localhost:8080/",
          "height": 466
        },
        "id": "vDmWt1eN9r97",
        "outputId": "2d9fb712-e2c7-4fb0-b1bc-ad0766b6b713"
      },
      "id": "vDmWt1eN9r97",
      "execution_count": null,
      "outputs": [
        {
          "output_type": "execute_result",
          "data": {
            "text/plain": [
              "Text(0, 0.5, 'Average computation time, ms')"
            ]
          },
          "metadata": {},
          "execution_count": 60
        },
        {
          "output_type": "display_data",
          "data": {
            "text/plain": [
              "<Figure size 640x480 with 1 Axes>"
            ],
            "image/png": "[encoded data removed]"
          },
          "metadata": {}
        }
      ]
    },
    {
      "cell_type": "markdown",
      "source": [
        "С ростом размерности данных время (и число итераций, необходимых для сходимости) растут.\n",
        "\n",
        "Зависимость точности от числа итераций:"
      ],
      "metadata": {
        "id": "fDbzbObY6hqd"
      },
      "id": "fDbzbObY6hqd"
    },
    {
      "cell_type": "code",
      "source": [
        "n_cur = 10\n",
        "i_cur = 5\n",
        "start_cur = 0\n",
        "\n",
        "a = data[n_cur][i_cur][\"A\"]\n",
        "u, s, vt = np.linalg.svd(a)\n",
        "beta = s[0]\n",
        "alpha = s[-1]\n",
        "nu = 2 / (alpha + beta)\n",
        "\n",
        "errs = []\n",
        "x = data[n_cur][i_cur][f\"x_{start_cur}\"]\n",
        "y = fu_obj(a)(x)\n",
        "iter_num = 0\n",
        "\n",
        "while not np.isclose(y, data[n_cur][i_cur][\"y_true\"], atol=eps):\n",
        "    errs.append(np.linalg.norm(y - data[n_cur][i_cur][\"y_true\"]))\n",
        "    if iter_num == max_iter:\n",
        "        break\n",
        "    x -= nu * fu_obj_grad(a)(x)\n",
        "    x = make_projection(x)\n",
        "    y = fu_obj(a)(x)\n",
        "    iter_num += 1"
      ],
      "metadata": {
        "id": "ElesXRqm6g7X"
      },
      "id": "ElesXRqm6g7X",
      "execution_count": null,
      "outputs": []
    },
    {
      "cell_type": "code",
      "source": [
        "pd.Series(errs).plot()\n",
        "plt.yscale(\"log\")\n",
        "plt.xlabel(\"Iterations count\")\n",
        "plt.ylabel(\"Absolute error\")"
      ],
      "metadata": {
        "colab": {
          "base_uri": "https://localhost:8080/",
          "height": 466
        },
        "id": "GCJc-gn36g5a",
        "outputId": "823580f3-a979-49d6-f231-2c3a171c2d9f"
      },
      "id": "GCJc-gn36g5a",
      "execution_count": null,
      "outputs": [
        {
          "output_type": "execute_result",
          "data": {
            "text/plain": [
              "Text(0, 0.5, 'Absolute error')"
            ]
          },
          "metadata": {},
          "execution_count": 97
        },
        {
          "output_type": "display_data",
          "data": {
            "text/plain": [
              "<Figure size 640x480 with 1 Axes>"
            ],
            "image/png": "[encoded data removed]"
          },
          "metadata": {}
        }
      ]
    },
    {
      "cell_type": "markdown",
      "source": [
        "С увеличением числа итераций точность имеет тренд к уменьшению, но в некоторых случаях \"блуждания\" (как на картинке) оптимальное решение так и не достигается.\n",
        "\n",
        "Посмотрим на зависимость сорости сходимости от отношения собственных чисел:"
      ],
      "metadata": {
        "id": "NWg4eVo59eFl"
      },
      "id": "NWg4eVo59eFl"
    },
    {
      "cell_type": "code",
      "source": [
        "df = pd.DataFrame({\"sing_frac\": [data[10][i][\"sing_frac\"] for i in range(N)],\n",
        "                   \"conv_rate\": [data[10][i][\"conv_rate\"] for i in range(N)],})\n",
        "df = df.loc[df[\"conv_rate\"] < 95]\n",
        "sns.regplot(df, y=\"conv_rate\", x=\"sing_frac\")"
      ],
      "metadata": {
        "colab": {
          "base_uri": "https://localhost:8080/",
          "height": 467
        },
        "id": "RwbXoUGE06Pp",
        "outputId": "5ac77bd3-5ed5-4442-f9bc-cfb5e62f9d42"
      },
      "id": "RwbXoUGE06Pp",
      "execution_count": null,
      "outputs": [
        {
          "output_type": "execute_result",
          "data": {
            "text/plain": [
              "<Axes: xlabel='sing_frac', ylabel='conv_rate'>"
            ]
          },
          "metadata": {},
          "execution_count": 98
        },
        {
          "output_type": "display_data",
          "data": {
            "text/plain": [
              "<Figure size 640x480 with 1 Axes>"
            ],
            "image/png": "[encoded data removed]"
          },
          "metadata": {}
        }
      ]
    },
    {
      "cell_type": "code",
      "source": [
        "df = pd.DataFrame({\"sing_frac\": [data[50][i][\"sing_frac\"] for i in range(N)],\n",
        "                   \"conv_rate\": [data[50][i][\"conv_rate\"] for i in range(N)],})\n",
        "df = df.loc[df[\"conv_rate\"] < 95]\n",
        "sns.regplot(df, y=\"conv_rate\", x=\"sing_frac\")"
      ],
      "metadata": {
        "colab": {
          "base_uri": "https://localhost:8080/",
          "height": 467
        },
        "id": "dxq-H9ff5Nn5",
        "outputId": "388bb43a-d39a-448c-cabf-5c7550e23c61"
      },
      "id": "dxq-H9ff5Nn5",
      "execution_count": null,
      "outputs": [
        {
          "output_type": "execute_result",
          "data": {
            "text/plain": [
              "<Axes: xlabel='sing_frac', ylabel='conv_rate'>"
            ]
          },
          "metadata": {},
          "execution_count": 99
        },
        {
          "output_type": "display_data",
          "data": {
            "text/plain": [
              "<Figure size 640x480 with 1 Axes>"
            ],
            "image/png": "[encoded data removed]"
          },
          "metadata": {}
        }
      ]
    },
    {
      "cell_type": "markdown",
      "source": [
        "Как и ожидалось, имеется обратная зависимость между отношением сингулярных чисел и скоростью сходимости градиентного спуска."
      ],
      "metadata": {
        "id": "EPmJuwU-9m68"
      },
      "id": "EPmJuwU-9m68"
    }
  ],
  "metadata": {
    "kernelspec": {
      "display_name": "Python 3 (ipykernel)",
      "language": "python",
      "name": "python3"
    },
    "language_info": {
      "codemirror_mode": {
        "name": "ipython",
        "version": 3
      },
      "file_extension": ".py",
      "mimetype": "text/x-python",
      "name": "python",
      "nbconvert_exporter": "python",
      "pygments_lexer": "ipython3",
      "version": "3.10.6"
    },
    "colab": {
      "provenance": []
    }
  },
  "nbformat": 4,
  "nbformat_minor": 5
}